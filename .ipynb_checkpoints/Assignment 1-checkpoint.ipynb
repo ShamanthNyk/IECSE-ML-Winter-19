{
 "cells": [
  {
   "cell_type": "markdown",
   "metadata": {},
   "source": [
    "## Part 1"
   ]
  },
  {
   "cell_type": "code",
   "execution_count": 1,
   "metadata": {},
   "outputs": [],
   "source": [
    "def last_element(l):\n",
    "    return l[len(l)-1]\n",
    "\"\"\"Testing code for last_element\"\"\"\n",
    "assert last_element([1]) == 1\n",
    "assert last_element([\"Hello\", \"World\"]) == \"World\""
   ]
  },
  {
   "cell_type": "markdown",
   "metadata": {},
   "source": [
    "## Part 2"
   ]
  },
  {
   "cell_type": "code",
   "execution_count": 2,
   "metadata": {},
   "outputs": [],
   "source": [
    "def num_elements(l):\n",
    "    \"\"\"\n",
    "    Returns number of elements in the list l\n",
    "    \"\"\"\n",
    "    return len(l) \n",
    "\"\"\"Testing code for num_elements\"\"\"\n",
    "assert num_elements([2, 3, 4])==3"
   ]
  },
  {
   "cell_type": "markdown",
   "metadata": {},
   "source": [
    "## Part 3"
   ]
  },
  {
   "cell_type": "code",
   "execution_count": 4,
   "metadata": {},
   "outputs": [],
   "source": [
    "def reverse_list(l):\n",
    "    \"\"\"\n",
    "    Returns the reverse of a list l\n",
    "    \"\"\"\n",
    "    rev=[]\n",
    "    for i in range(len(l)):\n",
    "        rev.append(l[len(l)-1-i])\n",
    "    return rev\n",
    "\"\"\"Testing code for reverse_list\"\"\"\n",
    "assert reverse_list([2, 3, 4])== [4, 3, 2]"
   ]
  },
  {
   "cell_type": "markdown",
   "metadata": {},
   "source": [
    "## Part 4"
   ]
  },
  {
   "cell_type": "code",
   "execution_count": 5,
   "metadata": {},
   "outputs": [],
   "source": [
    "def is_palindrome(l):\n",
    "    \"\"\"\n",
    "    Returns True if l is a palindrome, False otherwise\n",
    "    \"\"\"\n",
    "    a=l[0]\n",
    "    b=l[len(l)-1]\n",
    "    while(not(a is b)):\n",
    "        if(a!=b):\n",
    "            return False\n",
    "    return True\n",
    "\"\"\"Testing code for is_palindrome\"\"\"\n",
    "\n",
    "assert(is_palindrome([1, 2, 1])) == True\n",
    "assert(is_palindrome([1, 2, 3, 2, 1])) == True\n",
    "assert(is_palindrome([1, 2, 3, 4])) == False\n"
   ]
  },
  {
   "cell_type": "markdown",
   "metadata": {},
   "source": [
    "## Part 5"
   ]
  },
  {
   "cell_type": "code",
   "execution_count": 9,
   "metadata": {},
   "outputs": [],
   "source": [
    "def compress(l):\n",
    "    \"\"\"\n",
    "    Returns a list with consecutive duplicate elements replaced by a single element\n",
    "    \"\"\"\n",
    "    ans=[]\n",
    "    for i in range(len(l)):\n",
    "        if(l[i]!=l[i-1] or i==0):\n",
    "            ans.append(l[i])\n",
    "    return ans\n",
    "\"\"\"Testing code for compress\"\"\"\n",
    "\n",
    "assert(compress([1, 2, 2])) == [1, 2]\n",
    "assert(compress([1, 2, 2, 2, 1, 1, 3, 'x', 'x', 'x'])) == [1, 2, 1, 3, 'x']"
   ]
  },
  {
   "cell_type": "markdown",
   "metadata": {},
   "source": [
    "## Part 6"
   ]
  },
  {
   "cell_type": "code",
   "execution_count": 12,
   "metadata": {},
   "outputs": [],
   "source": [
    "def pack(l):\n",
    "    \"\"\"\n",
    "    Returns a list with consecutive duplicate elements packed into sublists\n",
    "    \"\"\"\n",
    "    cl=[]\n",
    "    sl=[]\n",
    "    sl.append(l[0])\n",
    "    for i in range(1, len(l)):\n",
    "        if(l[i]!=l[i-1]):\n",
    "            cl.append(sl)\n",
    "            sl=[]\n",
    "            sl.append(l[i])\n",
    "        else:\n",
    "            sl.append(l[i])\n",
    "    cl.append(sl)\n",
    "    return cl\n",
    "\"\"\"Testing code for pack\"\"\"\n",
    "assert(pack([1, 1, 1, 2]) == [[1, 1, 1], [2]])\n",
    "assert(pack([1, 1, 1, 2, 1, 1, 3, 3, 3])) == [[1, 1, 1], [2], [1, 1], [3, 3, 3]]"
   ]
  },
  {
   "cell_type": "markdown",
   "metadata": {},
   "source": [
    "## Part 7"
   ]
  },
  {
   "cell_type": "code",
   "execution_count": 13,
   "metadata": {},
   "outputs": [],
   "source": [
    "def slice(l, i, k):\n",
    "    \"\"\"\n",
    "    Returns a list containing the elements between i'th and k'th elements of original list l.\n",
    "    \"\"\" \n",
    "    return l[i:k]\n",
    "\"\"\"Testing code for slice\"\"\"\n",
    "assert(slice([1, 3, 8, 9, 7], 1, 3)) == [3,8]\n",
    "assert(slice([1, 4, 6, 'x', 9, 0], 2, 10)) == [6, 'x', 9, 0]"
   ]
  },
  {
   "cell_type": "markdown",
   "metadata": {},
   "source": [
    "## Part 8"
   ]
  },
  {
   "cell_type": "code",
   "execution_count": 14,
   "metadata": {},
   "outputs": [],
   "source": [
    "def insert_element(l, i, elem):\n",
    "    \"\"\"\n",
    "    Returns a new list containing elem at index i. If i > len (l), insert element at the end of the list\n",
    "    \"\"\"\n",
    "    l.insert(i, elem)\n",
    "    return l\n",
    "\"\"\"Testing code for insert_element\"\"\"\n",
    "assert(insert_element([1, 2, 3, 4,], 2, 5)[2]) == 5\n",
    "assert(insert_element([1, 5, ], 3, 5)) == [1, 5, 5]"
   ]
  },
  {
   "cell_type": "code",
   "execution_count": null,
   "metadata": {},
   "outputs": [],
   "source": []
  }
 ],
 "metadata": {
  "kernelspec": {
   "display_name": "Python 3",
   "language": "python",
   "name": "python3"
  },
  "language_info": {
   "codemirror_mode": {
    "name": "ipython",
    "version": 3
   },
   "file_extension": ".py",
   "mimetype": "text/x-python",
   "name": "python",
   "nbconvert_exporter": "python",
   "pygments_lexer": "ipython3",
   "version": "3.7.3"
  }
 },
 "nbformat": 4,
 "nbformat_minor": 2
}
