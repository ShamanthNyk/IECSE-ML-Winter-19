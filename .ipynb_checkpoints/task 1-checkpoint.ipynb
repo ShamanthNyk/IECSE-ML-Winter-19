{
 "cells": [
  {
   "cell_type": "code",
   "execution_count": 3,
   "metadata": {},
   "outputs": [
    {
     "data": {
      "text/plain": [
       "4"
      ]
     },
     "execution_count": 3,
     "metadata": {},
     "output_type": "execute_result"
    }
   ],
   "source": [
    "def last_element(l):\n",
    "    return l[-1]\n",
    "\"\"\"Testing code for last_element\"\"\"\n",
    "assert last_element([1]) == 1\n",
    "assert last_element([\"Hello\", \"World\"]) == \"World\""
   ]
  },
  {
   "cell_type": "code",
   "execution_count": 6,
   "metadata": {},
   "outputs": [
    {
     "data": {
      "text/plain": [
       "3"
      ]
     },
     "execution_count": 6,
     "metadata": {},
     "output_type": "execute_result"
    }
   ],
   "source": [
    "def num_elements(l):\n",
    "    \"\"\"\n",
    "    Returns number of elements in the list l\n",
    "    \"\"\"\n",
    "    # YOUR CODE HERE\n",
    "    n = 0\n",
    "    for i in l:\n",
    "        n = n+1\n",
    "    return n\n",
    "\"\"\"Testing code for num_elements\"\"\"\n",
    "assert num_elements([2, 3, 4])==3"
   ]
  },
  {
   "cell_type": "code",
   "execution_count": 14,
   "metadata": {},
   "outputs": [],
   "source": [
    "def reverse_list(l):\n",
    "    \"\"\"\n",
    "    Returns the reverse of a list l\n",
    "    \"\"\"\n",
    "    # YOUR CODE HERE\n",
    "    n = 0\n",
    "    for i in l:\n",
    "        n = n+1\n",
    "    for i in range(0, n//2, 1):\n",
    "        temp = l[i]\n",
    "        l[i] = l[n-i-1]\n",
    "        l[n-i-1] = temp\n",
    "    return (l)\n",
    "\"\"\"Testing code for reverse_list\"\"\"\n",
    "assert reverse_list([2, 3, 4])== [4, 3, 2]\n"
   ]
  },
  {
   "cell_type": "code",
   "execution_count": 16,
   "metadata": {},
   "outputs": [],
   "source": [
    "def is_palindrome(l):\n",
    "    \"\"\"\n",
    "    Returns True if l is a palindrome, False otherwise\n",
    "    \"\"\"\n",
    "    # YOUR CODE HERE\n",
    "    n,f = 0,0\n",
    "    for i in l:\n",
    "        n = n+1\n",
    "    for i in range(0,n//2,1):\n",
    "        if (l[i] != l[n-i-1]):\n",
    "            f = 1\n",
    "            break\n",
    "    if(f):\n",
    "        return False\n",
    "    else:\n",
    "        return True\n",
    "\"\"\"Testing code for is_palindrome\"\"\"\n",
    "\n",
    "assert(is_palindrome([1, 2, 1])) == True\n",
    "assert(is_palindrome([1, 2, 3, 2, 1])) == True\n",
    "assert(is_palindrome([1, 2, 3, 4])) == False"
   ]
  },
  {
   "cell_type": "code",
   "execution_count": 53,
   "metadata": {},
   "outputs": [
    {
     "data": {
      "text/plain": [
       "[1, 2, 1, 3, 'x']"
      ]
     },
     "execution_count": 53,
     "metadata": {},
     "output_type": "execute_result"
    }
   ],
   "source": [
    "def compress(l):\n",
    "    \"\"\"\n",
    "    Returns a list with consecutive duplicate elements replaced by a single element\n",
    "    \"\"\"\n",
    "    # YOUR CODE HERE\n",
    "    l1 = []\n",
    "    n = 0\n",
    "    for i in l:\n",
    "        n = n+1\n",
    "    for i in range(0,n):\n",
    "        if(l[i] != l[i-1]):\n",
    "            l1.append(l[i])\n",
    "    return l1\n",
    "\"\"\"Testing code for compress\"\"\"\n",
    "\n",
    "assert(compress([1, 2, 2])) == [1, 2]\n",
    "assert(compress([1, 2, 2, 2, 1, 1, 3, 'x', 'x', 'x'])) == [1, 2, 1, 3, 'x']\n",
    "\n",
    "6"
   ]
  },
  {
   "cell_type": "code",
   "execution_count": 1,
   "metadata": {},
   "outputs": [
    {
     "ename": "SyntaxError",
     "evalue": "unexpected EOF while parsing (<ipython-input-1-e801df7e978f>, line 10)",
     "output_type": "error",
     "traceback": [
      "\u001b[0;36m  File \u001b[0;32m\"<ipython-input-1-e801df7e978f>\"\u001b[0;36m, line \u001b[0;32m10\u001b[0m\n\u001b[0;31m    \u001b[0m\n\u001b[0m    ^\u001b[0m\n\u001b[0;31mSyntaxError\u001b[0m\u001b[0;31m:\u001b[0m unexpected EOF while parsing\n"
     ]
    }
   ],
   "source": []
  },
  {
   "cell_type": "code",
   "execution_count": 16,
   "metadata": {},
   "outputs": [],
   "source": [
    "def slice(l, i, k):\n",
    "    \"\"\"\n",
    "    Returns a list containing the elements between i'th and k'th elements of original list l.\n",
    "    \"\"\"  \n",
    "    # YOUR CODE HERE\n",
    "    l1 = []\n",
    "    n=0\n",
    "    for j in l:\n",
    "        n += 1\n",
    "    if k>n:\n",
    "        k = n\n",
    "    for j in range(i,k,1):\n",
    "        l1.append(l[j])\n",
    "    return l1\n",
    "\"\"\"Testing code for slice\"\"\"\n",
    "assert(slice([1, 3, 8, 9, 7], 1, 3)) == [3,8]\n",
    "assert(slice([1, 4, 6, 'x', 9, 0], 2, 10)) == [6, 'x', 9, 0]"
   ]
  },
  {
   "cell_type": "code",
   "execution_count": 12,
   "metadata": {},
   "outputs": [],
   "source": [
    "def insert_element(l, i, elem):\n",
    "    \"\"\"\n",
    "    Returns a new list containing elem at index i. If i > len (l), insert element at the end of the list\n",
    "    \"\"\"      \n",
    "    # YOUR CODE HERE\n",
    "    l1 = []\n",
    "    n=len(l)\n",
    "#     print (n)\n",
    "    if i > n:\n",
    "        i = n\n",
    "        n=n+1\n",
    "    for j in range(0,n):\n",
    "        if(j != i):\n",
    "            l1.append(l[j])\n",
    "        else:\n",
    "            l1.append(elem)\n",
    "#             j-=1\n",
    "    return l1\n",
    "\"\"\"Testing code for insert_element\"\"\"\n",
    "assert(insert_element([1, 2, 3, 4,], 2, 5)[2]) == 5\n",
    "assert(insert_element([1, 5, ], 3, 5)) == [1, 5, 5]"
   ]
  },
  {
   "cell_type": "code",
   "execution_count": null,
   "metadata": {},
   "outputs": [],
   "source": []
  }
 ],
 "metadata": {
  "kernelspec": {
   "display_name": "Python 3",
   "language": "python",
   "name": "python3"
  },
  "language_info": {
   "codemirror_mode": {
    "name": "ipython",
    "version": 3
   },
   "file_extension": ".py",
   "mimetype": "text/x-python",
   "name": "python",
   "nbconvert_exporter": "python",
   "pygments_lexer": "ipython3",
   "version": "3.7.3"
  }
 },
 "nbformat": 4,
 "nbformat_minor": 2
}
