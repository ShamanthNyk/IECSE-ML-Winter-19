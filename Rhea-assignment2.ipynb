{
 "cells": [
  {
   "cell_type": "code",
   "execution_count": 3,
   "metadata": {},
   "outputs": [],
   "source": [
    "import numpy as np"
   ]
  },
  {
   "cell_type": "code",
   "execution_count": 4,
   "metadata": {},
   "outputs": [
    {
     "ename": "SyntaxError",
     "evalue": "unexpected EOF while parsing (<ipython-input-4-ed8aee55725b>, line 4)",
     "output_type": "error",
     "traceback": [
      "\u001b[0;36m  File \u001b[0;32m\"<ipython-input-4-ed8aee55725b>\"\u001b[0;36m, line \u001b[0;32m4\u001b[0m\n\u001b[0;31m    \u001b[0m\n\u001b[0m    ^\u001b[0m\n\u001b[0;31mSyntaxError\u001b[0m\u001b[0;31m:\u001b[0m unexpected EOF while parsing\n"
     ]
    }
   ],
   "source": [
    "arr = [1, 3, 7, 1, 2, 6, 0, 1]\n",
    "stride_len = 2 , window_len = 4\n",
    "def gen_strides(a, stride_len, window_len):\n",
    "    "
   ]
  },
  {
   "cell_type": "code",
   "execution_count": 7,
   "metadata": {},
   "outputs": [
    {
     "name": "stdout",
     "output_type": "stream",
     "text": [
      "[1, 3, 5, 7]\n"
     ]
    }
   ],
   "source": [
    "#match\n",
    "a = np.array([1,2,3,2,3,4,3,4,5,6]) \n",
    "b = np.array([7,2,10,2,7,4,9,4,9,8]) \n",
    "c=[]\n",
    "asize=np.size(a)\n",
    "def match(a,b):\n",
    "    for i in range(0,asize):\n",
    "        if (a[i]==b[i]):\n",
    "            c.append(i)\n",
    "    return c\n",
    "print(match(a,b))"
   ]
  },
  {
   "cell_type": "code",
   "execution_count": 8,
   "metadata": {},
   "outputs": [
    {
     "name": "stdout",
     "output_type": "stream",
     "text": [
      "[[ 6  1  1]\n",
      " [ 4 -2  5]\n",
      " [ 2  8  7]]\n",
      "[[ 0.16666667  0.          0.        ]\n",
      " [ 0.         -0.5         0.        ]\n",
      " [ 0.          0.          0.14285714]]\n"
     ]
    }
   ],
   "source": [
    "#inverse\n",
    "I=np.eye(3)\n",
    "A=np.array([[6,1,1],[4,-2,5],[2,8,7]])\n",
    "def inv(arr):\n",
    "    C=I/A \n",
    "    return C\n",
    "    \n",
    "print(A)\n",
    "\n",
    "print(inv(A))"
   ]
  },
  {
   "cell_type": "code",
   "execution_count": 9,
   "metadata": {},
   "outputs": [
    {
     "name": "stdout",
     "output_type": "stream",
     "text": [
      "[[2.]\n",
      " [3.]]\n"
     ]
    }
   ],
   "source": [
    "#linear eqn\n",
    "#x+2y=8\n",
    "#3x+4y=18\n",
    "#AX=B\n",
    "#X=B*A_inverse\n",
    "\n",
    "A=np.matrix([[1,2],[3,4]])\n",
    "B=np.matrix([[8],[18]])\n",
    "def lin_eqn(a,b):\n",
    "    x=np.linalg.inv(a)*b\n",
    "    return x\n",
    "print(lin_eqn(A,B))"
   ]
  },
  {
   "cell_type": "code",
   "execution_count": 10,
   "metadata": {},
   "outputs": [
    {
     "name": "stdout",
     "output_type": "stream",
     "text": [
      "2\n"
     ]
    }
   ],
   "source": [
    "#rank\n",
    "A=np.matrix([[4, 2, 6, 0, 8], [7, 9, 3, 5, 1]])\n",
    "def rank(a):\n",
    "    x=np.linalg.matrix_rank(a)\n",
    "    return x\n",
    "print(rank(A))"
   ]
  },
  {
   "cell_type": "code",
   "execution_count": 11,
   "metadata": {},
   "outputs": [
    {
     "name": "stdout",
     "output_type": "stream",
     "text": [
      "[[ 1  2  3  4  5]\n",
      " [ 6  7  8  9 10]]\n",
      "[[ 6  7  8  9 10]\n",
      " [ 1  2  3  4  5]]\n"
     ]
    }
   ],
   "source": [
    "#shuffle\n",
    "#axis=0:down\n",
    "#axis=1:across\n",
    "A=np.array([[1,2,3,4,5],[6,7,8,9,10]])\n",
    "\n",
    "def shuf(a):\n",
    "    x=np.vstack([a[1],a[0]])\n",
    "    return x\n",
    "print(A)\n",
    "print(shuf(A))"
   ]
  }
 ],
 "metadata": {
  "kernelspec": {
   "display_name": "Python 3",
   "language": "python",
   "name": "python3"
  },
  "language_info": {
   "codemirror_mode": {
    "name": "ipython",
    "version": 3
   },
   "file_extension": ".py",
   "mimetype": "text/x-python",
   "name": "python",
   "nbconvert_exporter": "python",
   "pygments_lexer": "ipython3",
   "version": "3.6.9"
  }
 },
 "nbformat": 4,
 "nbformat_minor": 2
}
