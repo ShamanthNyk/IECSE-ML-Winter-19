{
 "cells": [
  {
   "cell_type": "code",
   "execution_count": 40,
   "metadata": {},
   "outputs": [],
   "source": [
    "import numpy as np\n",
    "import pandas as pd\n",
    "import matplotlib.pyplot as plt\n",
    "%matplotlib inline"
   ]
  },
  {
   "cell_type": "code",
   "execution_count": 41,
   "metadata": {},
   "outputs": [],
   "source": [
    "data= pd.read_csv(\"IECSE-ML-Winter-19/Logistic Regression Assignment/gender_submission.csv\")\n",
    "train_data=pd.read_csv(\"IECSE-ML-Winter-19/Logistic Regression Assignment/train.csv\")\n",
    "test_data=pd.read_csv(\"IECSE-ML-Winter-19/Logistic Regression Assignment/test.csv\")\n",
    "lr = 0.01\n",
    "#filling all NaN with 0\n",
    "train_data=train_data.fillna(0)\n",
    "test_data=test_data.fillna(0)"
   ]
  },
  {
   "cell_type": "code",
   "execution_count": 42,
   "metadata": {},
   "outputs": [],
   "source": [
    "#creating dummy variables\n",
    "train_data_sex = pd.get_dummies(train_data['Sex'])\n",
    "train_data_new = pd.concat([train_data, train_data_sex], axis=1)\n",
    "train_data_new = train_data_new.drop('Sex', axis=1)\n",
    "\n",
    "train_data_em = pd.get_dummies(train_data_new['Embarked'])\n",
    "train_data_new = pd.concat([train_data_new, train_data_em], axis=1)\n",
    "train_data_new = train_data_new.drop('Embarked', axis=1)\n",
    "\n",
    "train_data_new = train_data_new.drop('Ticket', axis=1)\n",
    "train_data_new = train_data_new.drop('Name', axis=1)\n",
    "train_data_new = train_data_new.drop('Cabin', axis=1)\n",
    "train_data_new = train_data_new.drop('PassengerId',axis=1)"
   ]
  },
  {
   "cell_type": "code",
   "execution_count": 43,
   "metadata": {},
   "outputs": [],
   "source": [
    "norm = (train_data_new-train_data_new.mean())/(train_data_new.max()-train_data_new.min())#normalised train data \n",
    "#including Survived column\n",
    "features =norm.drop('Survived', axis=1)\n",
    "targets =train_data_new.iloc[:,0:1]"
   ]
  },
  {
   "cell_type": "code",
   "execution_count": 44,
   "metadata": {},
   "outputs": [],
   "source": [
    "features=np.array(features)\n",
    "targets=np.array(targets)"
   ]
  },
  {
   "cell_type": "code",
   "execution_count": 45,
   "metadata": {},
   "outputs": [],
   "source": [
    "test_data_sex = pd.get_dummies(test_data['Sex'])\n",
    "test_data_new = pd.concat([test_data, test_data_sex], axis=1)\n",
    "test_data_new = test_data_new.drop('Sex', axis=1)\n",
    "\n",
    "test_data_em = pd.get_dummies(test_data_new['Embarked'])\n",
    "test_data_new = pd.concat([test_data_new, test_data_em], axis=1)\n",
    "test_data_new = test_data_new.drop('Embarked', axis=1)\n",
    "\n",
    "test_data_new = test_data_new.drop('Ticket', axis=1)\n",
    "test_data_new = test_data_new.drop('Name', axis=1)\n",
    "test_data_new =test_data_new.drop('Cabin', axis=1)\n",
    "test_data_new = test_data_new.drop('PassengerId',axis=1)\n",
    "test_features=test_data_new\n",
    "#emarked:0 doesnt exist hence we create one\n",
    "em_0 = np.zeros([418,1])\n",
    "test_features['0']=em_0\n",
    "test_features=test_features[['Pclass','Age','SibSp','Parch','Fare','female','male','0','C','Q','S']]\n",
    "\n",
    "\n",
    "test_targets=data.drop('PassengerId',axis=1)\n"
   ]
  },
  {
   "cell_type": "code",
   "execution_count": 46,
   "metadata": {},
   "outputs": [],
   "source": [
    "norm = (test_features-test_features.mean())/(test_features.max()-test_features.min())\n",
    "test_features=np.array(test_features)\n",
    "test_targets=np.array(test_targets)"
   ]
  },
  {
   "cell_type": "code",
   "execution_count": 47,
   "metadata": {},
   "outputs": [],
   "source": [
    "from sklearn.model_selection import train_test_split\n",
    "X_train, X_test, y_train, y_test = train_test_split(features, \n",
    "           targets, test_size=0.30, \n",
    "            random_state=41)"
   ]
  },
  {
   "cell_type": "code",
   "execution_count": 48,
   "metadata": {},
   "outputs": [
    {
     "name": "stderr",
     "output_type": "stream",
     "text": [
      "/home/rhea/.local/lib/python3.6/site-packages/sklearn/linear_model/logistic.py:432: FutureWarning: Default solver will be changed to 'lbfgs' in 0.22. Specify a solver to silence this warning.\n",
      "  FutureWarning)\n",
      "/home/rhea/.local/lib/python3.6/site-packages/sklearn/utils/validation.py:724: DataConversionWarning: A column-vector y was passed when a 1d array was expected. Please change the shape of y to (n_samples, ), for example using ravel().\n",
      "  y = column_or_1d(y, warn=True)\n"
     ]
    },
    {
     "data": {
      "text/plain": [
       "LogisticRegression(C=1.0, class_weight=None, dual=False, fit_intercept=True,\n",
       "                   intercept_scaling=1, l1_ratio=None, max_iter=100,\n",
       "                   multi_class='warn', n_jobs=None, penalty='l2',\n",
       "                   random_state=None, solver='warn', tol=0.0001, verbose=0,\n",
       "                   warm_start=False)"
      ]
     },
     "execution_count": 48,
     "metadata": {},
     "output_type": "execute_result"
    }
   ],
   "source": [
    "from sklearn.linear_model import LogisticRegression\n",
    "logmodel = LogisticRegression()\n",
    "logmodel.fit(X_train, y_train)"
   ]
  },
  {
   "cell_type": "code",
   "execution_count": 49,
   "metadata": {},
   "outputs": [
    {
     "name": "stderr",
     "output_type": "stream",
     "text": [
      "/home/rhea/.local/lib/python3.6/site-packages/sklearn/linear_model/logistic.py:432: FutureWarning: Default solver will be changed to 'lbfgs' in 0.22. Specify a solver to silence this warning.\n",
      "  FutureWarning)\n",
      "/home/rhea/.local/lib/python3.6/site-packages/sklearn/utils/validation.py:724: DataConversionWarning: A column-vector y was passed when a 1d array was expected. Please change the shape of y to (n_samples, ), for example using ravel().\n",
      "  y = column_or_1d(y, warn=True)\n"
     ]
    },
    {
     "data": {
      "text/plain": [
       "LogisticRegression(C=1.0, class_weight=None, dual=False, fit_intercept=True,\n",
       "                   intercept_scaling=1, l1_ratio=None, max_iter=100,\n",
       "                   multi_class='warn', n_jobs=None, penalty='l2',\n",
       "                   random_state=None, solver='warn', tol=0.0001, verbose=0,\n",
       "                   warm_start=False)"
      ]
     },
     "execution_count": 49,
     "metadata": {},
     "output_type": "execute_result"
    }
   ],
   "source": [
    "logreg = LogisticRegression() \n",
    "logreg.fit(X_train, y_train)"
   ]
  },
  {
   "cell_type": "code",
   "execution_count": 50,
   "metadata": {},
   "outputs": [
    {
     "name": "stdout",
     "output_type": "stream",
     "text": [
      "Accuracy of logistic regression classifier on test set: 0.81\n"
     ]
    }
   ],
   "source": [
    "y_pred = logreg.predict(X_test)\n",
    "print('Accuracy of logistic regression classifier on test set: {:.2f}'.format(logreg.score(X_test, y_test)))"
   ]
  },
  {
   "cell_type": "code",
   "execution_count": null,
   "metadata": {},
   "outputs": [],
   "source": []
  }
 ],
 "metadata": {
  "kernelspec": {
   "display_name": "Python 3",
   "language": "python",
   "name": "python3"
  },
  "language_info": {
   "codemirror_mode": {
    "name": "ipython",
    "version": 3
   },
   "file_extension": ".py",
   "mimetype": "text/x-python",
   "name": "python",
   "nbconvert_exporter": "python",
   "pygments_lexer": "ipython3",
   "version": "3.6.9"
  }
 },
 "nbformat": 4,
 "nbformat_minor": 2
}
