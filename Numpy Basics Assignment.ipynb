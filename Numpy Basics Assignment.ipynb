{
 "cells": [
  {
   "cell_type": "raw",
   "metadata": {},
   "source": [
    "1)Windows and Strides\n",
    "\n",
    "Given a 1d array, and parameters window_len and stride_len, do the following:\n",
    "\n",
    "    Divide the 1d array into smaller arrays of size window_len starting at index 0\n",
    "    move the starting index by step size stride_len each time\n",
    "    Return all windows as a 2d matrix\n",
    "\n",
    "Eg., Input:\n",
    "arr = [1, 3, 7, 1, 2, 6, 0, 1]\n",
    "stride_len = 2 , window_len = 4\n",
    "\n",
    "    First window (starting at index 0) should be of len window_len (4) --> [1, 3, 7, 1]\n",
    "    Move by step size stride_len(2) and take next window --> [7, 1, 2, 6]\n",
    "    and so on..\n",
    "\n",
    "Output matrix\n",
    "[[1, 3, 7, 1],\n",
    "[7, 1, 2, 6],\n",
    "[2, 6, 0, 1]]"
   ]
  },
  {
   "cell_type": "code",
   "execution_count": 2,
   "metadata": {},
   "outputs": [],
   "source": [
    "import numpy as np\n",
    "def gen_strides(a, stride_len, window_len):\n",
    "    '''\n",
    "    Input:\n",
    "      a: Numpy array of 1 dimension\n",
    "      stride_len: int, stride length\n",
    "      window_len : int, window length\n",
    "    \n",
    "    Output:\n",
    "      Numpy array of 2 dimensions containing windowed strides as explained above\n",
    "    '''\n",
    "    # YOUR CODE HERE"
   ]
  },
  {
   "cell_type": "raw",
   "metadata": {},
   "source": [
    "Inverse of an array\n",
    "\n",
    "Hint: Search numpy library for inverse function"
   ]
  },
  {
   "cell_type": "code",
   "execution_count": null,
   "metadata": {},
   "outputs": [],
   "source": [
    "def inv(arr):\n",
    "    \"\"\"\n",
    "    Given an array arr (square matrix), find its inverse\n",
    "    \"\"\"\n",
    "    # YOUR CODE HERE\n",
    "    if(arr.shape[0]==arr.shape[1]):\n",
    "      i=np.eye(arr.shape[0])\n",
    "      return np.linalg.inv(arr)"
   ]
  },
  {
   "cell_type": "code",
   "execution_count": 4,
   "metadata": {},
   "outputs": [
    {
     "data": {
      "text/plain": [
       "array([[ 0.17647059, -0.00326797, -0.02287582],\n",
       "       [ 0.05882353, -0.13071895,  0.08496732],\n",
       "       [-0.11764706,  0.1503268 ,  0.05228758]])"
      ]
     },
     "execution_count": 4,
     "metadata": {},
     "output_type": "execute_result"
    }
   ],
   "source": [
    "inv(np.array([[6, 1, 1], [4, -2, 5], [2, 8, 7]]))"
   ]
  },
  {
   "cell_type": "raw",
   "metadata": {},
   "source": [
    "\"\"\"Test for inv\"\"\"\n",
    "assert np.all(np.isclose(inv(np.array([[6, 1, 1], [4, -2, 5], [2, 8, 7]])).tolist(), np.array([[0.17647058823529413, -0.0032679738562091526, -0.02287581699346405],[0.05882352941176469, -0.130718954248366, 0.0849673202614379],[-0.1176470588235294, 0.1503267973856209, 0.0522875816993464]])))"
   ]
  },
  {
   "cell_type": "code",
   "execution_count": null,
   "metadata": {},
   "outputs": [],
   "source": [
    "inv(np.array([[6, 1, 1], [4, -2, 5], [2, 8, 7]]))"
   ]
  },
  {
   "cell_type": "markdown",
   "metadata": {},
   "source": [
    "3)Match\n",
    "\n",
    "Get the positions where corresponding elements (same indices) of array a and array b match \n",
    "\n",
    "Eg. Input\n",
    "a = np.array([1,2,3,2,3,4,3,4,5,6]) \n",
    "b = np.array([7,2,10,2,7,4,9,4,9,8]) \n",
    "\n",
    "Desired Output:\n",
    "\n",
    "[1, 3, 5, 7])\n"
   ]
  },
  {
   "cell_type": "code",
   "execution_count": 16,
   "metadata": {},
   "outputs": [],
   "source": [
    "def match(a,b):\n",
    "    '''\n",
    "    Inputs:\n",
    "      a, b: numpy arrays of same shape of 1 dimension\n",
    "    Outputs:\n",
    "      list containing indices where both arrays have same elements\n",
    "    '''\n",
    "    # YOUR CODE HERE\n",
    "    count=0\n",
    "    arr=[]\n",
    "    for i in a:\n",
    "        if(b[count]==a[count]):\n",
    "            arr+=[count]\n",
    "        count=count+1\n",
    "    return arr"
   ]
  },
  {
   "cell_type": "markdown",
   "metadata": {},
   "source": [
    "\"\"\"Test for match\"\"\"\n",
    "assert(match(np.array([1,2,3,2,3,4,3,4,5,6]),np.array([7,2,10,2,7,4,9,4,9,8])) == [1,3,5,7])"
   ]
  },
  {
   "cell_type": "code",
   "execution_count": 17,
   "metadata": {},
   "outputs": [
    {
     "data": {
      "text/plain": [
       "[1, 3, 5, 7]"
      ]
     },
     "execution_count": 17,
     "metadata": {},
     "output_type": "execute_result"
    }
   ],
   "source": [
    "match(np.array([1,2,3,2,3,4,3,4,5,6]),np.array([7,2,10,2,7,4,9,4,9,8]))"
   ]
  },
  {
   "cell_type": "markdown",
   "metadata": {},
   "source": [
    "5)Linear Equations\n",
    "\n",
    "Hint: x = inverse_of_a * b."
   ]
  },
  {
   "cell_type": "code",
   "execution_count": 29,
   "metadata": {},
   "outputs": [],
   "source": [
    "def lin_eqn(a,b):\n",
    "    '''\n",
    "    Solve the system of linear equations\n",
    "    of the form ax = b\n",
    "    \n",
    "    Eg. \n",
    "    \n",
    "    Solve the system of linear equation\n",
    "    \n",
    "    x + 2*y = 8\n",
    "    3*x + 4*y = 18\n",
    "    \n",
    "    Given inputs a and b represent coefficients and constant of linear equation respectively\n",
    "    \n",
    "    coefficients: \n",
    "    a = np.array([[1, 2], [3, 4]]) \n",
    "    \n",
    "    constants: \n",
    "    b = np.array([8, 18])\n",
    "    \n",
    "    Desired Output: [2,3]\n",
    "    \n",
    "\n",
    "    '''\n",
    "    # YOUR CODE HERE\n",
    "    x= np.linalg.inv(a)\n",
    "    return x.dot(b)"
   ]
  },
  {
   "cell_type": "markdown",
   "metadata": {},
   "source": [
    "\"Test for lin_eqn\"\"\"\n",
    "assert np.any(lin_eqn(np.array([[1, 2], [3, 4]]),np.array([8, 18])) == np.array([2., 3.]))"
   ]
  },
  {
   "cell_type": "code",
   "execution_count": 30,
   "metadata": {},
   "outputs": [
    {
     "data": {
      "text/plain": [
       "array([ 2.,  3.])"
      ]
     },
     "execution_count": 30,
     "metadata": {},
     "output_type": "execute_result"
    }
   ],
   "source": [
    "lin_eqn(np.array([[1, 2], [3, 4]]),np.array([8, 18]))"
   ]
  },
  {
   "cell_type": "raw",
   "metadata": {},
   "source": [
    "6)rankArray\n",
    "\n",
    "Rank the items in a multidimensional array 'arr'.\n",
    "The rank of an item is its index in the sorted list of all items in 'arr' (starting from 0).\n",
    "Eg., consider arr = [0, 6, 14, 12, 11]\n",
    "arr_sorted = [0, 6, 11, 12, 14]\n",
    "So rank of 0 -> 0; 6->1; 11->2, 12->3, 14->4\n",
    "rankArray returns a list where each element is replaced by its rank\n",
    "rankArray(arr) -> [0, 1, 4, 3, 2]\n",
    "\n",
    "==========================================\n",
    "Another example,\n",
    "Eg:\n",
    "\n",
    "arr = [ [ 9 4 15 0 17], [16 17 8 9 0] ] ... (2X5 array)\n",
    "\n",
    "Desired output:\n",
    "[ [4 2 6 0 8], [7 9 3 5 1] ] ... (2X5 array)\n",
    "\n",
    "Here minimum value in arr is 0 at (0,3), so rank the index of 0 in output matrix as 0\n",
    "i.e. out[0][3] = 0\n",
    "Next minimum is also 0 at index (1,4), so rank the index (1,4) in output matrix as 1 and so on...\n",
    "\n",
    "============================================= If two elements repeat; for eg., both a1 = arr[0, 1] and a2 = arr[0, 3] are equal to 1, then rank of the a1 is lower than the rank of a2 because at the first index at which they differ, the index of a1 is lower than that of a2 (similar to lexicographical ordering)"
   ]
  },
  {
   "cell_type": "code",
   "execution_count": 71,
   "metadata": {},
   "outputs": [],
   "source": [
    "import numpy as np\n",
    "\n",
    "def rankArray(arr):\n",
    "    '''\n",
    "    Input:\n",
    "        arr: Numpy array of arbitrary dimensions \n",
    "    Output:\n",
    "        numpy array of same shape as arr but with elements replaced by their ranks\n",
    "    '''\n",
    "    # YOUR CODE HERE\n",
    "    "
   ]
  },
  {
   "cell_type": "code",
   "execution_count": 72,
   "metadata": {},
   "outputs": [],
   "source": [
    "rankArray([[9, 4, 15, 0, 17], [16,17,8,9,0]])"
   ]
  },
  {
   "cell_type": "raw",
   "metadata": {},
   "source": [
    "Shuffle\n",
    "\n",
    "Given a numpy array of arbitrary dimensions (> 1), shuffle its rows randomly.\n",
    "Hint - You need to shuffle along axis 0"
   ]
  },
  {
   "cell_type": "code",
   "execution_count": null,
   "metadata": {},
   "outputs": [],
   "source": [
    "def shuf(arr):\n",
    "  '''\n",
    "  Input: \n",
    "    arr: Numpy array of arbitrary number of dimensions (>1)\n",
    "  Output:\n",
    "    numpy array of same shape as arr but with rows shuffled\n",
    "  '''\n",
    "  # YOUR CODE HERE\n",
    "    "
   ]
  }
 ],
 "metadata": {
  "kernelspec": {
   "display_name": "Python 3",
   "language": "python",
   "name": "python3"
  },
  "language_info": {
   "codemirror_mode": {
    "name": "ipython",
    "version": 3
   },
   "file_extension": ".py",
   "mimetype": "text/x-python",
   "name": "python",
   "nbconvert_exporter": "python",
   "pygments_lexer": "ipython3",
   "version": "3.6.8"
  }
 },
 "nbformat": 4,
 "nbformat_minor": 2
}
