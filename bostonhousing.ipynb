{
 "cells": [
  {
   "cell_type": "code",
   "execution_count": 78,
   "metadata": {},
   "outputs": [],
   "source": [
    "import numpy as np\n",
    "import pandas as pd\n",
    "from numpy.linalg import inv\n",
    "from statistics import mean\n",
    "\n"
   ]
  },
  {
   "cell_type": "code",
   "execution_count": 79,
   "metadata": {},
   "outputs": [],
   "source": [
    "\n",
    "data = pd.read_csv(\"bostonhousing.txt\")\n",
    "\n",
    "nd = (data - data.mean()) / data.std()\n",
    "#print(nd)\n",
    "y1=nd['medv']\n",
    "y = np.asarray(y1)\n",
    "nd.drop([\"medv\"], axis = 1, inplace = True)\n"
   ]
  },
  {
   "cell_type": "code",
   "execution_count": 80,
   "metadata": {},
   "outputs": [],
   "source": [
    "\n",
    "x = np.asarray(nd,dtype=np.float64)\n",
    "xt=x.T\n",
    "y3=y[0:404,]\n",
    "y4=y[404:506,]\n",
    "\n",
    "x1=x[0:404,]\n",
    "\n",
    "x2=x[404:506,]"
   ]
  },
  {
   "cell_type": "code",
   "execution_count": 81,
   "metadata": {},
   "outputs": [
    {
     "name": "stdout",
     "output_type": "stream",
     "text": [
      "[0.15181154]\n"
     ]
    }
   ],
   "source": [
    "m=np.zeros((13,1))\n",
    "l=0.07                                     #learning factor or alpha\n",
    "sum5=np.zeros((404,1))\n",
    "b=0                                       #the thirteen parameter list plus a constant that constant is b\n",
    "for k in range(200):\n",
    "    sum5=np.dot(x1,m)                   #sum5 holds the product of train dataset and the weights basically mx\n",
    "    \n",
    "    y2=np.reshape(y3,(404,1))\n",
    "    y2=y2-sum5\n",
    "    \n",
    "    for i in range(404):\n",
    "        y2[i]=y2[i]-b\n",
    "   ##########     \n",
    "    \n",
    "    sum6=0\n",
    "    for i in range(404):\n",
    "        sum6+=((y2[i]**2)/(2*404))\n",
    "    \n",
    "    \n",
    "    #print(sum6)\n",
    "    for i in range(13):\n",
    "        def minimum(x1,y3,l,j):\n",
    "            sum2=np.zeros((404,1))\n",
    "            sum2=np.dot(x1,m)\n",
    "            y1=np.reshape(y3,(404,1))\n",
    "            y1=y1-sum2\n",
    "            for i in range(404):\n",
    "                y1[i]=y1[i]-b\n",
    "            x6=x[0:404,j:j+1]\n",
    "            sum5=0\n",
    "            for i in range(404):\n",
    "                sum5+=y1[i]\n",
    "            sum5=sum5/(404)    \n",
    "            \n",
    "            sum3=np.zeros((404,1))\n",
    "            sum4=0\n",
    "            \n",
    "            sum3=y1*x6*(-1)\n",
    "            for i in range(404):                                     #  -(xi)\n",
    "                sum4+=sum3[i]\n",
    "            sum4=sum4/(404)\n",
    "            \n",
    "            return sum4,sum5\n",
    "        j=i\n",
    "        d,c=minimum(x1,y3,l,j)\n",
    "        \n",
    "        m[i]=m[i]-l*d\n",
    "        b=b+l*c     #-1*-1=+1 therefore done addition\n",
    "           \n",
    "sum9=np.zeros((102,13))              #error in test data\n",
    "sum9=np.dot(x2,m)\n",
    "y4=np.reshape(y4,(102,1))\n",
    "y4=y4-sum9                    \n",
    "y4=y4-b\n",
    "sum6=0\n",
    "for i in range(101):\n",
    "    sum6+=((y4[i]**2)/(2*102))\n",
    "print(sum6)\n",
    "        \n",
    "\n",
    "\n",
    "\n"
   ]
  },
  {
   "cell_type": "code",
   "execution_count": null,
   "metadata": {},
   "outputs": [],
   "source": []
  },
  {
   "cell_type": "code",
   "execution_count": null,
   "metadata": {},
   "outputs": [],
   "source": []
  }
 ],
 "metadata": {
  "kernelspec": {
   "display_name": "Python 3",
   "language": "python",
   "name": "python3"
  },
  "language_info": {
   "codemirror_mode": {
    "name": "ipython",
    "version": 3
   },
   "file_extension": ".py",
   "mimetype": "text/x-python",
   "name": "python",
   "nbconvert_exporter": "python",
   "pygments_lexer": "ipython3",
   "version": "3.7.3"
  }
 },
 "nbformat": 4,
 "nbformat_minor": 2
}
