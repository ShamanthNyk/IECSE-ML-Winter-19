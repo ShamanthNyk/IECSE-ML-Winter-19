{
 "cells": [
  {
   "cell_type": "code",
   "execution_count": 17,
   "metadata": {},
   "outputs": [
    {
     "name": "stdout",
     "output_type": "stream",
     "text": [
      "4\n"
     ]
    }
   ],
   "source": [
    "l=[1,2,3,4]\n",
    "def last_element(l):\n",
    "    return (l[-1])\n",
    "print(last_element(l))\n",
    "assert last_element([1]) == 1\n",
    "assert last_element([\"Hello\", \"World\"]) == \"World\"\n",
    "    \n",
    "  "
   ]
  },
  {
   "cell_type": "code",
   "execution_count": 25,
   "metadata": {},
   "outputs": [
    {
     "name": "stdout",
     "output_type": "stream",
     "text": [
      "4\n"
     ]
    }
   ],
   "source": [
    "l=[1,2,3,4]\n",
    "def num_elements(l):\n",
    "    c=0\n",
    "    for i in l:\n",
    "        c=c+1\n",
    "    return c\n",
    "print (num_elements(l))\n",
    "assert num_elements([2, 3, 4])==3\n",
    "\n",
    "    "
   ]
  },
  {
   "cell_type": "code",
   "execution_count": 28,
   "metadata": {},
   "outputs": [
    {
     "name": "stdout",
     "output_type": "stream",
     "text": [
      "[4, 3, 2, 1]\n"
     ]
    }
   ],
   "source": [
    "l=[1,2,3,4]\n",
    "def reverse_list(l):\n",
    "    l.reverse()\n",
    "    return l\n",
    "print(reverse_list(l))\n",
    "assert reverse_list([2, 3, 4])== [4, 3, 2]\n",
    "\n",
    "    \n",
    "    "
   ]
  },
  {
   "cell_type": "code",
   "execution_count": 36,
   "metadata": {},
   "outputs": [
    {
     "name": "stdout",
     "output_type": "stream",
     "text": [
      "True\n"
     ]
    }
   ],
   "source": [
    "l=[1,2,1]\n",
    "def is_palindrome(l):\n",
    "    s=len(l)\n",
    "    flag=0\n",
    "    for i in range (0,s):\n",
    "        if(l[i]==l[s-i-1]):\n",
    "            flag=1\n",
    "        else:\n",
    "            flag=0\n",
    "    if(flag==1):\n",
    "        return (True)\n",
    "    else:\n",
    "        return (False)\n",
    "print(is_palindrome(l))\n",
    "assert(is_palindrome([1, 2, 1])) == True\n",
    "assert(is_palindrome([1, 2, 3, 2, 1])) == True\n",
    "assert(is_palindrome([1, 2, 3, 4])) == False\n",
    "        \n",
    "    "
   ]
  },
  {
   "cell_type": "code",
   "execution_count": 53,
   "metadata": {},
   "outputs": [
    {
     "name": "stdout",
     "output_type": "stream",
     "text": [
      "['a', 'b', 'c', 'd', 'x']\n"
     ]
    }
   ],
   "source": [
    "l = ['a', 'a', 'a', 'b', 'b', 'c', 'a', 'a', 'd', 'd', 'd', 'x', 'x']\n",
    "def compress(l):\n",
    "    unique=[]\n",
    "    for i in l:\n",
    "        if i not in unique:\n",
    "            unique.append(i)\n",
    "    return (unique)\n",
    "print(compress(l))\n",
    "\n",
    "    "
   ]
  },
  {
   "cell_type": "code",
   "execution_count": 6,
   "metadata": {},
   "outputs": [
    {
     "name": "stdout",
     "output_type": "stream",
     "text": [
      "[[1, 1, 1], [2, 2, 2, 2], [3, 3]]\n",
      "None\n"
     ]
    }
   ],
   "source": [
    "l=[1,1,1,2,2,2,2,3,3]\n",
    "def pack(ar):\n",
    "    i=0\n",
    "    k=0\n",
    "    p=[]\n",
    "    p.append(ar[0])\n",
    "    t=[[]]\n",
    "    l=[0]\n",
    "    count=1\n",
    "    while i<len(ar)-1:\n",
    "        if ar[i]!=ar[i+1]:\n",
    "            k=i\n",
    "            i=i+1\n",
    "            l.append(i)\n",
    "            t.append([])\n",
    "            p.append(ar[i])\n",
    "            count=count+1\n",
    "        else:\n",
    "            i=i+1\n",
    "            count=count+0\n",
    "    l.append(len(ar))\n",
    "    j=0\n",
    "    for i in range(len(l)-1):\n",
    "        for j in range(l[i+1]-l[i]):\n",
    "            t[i].append(p[i])\n",
    "    print(t)\n",
    "    \n",
    "print(pack(l))\n",
    "        \n",
    "    \n",
    "    \n",
    "    "
   ]
  },
  {
   "cell_type": "code",
   "execution_count": 65,
   "metadata": {},
   "outputs": [
    {
     "name": "stdout",
     "output_type": "stream",
     "text": [
      "2 \n",
      "3\n",
      "[9]\n"
     ]
    }
   ],
   "source": [
    "l = [1, 3, 9, 8, 7]\n",
    "nl=[]\n",
    "i=int(input())\n",
    "k=int(input())\n",
    "def slice(l, i, k):\n",
    "    for j in range(i,k):\n",
    "        \n",
    "        nl.append(l[j])\n",
    "    return (nl)\n",
    "print(slice(l, i, k))\n"
   ]
  },
  {
   "cell_type": "code",
   "execution_count": 64,
   "metadata": {},
   "outputs": [
    {
     "name": "stdout",
     "output_type": "stream",
     "text": [
      "1\n",
      "4\n",
      "[1, 4, 3, 9, 8, 7]\n"
     ]
    }
   ],
   "source": [
    " l = [1, 3, 9, 8, 7]\n",
    "i=int(input())\n",
    "elem=int(input())\n",
    "def insert_element(l, i, elem):\n",
    "    l.insert(i,elem)\n",
    "    return(l)\n",
    "print(insert_element(l, i, elem))\n",
    "assert(insert_element([1, 2, 3, 4,], 2, 5)[2]) == 5\n",
    "assert(insert_element([1, 5, ], 3, 5)) == [1, 5, 5]\n",
    "    \n",
    "    "
   ]
  },
  {
   "cell_type": "code",
   "execution_count": null,
   "metadata": {},
   "outputs": [],
   "source": []
  },
  {
   "cell_type": "code",
   "execution_count": null,
   "metadata": {},
   "outputs": [],
   "source": []
  }
 ],
 "metadata": {
  "kernelspec": {
   "display_name": "Python 3",
   "language": "python",
   "name": "python3"
  },
  "language_info": {
   "codemirror_mode": {
    "name": "ipython",
    "version": 3
   },
   "file_extension": ".py",
   "mimetype": "text/x-python",
   "name": "python",
   "nbconvert_exporter": "python",
   "pygments_lexer": "ipython3",
   "version": "3.6.9"
  }
 },
 "nbformat": 4,
 "nbformat_minor": 2
}
