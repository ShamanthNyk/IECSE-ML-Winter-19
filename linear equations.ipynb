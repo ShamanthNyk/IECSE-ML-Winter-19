{
 "cells": [
  {
   "cell_type": "code",
   "execution_count": 1,
   "metadata": {},
   "outputs": [
    {
     "name": "stdout",
     "output_type": "stream",
     "text": [
      "Sample Tests passed 👍\n"
     ]
    }
   ],
   "source": [
    "import numpy as np\n",
    "def lin_eqn(a,b):\n",
    "    '''\n",
    "    Solve the system of linear equations\n",
    "    of the form ax = b\n",
    "    \n",
    "    Eg. \n",
    "    \n",
    "    Solve the system of linear equation\n",
    "    \n",
    "    x + 2*y = 8\n",
    "    3*x + 4*y = 18\n",
    "    \n",
    "    Given inputs a and b represent coefficients and constant of linear equation respectively\n",
    "    \n",
    "    coefficients: \n",
    "    a = np.array([[1, 2], [3, 4]]) \n",
    "    \n",
    "    constants: \n",
    "    b = np.array([8, 18])\n",
    "    \n",
    "    Desired Output: [2,3]\n",
    "    '''\n",
    "    return np.dot(np.linalg.inv(a),b)\n",
    "\n",
    "assert np.any(lin_eqn(np.array([[1, 2], [3, 4]]),np.array([8, 18])) == np.array([2., 3.]))\n",
    "\n",
    "print(\"Sample Tests passed\", '\\U0001F44D')"
   ]
  },
  {
   "cell_type": "code",
   "execution_count": 2,
   "metadata": {},
   "outputs": [
    {
     "name": "stdout",
     "output_type": "stream",
     "text": [
      "[2. 3.]\n"
     ]
    }
   ],
   "source": [
    "x=lin_eqn(np.array([[1.0, 2.0], [3, 4]]),np.array([8.0,  18.0]))\n",
    "print(x)"
   ]
  },
  {
   "cell_type": "code",
   "execution_count": null,
   "metadata": {},
   "outputs": [],
   "source": []
  }
 ],
 "metadata": {
  "kernelspec": {
   "display_name": "Python 3",
   "language": "python",
   "name": "python3"
  },
  "language_info": {
   "codemirror_mode": {
    "name": "ipython",
    "version": 3
   },
   "file_extension": ".py",
   "mimetype": "text/x-python",
   "name": "python",
   "nbconvert_exporter": "python",
   "pygments_lexer": "ipython3",
   "version": "3.7.3"
  }
 },
 "nbformat": 4,
 "nbformat_minor": 2
}
