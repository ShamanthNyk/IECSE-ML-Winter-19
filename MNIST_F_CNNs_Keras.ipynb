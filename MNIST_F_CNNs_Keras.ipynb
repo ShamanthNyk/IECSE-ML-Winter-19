{
  "nbformat": 4,
  "nbformat_minor": 0,
  "metadata": {
    "colab": {
      "name": "MNIST_F_CNNs_Keras.ipynb",
      "provenance": [],
      "collapsed_sections": [],
      "authorship_tag": "ABX9TyOXAlW7kVaIcimYbuggZ+XT",
      "include_colab_link": true
    },
    "kernelspec": {
      "name": "python3",
      "display_name": "Python 3"
    },
    "accelerator": "GPU"
  },
  "cells": [
    {
      "cell_type": "markdown",
      "metadata": {
        "id": "view-in-github",
        "colab_type": "text"
      },
      "source": [
        "<a href=\"https://colab.research.google.com/github/whopriyam/IECSE-ML-Winter-19/blob/master/MNIST_F_CNNs_Keras.ipynb\" target=\"_parent\"><img src=\"https://colab.research.google.com/assets/colab-badge.svg\" alt=\"Open In Colab\"/></a>"
      ]
    },
    {
      "cell_type": "code",
      "metadata": {
        "id": "aYNeVh4MAiwO",
        "colab_type": "code",
        "outputId": "5de87a20-bf45-4853-eafa-a31e13ee655b",
        "colab": {
          "base_uri": "https://localhost:8080/",
          "height": 81
        }
      },
      "source": [
        "###Importing the Required Libraries\n",
        "\n",
        "import numpy as np\n",
        "import pandas as pd\n",
        "import matplotlib.pyplot as plt\n",
        "import keras\n",
        "\n",
        "from keras.layers import Dense,Dropout,Conv2D,MaxPooling2D,Flatten\n",
        "from keras.models import Sequential"
      ],
      "execution_count": 0,
      "outputs": [
        {
          "output_type": "stream",
          "text": [
            "Using TensorFlow backend.\n"
          ],
          "name": "stderr"
        },
        {
          "output_type": "display_data",
          "data": {
            "text/html": [
              "<p style=\"color: red;\">\n",
              "The default version of TensorFlow in Colab will soon switch to TensorFlow 2.x.<br>\n",
              "We recommend you <a href=\"https://www.tensorflow.org/guide/migrate\" target=\"_blank\">upgrade</a> now \n",
              "or ensure your notebook will continue to use TensorFlow 1.x via the <code>%tensorflow_version 1.x</code> magic:\n",
              "<a href=\"https://colab.research.google.com/notebooks/tensorflow_version.ipynb\" target=\"_blank\">more info</a>.</p>\n"
            ],
            "text/plain": [
              "<IPython.core.display.HTML object>"
            ]
          },
          "metadata": {
            "tags": []
          }
        }
      ]
    },
    {
      "cell_type": "code",
      "metadata": {
        "id": "OQrEwvKvBA6q",
        "colab_type": "code",
        "colab": {}
      },
      "source": [
        "###Importing the Dataset from Keras\n",
        "\n",
        "from keras.datasets.fashion_mnist import load_data\n",
        "\n",
        "(X_train_orig,Y_train_orig),(X_test_orig,Y_test_orig) = load_data()"
      ],
      "execution_count": 0,
      "outputs": []
    },
    {
      "cell_type": "code",
      "metadata": {
        "id": "NW1N0vWrBQK_",
        "colab_type": "code",
        "colab": {}
      },
      "source": [
        "###Label Dictionary\n",
        "\n",
        "label_dict = {0:'T-shirt/top',\n",
        "              1:'Trouser',\n",
        "              2:'Pullover',\n",
        "              3:'Dress',\n",
        "              4:'Coat',\n",
        "              5:'Sandal',\n",
        "              6:'Shirt',\n",
        "              7:'Sneaker',\n",
        "              8:'Bag',\n",
        "              9:'Ankle boot'\n",
        "}"
      ],
      "execution_count": 0,
      "outputs": []
    },
    {
      "cell_type": "code",
      "metadata": {
        "id": "LHLbmtxHBSUO",
        "colab_type": "code",
        "outputId": "ac75ac6c-cdcb-4d52-89be-838d9b742433",
        "colab": {
          "base_uri": "https://localhost:8080/",
          "height": 87
        }
      },
      "source": [
        "###Overview of the Imported Data\n",
        "\n",
        "print(\"X_train Original Shape:\",X_train_orig.shape)\n",
        "print(\"Y_train Original Shape:\",Y_train_orig.shape)\n",
        "print(\"X_test Original Shape:\",X_test_orig.shape)\n",
        "print(\"Y_test Original Shape:\",Y_test_orig.shape)"
      ],
      "execution_count": 0,
      "outputs": [
        {
          "output_type": "stream",
          "text": [
            "X_train Original Shape: (60000, 28, 28)\n",
            "Y_train Original Shape: (60000,)\n",
            "X_test Original Shape: (10000, 28, 28)\n",
            "Y_test Original Shape: (10000,)\n"
          ],
          "name": "stdout"
        }
      ]
    },
    {
      "cell_type": "code",
      "metadata": {
        "id": "7z2NO3NoBXoq",
        "colab_type": "code",
        "outputId": "2237a307-0f14-48e4-d1ce-4747cd09d988",
        "colab": {
          "base_uri": "https://localhost:8080/",
          "height": 300
        }
      },
      "source": [
        "###Visualizing a Training Example\n",
        "\n",
        "img_index = 4326 #Random Training Example\n",
        "img = X_train_orig[img_index]\n",
        "label = Y_train_orig[img_index]\n",
        "\n",
        "print(label_dict[label])\n",
        "plt.imshow(img,cmap='Greys')"
      ],
      "execution_count": 0,
      "outputs": [
        {
          "output_type": "stream",
          "text": [
            "Ankle boot\n"
          ],
          "name": "stdout"
        },
        {
          "output_type": "execute_result",
          "data": {
            "text/plain": [
              "<matplotlib.image.AxesImage at 0x7fbd22f0c470>"
            ]
          },
          "metadata": {
            "tags": []
          },
          "execution_count": 5
        },
        {
          "output_type": "display_data",
          "data": {
            "image/png": "[encoded data removed]",
            "text/plain": [
              "<Figure size 432x288 with 1 Axes>"
            ]
          },
          "metadata": {
            "tags": []
          }
        }
      ]
    },
    {
      "cell_type": "code",
      "metadata": {
        "id": "xYmZM7VQBbBj",
        "colab_type": "code",
        "colab": {}
      },
      "source": [
        "###Preprocessing the Data\n",
        "\n",
        "##Reshaping the X arrays\n",
        "X_train = X_train_orig.reshape(X_train_orig.shape[0],28,28,1)\n",
        "X_test = X_test_orig.reshape(X_test_orig.shape[0],28,28,1)\n",
        "\n",
        "##Normalizing the Data\n",
        "X_train = X_train/255\n",
        "X_test = X_test/255"
      ],
      "execution_count": 0,
      "outputs": []
    },
    {
      "cell_type": "code",
      "metadata": {
        "id": "Qm1RqzaMCG7Y",
        "colab_type": "code",
        "colab": {}
      },
      "source": [
        "##One Hot encoding\n",
        "\n",
        "Y_train = keras.utils.to_categorical(Y_train_orig,10)\n",
        "Y_test = keras.utils.to_categorical(Y_test_orig,10)"
      ],
      "execution_count": 0,
      "outputs": []
    },
    {
      "cell_type": "code",
      "metadata": {
        "id": "cqQ3QrI7CUca",
        "colab_type": "code",
        "outputId": "a4c8015f-d0e3-48b6-fef3-31011cbbd290",
        "colab": {
          "base_uri": "https://localhost:8080/",
          "height": 87
        }
      },
      "source": [
        "###Overview of Processed Data\n",
        "\n",
        "print('X_train Shape:',X_train.shape)\n",
        "print('Y_train Shape:',Y_train.shape)\n",
        "print('X_test Shape:',X_test.shape)\n",
        "print('Y_test Shape:',Y_test.shape)"
      ],
      "execution_count": 0,
      "outputs": [
        {
          "output_type": "stream",
          "text": [
            "X_train Shape: (60000, 28, 28, 1)\n",
            "Y_train Shape: (60000, 10)\n",
            "X_test Shape: (10000, 28, 28, 1)\n",
            "Y_test Shape: (10000, 10)\n"
          ],
          "name": "stdout"
        }
      ]
    },
    {
      "cell_type": "code",
      "metadata": {
        "id": "4ZS2ytce4QnK",
        "colab_type": "code",
        "outputId": "a2b7c512-a1b0-48f0-c0c8-7915ddaf569e",
        "colab": {
          "base_uri": "https://localhost:8080/",
          "height": 87
        }
      },
      "source": [
        "###Validation Split\n",
        "from sklearn.model_selection import train_test_split\n",
        "\n",
        "X_train, X_val, Y_train, Y_val = train_test_split(X_train,Y_train, test_size =0.2, random_state = 42)\n",
        "\n",
        "print(X_train.shape)\n",
        "print(X_val.shape)\n",
        "print(Y_train.shape)\n",
        "print(Y_val.shape)"
      ],
      "execution_count": 0,
      "outputs": [
        {
          "output_type": "stream",
          "text": [
            "(48000, 28, 28, 1)\n",
            "(12000, 28, 28, 1)\n",
            "(48000, 10)\n",
            "(12000, 10)\n"
          ],
          "name": "stdout"
        }
      ]
    },
    {
      "cell_type": "code",
      "metadata": {
        "id": "9qNP4hkDCXFK",
        "colab_type": "code",
        "outputId": "31bd21f4-c01d-431b-dc39-17e36b161d5d",
        "colab": {
          "base_uri": "https://localhost:8080/",
          "height": 263
        }
      },
      "source": [
        "###Creating a Model\n",
        "input_shape = (28,28,1) #Defining the input shape\n",
        "\n",
        "model = Sequential() #Allowing the us to make the model, layer by layer.\n",
        "\n",
        "model.add(Conv2D(32,(3,3),padding='SAME',activation='relu',input_shape = input_shape))\n",
        "model.add(MaxPooling2D(pool_size=(2,2),strides=(2,2),padding='SAME'))\n",
        "model.add(Dropout(0.2))\n",
        "\n",
        "model.add(Conv2D(64,(3,3),padding='SAME',activation='relu'))\n",
        "model.add(MaxPooling2D(pool_size=(2,2),strides=(2,2),padding='SAME'))\n",
        "model.add(Dropout(0.2))\n",
        "\n",
        "model.add(Conv2D(128,(3,3),padding='SAME',activation='relu'))\n",
        "model.add(MaxPooling2D(pool_size=(2,2),strides=(2,2),padding='SAME'))\n",
        "model.add(Dropout(0.3))\n",
        "\n",
        "model.add(Conv2D(256,(3,3),padding='SAME',activation='relu'))\n",
        "model.add(MaxPooling2D(pool_size=(2,2),strides=(2,2),padding='SAME'))\n",
        "model.add(Dropout(0.3))\n",
        "model.add(Flatten())\n",
        "\n",
        "model.add(Dense(256,activation='relu'))\n",
        "model.add(Dropout(0.4))\n",
        "\n",
        "model.add(Dense(128,activation='relu'))\n",
        "model.add(Dropout(0.4))\n",
        "\n",
        "model.add(Dense(10,activation='softmax'))"
      ],
      "execution_count": 0,
      "outputs": [
        {
          "output_type": "stream",
          "text": [
            "WARNING:tensorflow:From /usr/local/lib/python3.6/dist-packages/keras/backend/tensorflow_backend.py:66: The name tf.get_default_graph is deprecated. Please use tf.compat.v1.get_default_graph instead.\n",
            "\n",
            "WARNING:tensorflow:From /usr/local/lib/python3.6/dist-packages/keras/backend/tensorflow_backend.py:541: The name tf.placeholder is deprecated. Please use tf.compat.v1.placeholder instead.\n",
            "\n",
            "WARNING:tensorflow:From /usr/local/lib/python3.6/dist-packages/keras/backend/tensorflow_backend.py:4432: The name tf.random_uniform is deprecated. Please use tf.random.uniform instead.\n",
            "\n",
            "WARNING:tensorflow:From /usr/local/lib/python3.6/dist-packages/keras/backend/tensorflow_backend.py:4267: The name tf.nn.max_pool is deprecated. Please use tf.nn.max_pool2d instead.\n",
            "\n",
            "WARNING:tensorflow:From /usr/local/lib/python3.6/dist-packages/keras/backend/tensorflow_backend.py:148: The name tf.placeholder_with_default is deprecated. Please use tf.compat.v1.placeholder_with_default instead.\n",
            "\n",
            "WARNING:tensorflow:From /usr/local/lib/python3.6/dist-packages/keras/backend/tensorflow_backend.py:3733: calling dropout (from tensorflow.python.ops.nn_ops) with keep_prob is deprecated and will be removed in a future version.\n",
            "Instructions for updating:\n",
            "Please use `rate` instead of `keep_prob`. Rate should be set to `rate = 1 - keep_prob`.\n"
          ],
          "name": "stdout"
        }
      ]
    },
    {
      "cell_type": "code",
      "metadata": {
        "id": "akdy1b5nDVVR",
        "colab_type": "code",
        "outputId": "2ca0a410-9e72-4569-d312-89b32704126b",
        "colab": {
          "base_uri": "https://localhost:8080/",
          "height": 107
        }
      },
      "source": [
        "###Compiling the Model(Choosing our optimizer,our loss function and our metric for perfromance)\n",
        "\n",
        "model.compile(optimizer='adam',loss = 'categorical_crossentropy',metrics=['categorical_accuracy'])"
      ],
      "execution_count": 0,
      "outputs": [
        {
          "output_type": "stream",
          "text": [
            "WARNING:tensorflow:From /usr/local/lib/python3.6/dist-packages/keras/optimizers.py:793: The name tf.train.Optimizer is deprecated. Please use tf.compat.v1.train.Optimizer instead.\n",
            "\n",
            "WARNING:tensorflow:From /usr/local/lib/python3.6/dist-packages/keras/backend/tensorflow_backend.py:3576: The name tf.log is deprecated. Please use tf.math.log instead.\n",
            "\n"
          ],
          "name": "stdout"
        }
      ]
    },
    {
      "cell_type": "code",
      "metadata": {
        "id": "D8Af9JifDecG",
        "colab_type": "code",
        "colab": {}
      },
      "source": [
        "###Hyperparameters\n",
        "\n",
        "epochs = 50\n",
        "batch_size = 128"
      ],
      "execution_count": 0,
      "outputs": []
    },
    {
      "cell_type": "code",
      "metadata": {
        "id": "vtSWZjv9DhKP",
        "colab_type": "code",
        "outputId": "9adc212b-6ec6-46f1-d28c-34e3636e9eeb",
        "colab": {
          "base_uri": "https://localhost:8080/",
          "height": 1000
        }
      },
      "source": [
        "###Training the model\n",
        "\n",
        "history = model.fit(X_train,Y_train,batch_size=batch_size,epochs=epochs,verbose=1,validation_data=(X_val,Y_val))"
      ],
      "execution_count": 0,
      "outputs": [
        {
          "output_type": "stream",
          "text": [
            "WARNING:tensorflow:From /usr/local/lib/python3.6/dist-packages/tensorflow_core/python/ops/math_grad.py:1424: where (from tensorflow.python.ops.array_ops) is deprecated and will be removed in a future version.\n",
            "Instructions for updating:\n",
            "Use tf.where in 2.0, which has the same broadcast rule as np.where\n",
            "WARNING:tensorflow:From /usr/local/lib/python3.6/dist-packages/keras/backend/tensorflow_backend.py:1033: The name tf.assign_add is deprecated. Please use tf.compat.v1.assign_add instead.\n",
            "\n",
            "WARNING:tensorflow:From /usr/local/lib/python3.6/dist-packages/keras/backend/tensorflow_backend.py:1020: The name tf.assign is deprecated. Please use tf.compat.v1.assign instead.\n",
            "\n",
            "WARNING:tensorflow:From /usr/local/lib/python3.6/dist-packages/keras/backend/tensorflow_backend.py:3005: The name tf.Session is deprecated. Please use tf.compat.v1.Session instead.\n",
            "\n",
            "Train on 48000 samples, validate on 12000 samples\n",
            "Epoch 1/50\n",
            "WARNING:tensorflow:From /usr/local/lib/python3.6/dist-packages/keras/backend/tensorflow_backend.py:190: The name tf.get_default_session is deprecated. Please use tf.compat.v1.get_default_session instead.\n",
            "\n",
            "WARNING:tensorflow:From /usr/local/lib/python3.6/dist-packages/keras/backend/tensorflow_backend.py:197: The name tf.ConfigProto is deprecated. Please use tf.compat.v1.ConfigProto instead.\n",
            "\n",
            "WARNING:tensorflow:From /usr/local/lib/python3.6/dist-packages/keras/backend/tensorflow_backend.py:207: The name tf.global_variables is deprecated. Please use tf.compat.v1.global_variables instead.\n",
            "\n",
            "WARNING:tensorflow:From /usr/local/lib/python3.6/dist-packages/keras/backend/tensorflow_backend.py:216: The name tf.is_variable_initialized is deprecated. Please use tf.compat.v1.is_variable_initialized instead.\n",
            "\n",
            "WARNING:tensorflow:From /usr/local/lib/python3.6/dist-packages/keras/backend/tensorflow_backend.py:223: The name tf.variables_initializer is deprecated. Please use tf.compat.v1.variables_initializer instead.\n",
            "\n",
            "48000/48000 [==============================] - 7s 153us/step - loss: 0.8583 - categorical_accuracy: 0.6753 - val_loss: 0.4487 - val_categorical_accuracy: 0.8301\n",
            "Epoch 2/50\n",
            "48000/48000 [==============================] - 4s 80us/step - loss: 0.4572 - categorical_accuracy: 0.8368 - val_loss: 0.3486 - val_categorical_accuracy: 0.8744\n",
            "Epoch 3/50\n",
            "48000/48000 [==============================] - 4s 81us/step - loss: 0.3823 - categorical_accuracy: 0.8621 - val_loss: 0.3184 - val_categorical_accuracy: 0.8832\n",
            "Epoch 4/50\n",
            "48000/48000 [==============================] - 4s 80us/step - loss: 0.3446 - categorical_accuracy: 0.8762 - val_loss: 0.2882 - val_categorical_accuracy: 0.8924\n",
            "Epoch 5/50\n",
            "48000/48000 [==============================] - 4s 80us/step - loss: 0.3188 - categorical_accuracy: 0.8831 - val_loss: 0.2666 - val_categorical_accuracy: 0.8996\n",
            "Epoch 6/50\n",
            "48000/48000 [==============================] - 4s 79us/step - loss: 0.3006 - categorical_accuracy: 0.8916 - val_loss: 0.2560 - val_categorical_accuracy: 0.9052\n",
            "Epoch 7/50\n",
            "48000/48000 [==============================] - 4s 81us/step - loss: 0.2801 - categorical_accuracy: 0.8985 - val_loss: 0.2449 - val_categorical_accuracy: 0.9090\n",
            "Epoch 8/50\n",
            "48000/48000 [==============================] - 4s 80us/step - loss: 0.2756 - categorical_accuracy: 0.8999 - val_loss: 0.2382 - val_categorical_accuracy: 0.9127\n",
            "Epoch 9/50\n",
            "48000/48000 [==============================] - 4s 80us/step - loss: 0.2628 - categorical_accuracy: 0.9045 - val_loss: 0.2351 - val_categorical_accuracy: 0.9113\n",
            "Epoch 10/50\n",
            "48000/48000 [==============================] - 4s 80us/step - loss: 0.2567 - categorical_accuracy: 0.9065 - val_loss: 0.2457 - val_categorical_accuracy: 0.9088\n",
            "Epoch 11/50\n",
            "48000/48000 [==============================] - 4s 80us/step - loss: 0.2463 - categorical_accuracy: 0.9105 - val_loss: 0.2276 - val_categorical_accuracy: 0.9160\n",
            "Epoch 12/50\n",
            "48000/48000 [==============================] - 4s 81us/step - loss: 0.2407 - categorical_accuracy: 0.9122 - val_loss: 0.2167 - val_categorical_accuracy: 0.9193\n",
            "Epoch 13/50\n",
            "48000/48000 [==============================] - 4s 80us/step - loss: 0.2345 - categorical_accuracy: 0.9153 - val_loss: 0.2213 - val_categorical_accuracy: 0.9176\n",
            "Epoch 14/50\n",
            "48000/48000 [==============================] - 4s 80us/step - loss: 0.2305 - categorical_accuracy: 0.9155 - val_loss: 0.2165 - val_categorical_accuracy: 0.9190\n",
            "Epoch 15/50\n",
            "48000/48000 [==============================] - 4s 79us/step - loss: 0.2213 - categorical_accuracy: 0.9187 - val_loss: 0.2336 - val_categorical_accuracy: 0.9157\n",
            "Epoch 16/50\n",
            "48000/48000 [==============================] - 4s 79us/step - loss: 0.2216 - categorical_accuracy: 0.9184 - val_loss: 0.2189 - val_categorical_accuracy: 0.9194\n",
            "Epoch 17/50\n",
            "48000/48000 [==============================] - 4s 79us/step - loss: 0.2133 - categorical_accuracy: 0.9216 - val_loss: 0.2200 - val_categorical_accuracy: 0.9214\n",
            "Epoch 18/50\n",
            "48000/48000 [==============================] - 4s 80us/step - loss: 0.2096 - categorical_accuracy: 0.9226 - val_loss: 0.2100 - val_categorical_accuracy: 0.9223\n",
            "Epoch 19/50\n",
            "48000/48000 [==============================] - 4s 79us/step - loss: 0.2076 - categorical_accuracy: 0.9239 - val_loss: 0.2172 - val_categorical_accuracy: 0.9226\n",
            "Epoch 20/50\n",
            "48000/48000 [==============================] - 4s 79us/step - loss: 0.2064 - categorical_accuracy: 0.9252 - val_loss: 0.2087 - val_categorical_accuracy: 0.9233\n",
            "Epoch 21/50\n",
            "48000/48000 [==============================] - 4s 80us/step - loss: 0.1980 - categorical_accuracy: 0.9273 - val_loss: 0.2028 - val_categorical_accuracy: 0.9236\n",
            "Epoch 22/50\n",
            "48000/48000 [==============================] - 4s 82us/step - loss: 0.1978 - categorical_accuracy: 0.9291 - val_loss: 0.2066 - val_categorical_accuracy: 0.9230\n",
            "Epoch 23/50\n",
            "48000/48000 [==============================] - 4s 81us/step - loss: 0.1985 - categorical_accuracy: 0.9287 - val_loss: 0.2030 - val_categorical_accuracy: 0.9250\n",
            "Epoch 24/50\n",
            "48000/48000 [==============================] - 4s 81us/step - loss: 0.1958 - categorical_accuracy: 0.9277 - val_loss: 0.2043 - val_categorical_accuracy: 0.9269\n",
            "Epoch 25/50\n",
            "48000/48000 [==============================] - 4s 79us/step - loss: 0.1914 - categorical_accuracy: 0.9295 - val_loss: 0.2060 - val_categorical_accuracy: 0.9265\n",
            "Epoch 26/50\n",
            "48000/48000 [==============================] - 4s 81us/step - loss: 0.1914 - categorical_accuracy: 0.9298 - val_loss: 0.1978 - val_categorical_accuracy: 0.9273\n",
            "Epoch 27/50\n",
            "48000/48000 [==============================] - 4s 82us/step - loss: 0.1868 - categorical_accuracy: 0.9324 - val_loss: 0.2028 - val_categorical_accuracy: 0.9256\n",
            "Epoch 28/50\n",
            "48000/48000 [==============================] - 4s 81us/step - loss: 0.1841 - categorical_accuracy: 0.9337 - val_loss: 0.1987 - val_categorical_accuracy: 0.9298\n",
            "Epoch 29/50\n",
            "48000/48000 [==============================] - 4s 80us/step - loss: 0.1828 - categorical_accuracy: 0.9330 - val_loss: 0.2006 - val_categorical_accuracy: 0.9273\n",
            "Epoch 30/50\n",
            "48000/48000 [==============================] - 4s 80us/step - loss: 0.1821 - categorical_accuracy: 0.9330 - val_loss: 0.2090 - val_categorical_accuracy: 0.9267\n",
            "Epoch 31/50\n",
            "48000/48000 [==============================] - 4s 80us/step - loss: 0.1842 - categorical_accuracy: 0.9343 - val_loss: 0.2044 - val_categorical_accuracy: 0.9246\n",
            "Epoch 32/50\n",
            "48000/48000 [==============================] - 4s 79us/step - loss: 0.1748 - categorical_accuracy: 0.9364 - val_loss: 0.2020 - val_categorical_accuracy: 0.9280\n",
            "Epoch 33/50\n",
            "48000/48000 [==============================] - 4s 80us/step - loss: 0.1769 - categorical_accuracy: 0.9357 - val_loss: 0.1998 - val_categorical_accuracy: 0.9284\n",
            "Epoch 34/50\n",
            "48000/48000 [==============================] - 4s 80us/step - loss: 0.1763 - categorical_accuracy: 0.9355 - val_loss: 0.2006 - val_categorical_accuracy: 0.9292\n",
            "Epoch 35/50\n",
            "48000/48000 [==============================] - 4s 80us/step - loss: 0.1703 - categorical_accuracy: 0.9377 - val_loss: 0.1969 - val_categorical_accuracy: 0.9306\n",
            "Epoch 36/50\n",
            "48000/48000 [==============================] - 4s 79us/step - loss: 0.1692 - categorical_accuracy: 0.9385 - val_loss: 0.1959 - val_categorical_accuracy: 0.9324\n",
            "Epoch 37/50\n",
            "48000/48000 [==============================] - 4s 79us/step - loss: 0.1705 - categorical_accuracy: 0.9360 - val_loss: 0.1974 - val_categorical_accuracy: 0.9286\n",
            "Epoch 38/50\n",
            "48000/48000 [==============================] - 4s 79us/step - loss: 0.1688 - categorical_accuracy: 0.9370 - val_loss: 0.2095 - val_categorical_accuracy: 0.9283\n",
            "Epoch 39/50\n",
            "48000/48000 [==============================] - 4s 80us/step - loss: 0.1659 - categorical_accuracy: 0.9386 - val_loss: 0.1997 - val_categorical_accuracy: 0.9276\n",
            "Epoch 40/50\n",
            "48000/48000 [==============================] - 4s 79us/step - loss: 0.1669 - categorical_accuracy: 0.9380 - val_loss: 0.1996 - val_categorical_accuracy: 0.9305\n",
            "Epoch 41/50\n",
            "48000/48000 [==============================] - 4s 80us/step - loss: 0.1676 - categorical_accuracy: 0.9382 - val_loss: 0.2094 - val_categorical_accuracy: 0.9276\n",
            "Epoch 42/50\n",
            "48000/48000 [==============================] - 4s 81us/step - loss: 0.1619 - categorical_accuracy: 0.9405 - val_loss: 0.2001 - val_categorical_accuracy: 0.9290\n",
            "Epoch 43/50\n",
            "48000/48000 [==============================] - 4s 82us/step - loss: 0.1639 - categorical_accuracy: 0.9389 - val_loss: 0.1986 - val_categorical_accuracy: 0.9307\n",
            "Epoch 44/50\n",
            "48000/48000 [==============================] - 4s 80us/step - loss: 0.1589 - categorical_accuracy: 0.9403 - val_loss: 0.2001 - val_categorical_accuracy: 0.9304\n",
            "Epoch 45/50\n",
            "48000/48000 [==============================] - 4s 79us/step - loss: 0.1620 - categorical_accuracy: 0.9399 - val_loss: 0.2064 - val_categorical_accuracy: 0.9299\n",
            "Epoch 46/50\n",
            "48000/48000 [==============================] - 4s 80us/step - loss: 0.1562 - categorical_accuracy: 0.9424 - val_loss: 0.2033 - val_categorical_accuracy: 0.9289\n",
            "Epoch 47/50\n",
            "48000/48000 [==============================] - 4s 80us/step - loss: 0.1581 - categorical_accuracy: 0.9416 - val_loss: 0.2024 - val_categorical_accuracy: 0.9303\n",
            "Epoch 48/50\n",
            "48000/48000 [==============================] - 4s 79us/step - loss: 0.1571 - categorical_accuracy: 0.9424 - val_loss: 0.2035 - val_categorical_accuracy: 0.9311\n",
            "Epoch 49/50\n",
            "48000/48000 [==============================] - 4s 80us/step - loss: 0.1552 - categorical_accuracy: 0.9432 - val_loss: 0.2025 - val_categorical_accuracy: 0.9302\n",
            "Epoch 50/50\n",
            "48000/48000 [==============================] - 4s 79us/step - loss: 0.1566 - categorical_accuracy: 0.9413 - val_loss: 0.2042 - val_categorical_accuracy: 0.9288\n"
          ],
          "name": "stdout"
        }
      ]
    },
    {
      "cell_type": "code",
      "metadata": {
        "id": "5qx9TsPsDkc3",
        "colab_type": "code",
        "outputId": "21b0fb01-6424-45a8-d6b6-ca48d6ee7ef5",
        "colab": {
          "base_uri": "https://localhost:8080/",
          "height": 573
        }
      },
      "source": [
        "###Plotting the Results\n",
        "\n",
        "##Accuracy\n",
        "plt.plot(history.history['categorical_accuracy'])\n",
        "plt.plot(history.history['val_categorical_accuracy'])\n",
        "plt.title('Model accuracy')\n",
        "plt.ylabel('Accuracy')\n",
        "plt.xlabel('Epoch')\n",
        "plt.legend(['Train', 'Validation'], loc='upper left')\n",
        "plt.show()\n",
        "\n",
        "##Loss\n",
        "plt.plot(history.history['loss'])\n",
        "plt.plot(history.history['val_loss'])\n",
        "plt.title('Model loss')\n",
        "plt.ylabel('Loss')\n",
        "plt.xlabel('Epoch')\n",
        "plt.legend(['Train', 'Validation'], loc='upper left')\n",
        "plt.show()"
      ],
      "execution_count": 0,
      "outputs": [
        {
          "output_type": "display_data",
          "data": {
            "image/png": "[encoded data removed]",
            "text/plain": [
              "<Figure size 432x288 with 1 Axes>"
            ]
          },
          "metadata": {
            "tags": []
          }
        },
        {
          "output_type": "display_data",
          "data": {
            "image/png": "[encoded data removed]",
            "text/plain": [
              "<Figure size 432x288 with 1 Axes>"
            ]
          },
          "metadata": {
            "tags": []
          }
        }
      ]
    },
    {
      "cell_type": "code",
      "metadata": {
        "id": "Tx27-Md8FV3v",
        "colab_type": "code",
        "outputId": "1c8d23c2-6249-4eaf-aee5-0786164f3cdf",
        "colab": {
          "base_uri": "https://localhost:8080/",
          "height": 52
        }
      },
      "source": [
        "###Performance on the Test Set\n",
        "\n",
        "results = model.evaluate(X_test, Y_test, batch_size=batch_size)\n",
        "print('test loss, test acc:', results)"
      ],
      "execution_count": 0,
      "outputs": [
        {
          "output_type": "stream",
          "text": [
            "10000/10000 [==============================] - 0s 31us/step\n",
            "test loss, test acc: [0.23462233561873436, 0.9214]\n"
          ],
          "name": "stdout"
        }
      ]
    },
    {
      "cell_type": "code",
      "metadata": {
        "id": "0tqU_9ga8zjy",
        "colab_type": "code",
        "outputId": "ec900e86-1c1e-482c-8a1c-28e10a8cd7f8",
        "colab": {
          "base_uri": "https://localhost:8080/",
          "height": 1000
        }
      },
      "source": [
        "###Checking out the Wrong Predictions\n",
        "\n",
        "predictions = model.predict(X_test)\n",
        "wrong_predictions = list()\n",
        "\n",
        "for ind in range(len(predictions)):\n",
        "  if np.argmax(predictions[ind,:,]) != np.argmax(Y_test[ind,:]):\n",
        "    wrong_predictions.append(ind)\n",
        "\n",
        "for ind in wrong_predictions[:5]:\n",
        "  img = X_test_orig[ind]\n",
        "  label = np.argmax(Y_test[ind])\n",
        "  prediction = np.argmax(predictions[ind])\n",
        "\n",
        "  print('Actual:',label_dict[label])\n",
        "  print('Prediction:',label_dict[prediction])\n",
        "  plt.imshow(img,cmap='Greys')\n",
        "  plt.show()"
      ],
      "execution_count": 0,
      "outputs": [
        {
          "output_type": "stream",
          "text": [
            "Actual: Ankle boot\n",
            "Prediction: Sandal\n"
          ],
          "name": "stdout"
        },
        {
          "output_type": "display_data",
          "data": {
            "image/png": "[encoded data removed]",
            "text/plain": [
              "<Figure size 432x288 with 1 Axes>"
            ]
          },
          "metadata": {
            "tags": []
          }
        },
        {
          "output_type": "stream",
          "text": [
            "Actual: Coat\n",
            "Prediction: Pullover\n"
          ],
          "name": "stdout"
        },
        {
          "output_type": "display_data",
          "data": {
            "image/png": "[encoded data removed]",
            "text/plain": [
              "<Figure size 432x288 with 1 Axes>"
            ]
          },
          "metadata": {
            "tags": []
          }
        },
        {
          "output_type": "stream",
          "text": [
            "Actual: T-shirt/top\n",
            "Prediction: Shirt\n"
          ],
          "name": "stdout"
        },
        {
          "output_type": "display_data",
          "data": {
            "image/png": "[encoded data removed]",
            "text/plain": [
              "<Figure size 432x288 with 1 Axes>"
            ]
          },
          "metadata": {
            "tags": []
          }
        },
        {
          "output_type": "stream",
          "text": [
            "Actual: Dress\n",
            "Prediction: T-shirt/top\n"
          ],
          "name": "stdout"
        },
        {
          "output_type": "display_data",
          "data": {
            "image/png": "[encoded data removed]",
            "text/plain": [
              "<Figure size 432x288 with 1 Axes>"
            ]
          },
          "metadata": {
            "tags": []
          }
        },
        {
          "output_type": "stream",
          "text": [
            "Actual: Pullover\n",
            "Prediction: Shirt\n"
          ],
          "name": "stdout"
        },
        {
          "output_type": "display_data",
          "data": {
            "image/png": "[encoded data removed]",
            "text/plain": [
              "<Figure size 432x288 with 1 Axes>"
            ]
          },
          "metadata": {
            "tags": []
          }
        }
      ]
    }
  ]
}