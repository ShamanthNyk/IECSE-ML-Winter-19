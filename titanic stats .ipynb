{
 "cells": [
  {
   "cell_type": "code",
   "execution_count": 1,
   "metadata": {},
   "outputs": [],
   "source": [
    "import numpy as np\n",
    "import pandas as pd\n",
    "import matplotlib.pyplot as plt\n",
    "import seaborn as sns\n",
    "%matplotlib inline"
   ]
  },
  {
   "cell_type": "code",
   "execution_count": 2,
   "metadata": {},
   "outputs": [],
   "source": [
    "data= pd.read_csv(\"gender_submission.csv\")\n",
    "train_data=pd.read_csv(\"train.csv\")\n",
    "test_data=pd.read_csv(\"test.csv\")\n",
    "lr = 0.03\n",
    "#filling all NaN with 0\n",
    "train_data=train_data.fillna(0)\n",
    "test_data=test_data.fillna(0)\n"
   ]
  },
  {
   "cell_type": "code",
   "execution_count": 3,
   "metadata": {},
   "outputs": [
    {
     "data": {
      "text/html": [
       "<div>\n",
       "<style scoped>\n",
       "    .dataframe tbody tr th:only-of-type {\n",
       "        vertical-align: middle;\n",
       "    }\n",
       "\n",
       "    .dataframe tbody tr th {\n",
       "        vertical-align: top;\n",
       "    }\n",
       "\n",
       "    .dataframe thead th {\n",
       "        text-align: right;\n",
       "    }\n",
       "</style>\n",
       "<table border=\"1\" class=\"dataframe\">\n",
       "  <thead>\n",
       "    <tr style=\"text-align: right;\">\n",
       "      <th></th>\n",
       "      <th>PassengerId</th>\n",
       "      <th>Survived</th>\n",
       "      <th>Pclass</th>\n",
       "      <th>Name</th>\n",
       "      <th>Sex</th>\n",
       "      <th>Age</th>\n",
       "      <th>SibSp</th>\n",
       "      <th>Parch</th>\n",
       "      <th>Ticket</th>\n",
       "      <th>Fare</th>\n",
       "      <th>Cabin</th>\n",
       "      <th>Embarked</th>\n",
       "    </tr>\n",
       "  </thead>\n",
       "  <tbody>\n",
       "    <tr>\n",
       "      <td>0</td>\n",
       "      <td>1</td>\n",
       "      <td>0</td>\n",
       "      <td>3</td>\n",
       "      <td>Braund, Mr. Owen Harris</td>\n",
       "      <td>male</td>\n",
       "      <td>22.0</td>\n",
       "      <td>1</td>\n",
       "      <td>0</td>\n",
       "      <td>A/5 21171</td>\n",
       "      <td>7.2500</td>\n",
       "      <td>0</td>\n",
       "      <td>S</td>\n",
       "    </tr>\n",
       "    <tr>\n",
       "      <td>1</td>\n",
       "      <td>2</td>\n",
       "      <td>1</td>\n",
       "      <td>1</td>\n",
       "      <td>Cumings, Mrs. John Bradley (Florence Briggs Th...</td>\n",
       "      <td>female</td>\n",
       "      <td>38.0</td>\n",
       "      <td>1</td>\n",
       "      <td>0</td>\n",
       "      <td>PC 17599</td>\n",
       "      <td>71.2833</td>\n",
       "      <td>C85</td>\n",
       "      <td>C</td>\n",
       "    </tr>\n",
       "    <tr>\n",
       "      <td>2</td>\n",
       "      <td>3</td>\n",
       "      <td>1</td>\n",
       "      <td>3</td>\n",
       "      <td>Heikkinen, Miss. Laina</td>\n",
       "      <td>female</td>\n",
       "      <td>26.0</td>\n",
       "      <td>0</td>\n",
       "      <td>0</td>\n",
       "      <td>STON/O2. 3101282</td>\n",
       "      <td>7.9250</td>\n",
       "      <td>0</td>\n",
       "      <td>S</td>\n",
       "    </tr>\n",
       "    <tr>\n",
       "      <td>3</td>\n",
       "      <td>4</td>\n",
       "      <td>1</td>\n",
       "      <td>1</td>\n",
       "      <td>Futrelle, Mrs. Jacques Heath (Lily May Peel)</td>\n",
       "      <td>female</td>\n",
       "      <td>35.0</td>\n",
       "      <td>1</td>\n",
       "      <td>0</td>\n",
       "      <td>113803</td>\n",
       "      <td>53.1000</td>\n",
       "      <td>C123</td>\n",
       "      <td>S</td>\n",
       "    </tr>\n",
       "    <tr>\n",
       "      <td>4</td>\n",
       "      <td>5</td>\n",
       "      <td>0</td>\n",
       "      <td>3</td>\n",
       "      <td>Allen, Mr. William Henry</td>\n",
       "      <td>male</td>\n",
       "      <td>35.0</td>\n",
       "      <td>0</td>\n",
       "      <td>0</td>\n",
       "      <td>373450</td>\n",
       "      <td>8.0500</td>\n",
       "      <td>0</td>\n",
       "      <td>S</td>\n",
       "    </tr>\n",
       "  </tbody>\n",
       "</table>\n",
       "</div>"
      ],
      "text/plain": [
       "   PassengerId  Survived  Pclass  \\\n",
       "0            1         0       3   \n",
       "1            2         1       1   \n",
       "2            3         1       3   \n",
       "3            4         1       1   \n",
       "4            5         0       3   \n",
       "\n",
       "                                                Name     Sex   Age  SibSp  \\\n",
       "0                            Braund, Mr. Owen Harris    male  22.0      1   \n",
       "1  Cumings, Mrs. John Bradley (Florence Briggs Th...  female  38.0      1   \n",
       "2                             Heikkinen, Miss. Laina  female  26.0      0   \n",
       "3       Futrelle, Mrs. Jacques Heath (Lily May Peel)  female  35.0      1   \n",
       "4                           Allen, Mr. William Henry    male  35.0      0   \n",
       "\n",
       "   Parch            Ticket     Fare Cabin Embarked  \n",
       "0      0         A/5 21171   7.2500     0        S  \n",
       "1      0          PC 17599  71.2833   C85        C  \n",
       "2      0  STON/O2. 3101282   7.9250     0        S  \n",
       "3      0            113803  53.1000  C123        S  \n",
       "4      0            373450   8.0500     0        S  "
      ]
     },
     "execution_count": 3,
     "metadata": {},
     "output_type": "execute_result"
    }
   ],
   "source": [
    "train_data.head()"
   ]
  },
  {
   "cell_type": "code",
   "execution_count": 4,
   "metadata": {},
   "outputs": [
    {
     "name": "stdout",
     "output_type": "stream",
     "text": [
      "(891, 12)\n",
      "PassengerId    891\n",
      "Survived       891\n",
      "Pclass         891\n",
      "Name           891\n",
      "Sex            891\n",
      "Age            891\n",
      "SibSp          891\n",
      "Parch          891\n",
      "Ticket         891\n",
      "Fare           891\n",
      "Cabin          891\n",
      "Embarked       891\n",
      "dtype: int64\n"
     ]
    }
   ],
   "source": [
    "print(train_data.shape)\n",
    "print(train_data.count())"
   ]
  },
  {
   "cell_type": "code",
   "execution_count": 5,
   "metadata": {},
   "outputs": [
    {
     "data": {
      "text/plain": [
       "0    549\n",
       "1    342\n",
       "Name: Survived, dtype: int64"
      ]
     },
     "execution_count": 5,
     "metadata": {},
     "output_type": "execute_result"
    }
   ],
   "source": [
    "train_data.Survived.value_counts()"
   ]
  },
  {
   "cell_type": "code",
   "execution_count": 6,
   "metadata": {},
   "outputs": [
    {
     "data": {
      "image/png": "[encoded data removed]",
      "text/plain": [
       "<Figure size 432x288 with 1 Axes>"
      ]
     },
     "metadata": {
      "needs_background": "light"
     },
     "output_type": "display_data"
    }
   ],
   "source": [
    "plt.scatter(train_data.Survived,train_data.Age ,alpha=0.1)\n",
    "plt.title(\"age wrt survivd\")\n",
    "plt.xlabel(\"survived\")\n",
    "plt.ylabel(\"Age\")\n",
    "plt.show()"
   ]
  },
  {
   "cell_type": "code",
   "execution_count": 7,
   "metadata": {},
   "outputs": [
    {
     "data": {
      "image/png": "[encoded data removed]",
      "text/plain": [
       "<Figure size 432x288 with 1 Axes>"
      ]
     },
     "metadata": {
      "needs_background": "light"
     },
     "output_type": "display_data"
    }
   ],
   "source": [
    "sns.countplot(x=\"Survived\", data=train_data, palette=\"bwr\")\n",
    "plt.title(\"survival count\")\n",
    "plt.show()"
   ]
  },
  {
   "cell_type": "code",
   "execution_count": 8,
   "metadata": {},
   "outputs": [
    {
     "data": {
      "image/png": "[encoded data removed]",
      "text/plain": [
       "<Figure size 432x288 with 1 Axes>"
      ]
     },
     "metadata": {
      "needs_background": "light"
     },
     "output_type": "display_data"
    }
   ],
   "source": [
    "plt.scatter(train_data.Survived,train_data.Fare,alpha=0.05 ,c=\"m\")\n",
    "plt.title('Fare vs survived')\n",
    "plt.xlabel('survived')\n",
    "plt.ylabel('Fare')\n",
    "plt.show()"
   ]
  },
  {
   "cell_type": "code",
   "execution_count": 9,
   "metadata": {},
   "outputs": [
    {
     "data": {
      "image/png": "[encoded data removed]",
      "text/plain": [
       "<Figure size 432x288 with 1 Axes>"
      ]
     },
     "metadata": {
      "needs_background": "light"
     },
     "output_type": "display_data"
    }
   ],
   "source": [
    "for x in [1,2,3]:\n",
    "    train_data.Survived[train_data.Pclass==x].plot(kind=\"kde\")\n",
    "plt.title(\"class vs survived\")\n",
    "plt.legend((\"class-1\",\"class-2\",\"class-3\"))\n",
    "plt.xlabel(\"survived\")\n",
    "plt.ylabel(\"class\")\n",
    "plt.show()"
   ]
  },
  {
   "cell_type": "code",
   "execution_count": 10,
   "metadata": {},
   "outputs": [
    {
     "data": {
      "text/plain": [
       "Text(0.5, 0, 'survived')"
      ]
     },
     "execution_count": 10,
     "metadata": {},
     "output_type": "execute_result"
    },
    {
     "data": {
      "image/png": "[encoded data removed]",
      "text/plain": [
       "<Figure size 432x288 with 1 Axes>"
      ]
     },
     "metadata": {
      "needs_background": "light"
     },
     "output_type": "display_data"
    }
   ],
   "source": [
    "train_data.Survived[(train_data.Pclass==1) & (train_data.Sex==\"male\")].value_counts(normalize=True).plot(kind=\"bar\",alpha=0.5,color=\"y\")\n",
    "plt.title(\"stats of Rich men in ship\")\n",
    "plt.xlabel('survived')"
   ]
  },
  {
   "cell_type": "code",
   "execution_count": 11,
   "metadata": {},
   "outputs": [
    {
     "data": {
      "text/plain": [
       "Text(0.5, 0, 'survived')"
      ]
     },
     "execution_count": 11,
     "metadata": {},
     "output_type": "execute_result"
    },
    {
     "data": {
      "image/png": "[encoded data removed]",
      "text/plain": [
       "<Figure size 432x288 with 1 Axes>"
      ]
     },
     "metadata": {
      "needs_background": "light"
     },
     "output_type": "display_data"
    }
   ],
   "source": [
    "train_data.Survived[(train_data.Pclass==2) & (train_data.Sex==\"male\")].value_counts(normalize=True).plot(kind=\"bar\",alpha=0.5,color=\"b\")\n",
    "plt.title(\"stats of middle class men in ship\")\n",
    "plt.xlabel('survived')"
   ]
  },
  {
   "cell_type": "code",
   "execution_count": 12,
   "metadata": {},
   "outputs": [
    {
     "data": {
      "text/plain": [
       "Text(0.5, 0, 'survived')"
      ]
     },
     "execution_count": 12,
     "metadata": {},
     "output_type": "execute_result"
    },
    {
     "data": {
      "image/png": "[encoded data removed]",
      "text/plain": [
       "<Figure size 432x288 with 1 Axes>"
      ]
     },
     "metadata": {
      "needs_background": "light"
     },
     "output_type": "display_data"
    }
   ],
   "source": [
    "train_data.Survived[(train_data.Pclass==3) & (train_data.Sex==\"male\")].value_counts(normalize=True).plot(kind=\"bar\",alpha=0.5,color=\"grey\")\n",
    "plt.title(\"stats of poor men in ship\")\n",
    "plt.xlabel('survived')"
   ]
  },
  {
   "cell_type": "code",
   "execution_count": 13,
   "metadata": {},
   "outputs": [
    {
     "data": {
      "text/plain": [
       "Text(0.5, 0, 'survived')"
      ]
     },
     "execution_count": 13,
     "metadata": {},
     "output_type": "execute_result"
    },
    {
     "data": {
      "image/png": "[encoded data removed]",
      "text/plain": [
       "<Figure size 432x288 with 1 Axes>"
      ]
     },
     "metadata": {
      "needs_background": "light"
     },
     "output_type": "display_data"
    }
   ],
   "source": [
    "train_data.Survived[(train_data.Pclass==1) & (train_data.Sex==\"female\")].value_counts(normalize=True).plot(kind=\"bar\",alpha=0.5,color=\"c\")\n",
    "plt.title(\"stats of Rich women in ship\")\n",
    "plt.xlabel('survived')"
   ]
  },
  {
   "cell_type": "code",
   "execution_count": 14,
   "metadata": {},
   "outputs": [
    {
     "data": {
      "text/plain": [
       "Text(0.5, 0, 'survived')"
      ]
     },
     "execution_count": 14,
     "metadata": {},
     "output_type": "execute_result"
    },
    {
     "data": {
      "image/png": "[encoded data removed]",
      "text/plain": [
       "<Figure size 432x288 with 1 Axes>"
      ]
     },
     "metadata": {
      "needs_background": "light"
     },
     "output_type": "display_data"
    }
   ],
   "source": [
    "train_data.Survived[(train_data.Pclass==2) & (train_data.Sex==\"female\")].value_counts().plot(kind=\"bar\",alpha=0.5,color=\"orangered\")\n",
    "plt.title(\"stats of middle class women in ship\")\n",
    "plt.xlabel('survived')"
   ]
  },
  {
   "cell_type": "code",
   "execution_count": 15,
   "metadata": {},
   "outputs": [
    {
     "data": {
      "text/plain": [
       "Text(0.5, 0, 'survived')"
      ]
     },
     "execution_count": 15,
     "metadata": {},
     "output_type": "execute_result"
    },
    {
     "data": {
      "image/png": "[encoded data removed]",
      "text/plain": [
       "<Figure size 432x288 with 1 Axes>"
      ]
     },
     "metadata": {
      "needs_background": "light"
     },
     "output_type": "display_data"
    }
   ],
   "source": [
    "train_data.Survived[(train_data.Pclass==3) & (train_data.Sex==\"female\")].value_counts(normalize=True).plot(kind=\"bar\",alpha=0.5,color=\"gold\")\n",
    "plt.title(\"stats of poor women in ship\")\n",
    "plt.xlabel('survived')"
   ]
  },
  {
   "cell_type": "code",
   "execution_count": 16,
   "metadata": {},
   "outputs": [
    {
     "data": {
      "text/html": [
       "<div>\n",
       "<style scoped>\n",
       "    .dataframe tbody tr th:only-of-type {\n",
       "        vertical-align: middle;\n",
       "    }\n",
       "\n",
       "    .dataframe tbody tr th {\n",
       "        vertical-align: top;\n",
       "    }\n",
       "\n",
       "    .dataframe thead th {\n",
       "        text-align: right;\n",
       "    }\n",
       "</style>\n",
       "<table border=\"1\" class=\"dataframe\">\n",
       "  <thead>\n",
       "    <tr style=\"text-align: right;\">\n",
       "      <th>Pclass</th>\n",
       "      <th>1</th>\n",
       "      <th>2</th>\n",
       "      <th>3</th>\n",
       "    </tr>\n",
       "    <tr>\n",
       "      <th>Sex</th>\n",
       "      <th></th>\n",
       "      <th></th>\n",
       "      <th></th>\n",
       "    </tr>\n",
       "  </thead>\n",
       "  <tbody>\n",
       "    <tr>\n",
       "      <td>female</td>\n",
       "      <td>0.968085</td>\n",
       "      <td>0.921053</td>\n",
       "      <td>0.500000</td>\n",
       "    </tr>\n",
       "    <tr>\n",
       "      <td>male</td>\n",
       "      <td>0.368852</td>\n",
       "      <td>0.157407</td>\n",
       "      <td>0.135447</td>\n",
       "    </tr>\n",
       "  </tbody>\n",
       "</table>\n",
       "</div>"
      ],
      "text/plain": [
       "Pclass         1         2         3\n",
       "Sex                                 \n",
       "female  0.968085  0.921053  0.500000\n",
       "male    0.368852  0.157407  0.135447"
      ]
     },
     "execution_count": 16,
     "metadata": {},
     "output_type": "execute_result"
    }
   ],
   "source": [
    "#conclusions for above graphs for every Pclass vs survival for each particular Sex :\n",
    "train_data.pivot_table(\"Survived\" , index=\"Sex\" , columns=\"Pclass\")"
   ]
  },
  {
   "cell_type": "code",
   "execution_count": 35,
   "metadata": {},
   "outputs": [
    {
     "data": {
      "image/png": "[encoded data removed]",
      "text/plain": [
       "<Figure size 432x288 with 1 Axes>"
      ]
     },
     "metadata": {
      "needs_background": "light"
     },
     "output_type": "display_data"
    }
   ],
   "source": [
    "for x in [1,2,3]:\n",
    "    train_data.Age[train_data.Pclass==x].plot(kind=\"kde\")\n",
    "plt.title(\"Pclass vs Age\")\n",
    "plt.legend((\"class-1\",\"class-2\",\"class-3\"))\n",
    "plt.xlabel(\"age\")\n",
    "plt.ylabel(\"class\")\n",
    "plt.show()"
   ]
  },
  {
   "cell_type": "code",
   "execution_count": 18,
   "metadata": {},
   "outputs": [
    {
     "data": {
      "image/png": "[encoded data removed]",
      "text/plain": [
       "<Figure size 432x288 with 1 Axes>"
      ]
     },
     "metadata": {
      "needs_background": "light"
     },
     "output_type": "display_data"
    }
   ],
   "source": [
    "plt.scatter(train_data.Age,train_data.PassengerId,alpha=0.3 ,c=\"black\")\n",
    "plt.title('PassengerId vs Age')\n",
    "plt.xlabel('Age')\n",
    "plt.ylabel('PassengerID')\n",
    "plt.show()"
   ]
  },
  {
   "cell_type": "code",
   "execution_count": 19,
   "metadata": {},
   "outputs": [
    {
     "name": "stdout",
     "output_type": "stream",
     "text": [
      "Percentage of People died: 61.62%\n",
      "Percentage of People survived: 38.38%\n"
     ]
    }
   ],
   "source": [
    "count_not_survived = len(train_data[train_data.Survived == 0])\n",
    "count_survived = len(train_data[train_data.Survived == 1])\n",
    "print(\"Percentage of People died: {:.2f}%\".format((count_not_survived / (len(train_data.Survived))*100)))\n",
    "print(\"Percentage of People survived: {:.2f}%\".format((count_survived / (len(train_data.Survived))*100)))"
   ]
  },
  {
   "cell_type": "code",
   "execution_count": 20,
   "metadata": {},
   "outputs": [
    {
     "data": {
      "text/plain": [
       "(891, 12)"
      ]
     },
     "execution_count": 20,
     "metadata": {},
     "output_type": "execute_result"
    }
   ],
   "source": [
    "train_data.shape"
   ]
  },
  {
   "cell_type": "code",
   "execution_count": 21,
   "metadata": {},
   "outputs": [],
   "source": [
    "#creating dummy variables\n",
    "train_data_sex = pd.get_dummies(train_data['Sex'])\n",
    "train_data_new = pd.concat([train_data, train_data_sex], axis=1)\n",
    "train_data_new = train_data_new.drop('Sex', axis=1)\n",
    "\n",
    "train_data_em = pd.get_dummies(train_data_new['Embarked'])\n",
    "train_data_new = pd.concat([train_data_new, train_data_em], axis=1)\n",
    "train_data_new = train_data_new.drop('Embarked', axis=1)\n",
    "\n",
    "train_data_new = train_data_new.drop('Ticket', axis=1)\n",
    "train_data_new = train_data_new.drop('Name', axis=1)\n",
    "train_data_new = train_data_new.drop('Cabin', axis=1)\n",
    "train_data_new = train_data_new.drop('PassengerId',axis=1)"
   ]
  },
  {
   "cell_type": "code",
   "execution_count": 22,
   "metadata": {},
   "outputs": [
    {
     "data": {
      "text/html": [
       "<div>\n",
       "<style scoped>\n",
       "    .dataframe tbody tr th:only-of-type {\n",
       "        vertical-align: middle;\n",
       "    }\n",
       "\n",
       "    .dataframe tbody tr th {\n",
       "        vertical-align: top;\n",
       "    }\n",
       "\n",
       "    .dataframe thead th {\n",
       "        text-align: right;\n",
       "    }\n",
       "</style>\n",
       "<table border=\"1\" class=\"dataframe\">\n",
       "  <thead>\n",
       "    <tr style=\"text-align: right;\">\n",
       "      <th></th>\n",
       "      <th>Pclass</th>\n",
       "      <th>Age</th>\n",
       "      <th>SibSp</th>\n",
       "      <th>Parch</th>\n",
       "      <th>Fare</th>\n",
       "      <th>female</th>\n",
       "      <th>male</th>\n",
       "      <th>0</th>\n",
       "      <th>C</th>\n",
       "      <th>Q</th>\n",
       "      <th>S</th>\n",
       "    </tr>\n",
       "  </thead>\n",
       "  <tbody>\n",
       "    <tr>\n",
       "      <td>0</td>\n",
       "      <td>0.345679</td>\n",
       "      <td>-0.022491</td>\n",
       "      <td>0.059624</td>\n",
       "      <td>-0.063599</td>\n",
       "      <td>-0.048707</td>\n",
       "      <td>-0.352413</td>\n",
       "      <td>0.352413</td>\n",
       "      <td>-0.002245</td>\n",
       "      <td>-0.188552</td>\n",
       "      <td>-0.08642</td>\n",
       "      <td>0.277217</td>\n",
       "    </tr>\n",
       "    <tr>\n",
       "      <td>1</td>\n",
       "      <td>-0.654321</td>\n",
       "      <td>0.177509</td>\n",
       "      <td>0.059624</td>\n",
       "      <td>-0.063599</td>\n",
       "      <td>0.076277</td>\n",
       "      <td>0.647587</td>\n",
       "      <td>-0.647587</td>\n",
       "      <td>-0.002245</td>\n",
       "      <td>0.811448</td>\n",
       "      <td>-0.08642</td>\n",
       "      <td>-0.722783</td>\n",
       "    </tr>\n",
       "    <tr>\n",
       "      <td>2</td>\n",
       "      <td>0.345679</td>\n",
       "      <td>0.027509</td>\n",
       "      <td>-0.065376</td>\n",
       "      <td>-0.063599</td>\n",
       "      <td>-0.047390</td>\n",
       "      <td>0.647587</td>\n",
       "      <td>-0.647587</td>\n",
       "      <td>-0.002245</td>\n",
       "      <td>-0.188552</td>\n",
       "      <td>-0.08642</td>\n",
       "      <td>0.277217</td>\n",
       "    </tr>\n",
       "    <tr>\n",
       "      <td>3</td>\n",
       "      <td>-0.654321</td>\n",
       "      <td>0.140009</td>\n",
       "      <td>0.059624</td>\n",
       "      <td>-0.063599</td>\n",
       "      <td>0.040786</td>\n",
       "      <td>0.647587</td>\n",
       "      <td>-0.647587</td>\n",
       "      <td>-0.002245</td>\n",
       "      <td>-0.188552</td>\n",
       "      <td>-0.08642</td>\n",
       "      <td>0.277217</td>\n",
       "    </tr>\n",
       "    <tr>\n",
       "      <td>4</td>\n",
       "      <td>0.345679</td>\n",
       "      <td>0.140009</td>\n",
       "      <td>-0.065376</td>\n",
       "      <td>-0.063599</td>\n",
       "      <td>-0.047146</td>\n",
       "      <td>-0.352413</td>\n",
       "      <td>0.352413</td>\n",
       "      <td>-0.002245</td>\n",
       "      <td>-0.188552</td>\n",
       "      <td>-0.08642</td>\n",
       "      <td>0.277217</td>\n",
       "    </tr>\n",
       "    <tr>\n",
       "      <td>...</td>\n",
       "      <td>...</td>\n",
       "      <td>...</td>\n",
       "      <td>...</td>\n",
       "      <td>...</td>\n",
       "      <td>...</td>\n",
       "      <td>...</td>\n",
       "      <td>...</td>\n",
       "      <td>...</td>\n",
       "      <td>...</td>\n",
       "      <td>...</td>\n",
       "      <td>...</td>\n",
       "    </tr>\n",
       "    <tr>\n",
       "      <td>886</td>\n",
       "      <td>-0.154321</td>\n",
       "      <td>0.040009</td>\n",
       "      <td>-0.065376</td>\n",
       "      <td>-0.063599</td>\n",
       "      <td>-0.037484</td>\n",
       "      <td>-0.352413</td>\n",
       "      <td>0.352413</td>\n",
       "      <td>-0.002245</td>\n",
       "      <td>-0.188552</td>\n",
       "      <td>-0.08642</td>\n",
       "      <td>0.277217</td>\n",
       "    </tr>\n",
       "    <tr>\n",
       "      <td>887</td>\n",
       "      <td>-0.654321</td>\n",
       "      <td>-0.059991</td>\n",
       "      <td>-0.065376</td>\n",
       "      <td>-0.063599</td>\n",
       "      <td>-0.004302</td>\n",
       "      <td>0.647587</td>\n",
       "      <td>-0.647587</td>\n",
       "      <td>-0.002245</td>\n",
       "      <td>-0.188552</td>\n",
       "      <td>-0.08642</td>\n",
       "      <td>0.277217</td>\n",
       "    </tr>\n",
       "    <tr>\n",
       "      <td>888</td>\n",
       "      <td>0.345679</td>\n",
       "      <td>-0.297491</td>\n",
       "      <td>0.059624</td>\n",
       "      <td>0.269734</td>\n",
       "      <td>-0.017087</td>\n",
       "      <td>0.647587</td>\n",
       "      <td>-0.647587</td>\n",
       "      <td>-0.002245</td>\n",
       "      <td>-0.188552</td>\n",
       "      <td>-0.08642</td>\n",
       "      <td>0.277217</td>\n",
       "    </tr>\n",
       "    <tr>\n",
       "      <td>889</td>\n",
       "      <td>-0.654321</td>\n",
       "      <td>0.027509</td>\n",
       "      <td>-0.065376</td>\n",
       "      <td>-0.063599</td>\n",
       "      <td>-0.004302</td>\n",
       "      <td>-0.352413</td>\n",
       "      <td>0.352413</td>\n",
       "      <td>-0.002245</td>\n",
       "      <td>0.811448</td>\n",
       "      <td>-0.08642</td>\n",
       "      <td>-0.722783</td>\n",
       "    </tr>\n",
       "    <tr>\n",
       "      <td>890</td>\n",
       "      <td>0.345679</td>\n",
       "      <td>0.102509</td>\n",
       "      <td>-0.065376</td>\n",
       "      <td>-0.063599</td>\n",
       "      <td>-0.047731</td>\n",
       "      <td>-0.352413</td>\n",
       "      <td>0.352413</td>\n",
       "      <td>-0.002245</td>\n",
       "      <td>-0.188552</td>\n",
       "      <td>0.91358</td>\n",
       "      <td>-0.722783</td>\n",
       "    </tr>\n",
       "  </tbody>\n",
       "</table>\n",
       "<p>891 rows × 11 columns</p>\n",
       "</div>"
      ],
      "text/plain": [
       "       Pclass       Age     SibSp     Parch      Fare    female      male  \\\n",
       "0    0.345679 -0.022491  0.059624 -0.063599 -0.048707 -0.352413  0.352413   \n",
       "1   -0.654321  0.177509  0.059624 -0.063599  0.076277  0.647587 -0.647587   \n",
       "2    0.345679  0.027509 -0.065376 -0.063599 -0.047390  0.647587 -0.647587   \n",
       "3   -0.654321  0.140009  0.059624 -0.063599  0.040786  0.647587 -0.647587   \n",
       "4    0.345679  0.140009 -0.065376 -0.063599 -0.047146 -0.352413  0.352413   \n",
       "..        ...       ...       ...       ...       ...       ...       ...   \n",
       "886 -0.154321  0.040009 -0.065376 -0.063599 -0.037484 -0.352413  0.352413   \n",
       "887 -0.654321 -0.059991 -0.065376 -0.063599 -0.004302  0.647587 -0.647587   \n",
       "888  0.345679 -0.297491  0.059624  0.269734 -0.017087  0.647587 -0.647587   \n",
       "889 -0.654321  0.027509 -0.065376 -0.063599 -0.004302 -0.352413  0.352413   \n",
       "890  0.345679  0.102509 -0.065376 -0.063599 -0.047731 -0.352413  0.352413   \n",
       "\n",
       "            0         C        Q         S  \n",
       "0   -0.002245 -0.188552 -0.08642  0.277217  \n",
       "1   -0.002245  0.811448 -0.08642 -0.722783  \n",
       "2   -0.002245 -0.188552 -0.08642  0.277217  \n",
       "3   -0.002245 -0.188552 -0.08642  0.277217  \n",
       "4   -0.002245 -0.188552 -0.08642  0.277217  \n",
       "..        ...       ...      ...       ...  \n",
       "886 -0.002245 -0.188552 -0.08642  0.277217  \n",
       "887 -0.002245 -0.188552 -0.08642  0.277217  \n",
       "888 -0.002245 -0.188552 -0.08642  0.277217  \n",
       "889 -0.002245  0.811448 -0.08642 -0.722783  \n",
       "890 -0.002245 -0.188552  0.91358 -0.722783  \n",
       "\n",
       "[891 rows x 11 columns]"
      ]
     },
     "execution_count": 22,
     "metadata": {},
     "output_type": "execute_result"
    }
   ],
   "source": [
    "norm = (train_data_new-train_data_new.mean())/(train_data_new.max()-train_data_new.min())#normalised train data \n",
    "#including Survived column\n",
    "features =norm.drop('Survived', axis=1)\n",
    "targets =train_data_new.iloc[:,0:1]\n",
    "features"
   ]
  },
  {
   "cell_type": "code",
   "execution_count": 23,
   "metadata": {},
   "outputs": [
    {
     "name": "stdout",
     "output_type": "stream",
     "text": [
      "(891, 11) (891, 1)\n"
     ]
    }
   ],
   "source": [
    "features=np.array(features)\n",
    "targets=np.array(targets)\n",
    "print(features.shape,targets.shape)"
   ]
  },
  {
   "cell_type": "code",
   "execution_count": 24,
   "metadata": {},
   "outputs": [
    {
     "data": {
      "text/plain": [
       "(11, 1)"
      ]
     },
     "execution_count": 24,
     "metadata": {},
     "output_type": "execute_result"
    }
   ],
   "source": [
    "weights = np.zeros([11,1])\n",
    "weights.shape"
   ]
  },
  {
   "cell_type": "code",
   "execution_count": 25,
   "metadata": {},
   "outputs": [],
   "source": [
    "def predict(features, weights):\n",
    "    z = np.dot(features, weights)\n",
    "    predictions=1/(1+np.exp(-z))\n",
    "    return predictions"
   ]
  },
  {
   "cell_type": "code",
   "execution_count": 26,
   "metadata": {},
   "outputs": [
    {
     "data": {
      "text/plain": [
       "array([[ 0.34567901, -0.02249116,  0.05962402, -0.06359895, -0.04870737,\n",
       "        -0.35241302,  0.35241302, -0.00224467, -0.18855219, -0.08641975,\n",
       "         0.27721661],\n",
       "       [-0.65432099,  0.17750884,  0.05962402, -0.06359895,  0.07627731,\n",
       "         0.64758698, -0.64758698, -0.00224467,  0.81144781, -0.08641975,\n",
       "        -0.72278339],\n",
       "       [ 0.34567901,  0.02750884, -0.06537598, -0.06359895, -0.04738986,\n",
       "         0.64758698, -0.64758698, -0.00224467, -0.18855219, -0.08641975,\n",
       "         0.27721661],\n",
       "       [-0.65432099,  0.14000884,  0.05962402, -0.06359895,  0.04078587,\n",
       "         0.64758698, -0.64758698, -0.00224467, -0.18855219, -0.08641975,\n",
       "         0.27721661],\n",
       "       [ 0.34567901,  0.14000884, -0.06537598, -0.06359895, -0.04714587,\n",
       "        -0.35241302,  0.35241302, -0.00224467, -0.18855219, -0.08641975,\n",
       "         0.27721661]])"
      ]
     },
     "execution_count": 26,
     "metadata": {},
     "output_type": "execute_result"
    }
   ],
   "source": [
    "features[:5]"
   ]
  },
  {
   "cell_type": "code",
   "execution_count": 27,
   "metadata": {},
   "outputs": [
    {
     "data": {
      "text/plain": [
       "array([[0.],\n",
       "       [0.],\n",
       "       [0.],\n",
       "       [0.],\n",
       "       [0.]])"
      ]
     },
     "execution_count": 27,
     "metadata": {},
     "output_type": "execute_result"
    }
   ],
   "source": [
    "weights[:5]"
   ]
  },
  {
   "cell_type": "code",
   "execution_count": 28,
   "metadata": {},
   "outputs": [
    {
     "data": {
      "text/plain": [
       "array([[0.5],\n",
       "       [0.5],\n",
       "       [0.5],\n",
       "       [0.5],\n",
       "       [0.5]])"
      ]
     },
     "execution_count": 28,
     "metadata": {},
     "output_type": "execute_result"
    }
   ],
   "source": [
    "predict(features, weights)[:5]"
   ]
  },
  {
   "cell_type": "code",
   "execution_count": 29,
   "metadata": {},
   "outputs": [],
   "source": [
    "# loss=cost (h(x),y)=-y(log(h(x)))-(1-y)log(1-h(x));y=targets(0 or 1);h(x)=predictions(0 to 1)\n",
    "#J(theta)=-loss/m;N=no.of training examples=m;J(theta) for logistic regression=mse for linear regression\n",
    "def loss_function(features, targets, weights):\n",
    "    N = len(targets)#891\n",
    "    predictions = predict(features, weights)\n",
    "    loss = targets*np.log(predictions)+(1-targets)*np.log(1-predictions)\n",
    "    mse=(-1/N)*loss.sum()\n",
    "    return mse"
   ]
  },
  {
   "cell_type": "code",
   "execution_count": 30,
   "metadata": {},
   "outputs": [
    {
     "data": {
      "text/plain": [
       "(891, 11)"
      ]
     },
     "execution_count": 30,
     "metadata": {},
     "output_type": "execute_result"
    }
   ],
   "source": [
    "features.shape"
   ]
  },
  {
   "cell_type": "code",
   "execution_count": 31,
   "metadata": {},
   "outputs": [],
   "source": [
    "#features.T -->x(i)\n",
    "#(11,891)*(891,1)---->(11,1)--->thetas\n",
    "def update_weights(features, targets, weights, lr):\n",
    "    N = len(features)\n",
    "    predictions = predict(features, weights)\n",
    "    gradient = np.dot(features.T,  predictions - targets)\n",
    "    gradient /= N\n",
    "    gradient *= lr\n",
    "    weights -= gradient\n",
    "    \n",
    "    return weights"
   ]
  },
  {
   "cell_type": "code",
   "execution_count": 32,
   "metadata": {},
   "outputs": [],
   "source": [
    "def train(features,targets, weights, lr, iters=10000):\n",
    "    cost_history = []\n",
    "\n",
    "    for i in range(10000):\n",
    "        weights = update_weights(features,targets, weights, lr)\n",
    "        cost = loss_function(features,targets, weights)\n",
    "        cost_history.append(cost)    \n",
    "    return cost_history,weights"
   ]
  },
  {
   "cell_type": "code",
   "execution_count": 33,
   "metadata": {},
   "outputs": [],
   "source": [
    "mse,weights=train(features,targets, weights, lr, iters=10000)"
   ]
  },
  {
   "cell_type": "code",
   "execution_count": 34,
   "metadata": {},
   "outputs": [
    {
     "data": {
      "image/png": "[encoded data removed]",
      "text/plain": [
       "<Figure size 432x288 with 1 Axes>"
      ]
     },
     "metadata": {
      "needs_background": "light"
     },
     "output_type": "display_data"
    }
   ],
   "source": [
    "cost_history=[]\n",
    "for i in range(10000):\n",
    "        weights = update_weights(features,targets, weights, lr)\n",
    "        cost = loss_function(features,targets, weights)\n",
    "        cost_history.append(cost)\n",
    "        \n",
    "arr =[]\n",
    "for i in range(1,10001):\n",
    "    arr.append(i)\n",
    "plt.plot(arr,cost_history)\n",
    "plt.xlabel(\"Iters\")\n",
    "plt.ylabel(\"Cost\")\n",
    "plt.show()"
   ]
  },
  {
   "cell_type": "code",
   "execution_count": null,
   "metadata": {},
   "outputs": [],
   "source": []
  }
 ],
 "metadata": {
  "kernelspec": {
   "display_name": "Python 3",
   "language": "python",
   "name": "python3"
  },
  "language_info": {
   "codemirror_mode": {
    "name": "ipython",
    "version": 3
   },
   "file_extension": ".py",
   "mimetype": "text/x-python",
   "name": "python",
   "nbconvert_exporter": "python",
   "pygments_lexer": "ipython3",
   "version": "3.7.4"
  }
 },
 "nbformat": 4,
 "nbformat_minor": 2
}
