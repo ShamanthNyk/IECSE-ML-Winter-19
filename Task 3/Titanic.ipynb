{
 "cells": [
  {
   "cell_type": "code",
   "execution_count": 1,
   "metadata": {},
   "outputs": [],
   "source": [
    "import pandas as pd\n",
    "import numpy as np\n",
    "import matplotlib.pyplot as plt"
   ]
  },
  {
   "cell_type": "code",
   "execution_count": 2,
   "metadata": {},
   "outputs": [
    {
     "name": "stdout",
     "output_type": "stream",
     "text": [
      "     PassengerId  Pclass                                               Name  \\\n",
      "0              1       3                            Braund, Mr. Owen Harris   \n",
      "1              2       1  Cumings, Mrs. John Bradley (Florence Briggs Th...   \n",
      "2              3       3                             Heikkinen, Miss. Laina   \n",
      "3              4       1       Futrelle, Mrs. Jacques Heath (Lily May Peel)   \n",
      "4              5       3                           Allen, Mr. William Henry   \n",
      "..           ...     ...                                                ...   \n",
      "886          887       2                              Montvila, Rev. Juozas   \n",
      "887          888       1                       Graham, Miss. Margaret Edith   \n",
      "888          889       3           Johnston, Miss. Catherine Helen \"Carrie\"   \n",
      "889          890       1                              Behr, Mr. Karl Howell   \n",
      "890          891       3                                Dooley, Mr. Patrick   \n",
      "\n",
      "        Sex   Age  SibSp  Parch            Ticket     Fare Cabin Embarked  \n",
      "0      male  22.0      1      0         A/5 21171   7.2500   NaN        S  \n",
      "1    female  38.0      1      0          PC 17599  71.2833   C85        C  \n",
      "2    female  26.0      0      0  STON/O2. 3101282   7.9250   NaN        S  \n",
      "3    female  35.0      1      0            113803  53.1000  C123        S  \n",
      "4      male  35.0      0      0            373450   8.0500   NaN        S  \n",
      "..      ...   ...    ...    ...               ...      ...   ...      ...  \n",
      "886    male  27.0      0      0            211536  13.0000   NaN        S  \n",
      "887  female  19.0      0      0            112053  30.0000   B42        S  \n",
      "888  female   NaN      1      2        W./C. 6607  23.4500   NaN        S  \n",
      "889    male  26.0      0      0            111369  30.0000  C148        C  \n",
      "890    male  32.0      0      0            370376   7.7500   NaN        Q  \n",
      "\n",
      "[891 rows x 11 columns]\n"
     ]
    }
   ],
   "source": [
    "data = pd.read_csv(\"train.csv\")\n",
    "train_x = data.drop('Survived', axis = 1)\n",
    "print(train_x)\n",
    "train_x['Age'] = train_x['Age'].fillna(train_x['Age'].median())\n",
    "\n",
    "train_x = train_x.drop(['PassengerId', 'Name', 'Parch', 'Ticket', 'Fare', 'Cabin', 'Embarked'], axis = 1)\n",
    "d = {'male': 0 ,'female': 1}\n",
    "train_x['Sex'] = train_x['Sex'].apply(lambda x:d[x])\n",
    "\n",
    "train_y = data['Survived']\n",
    "theta = np.zeros((1, 5))\n",
    "train_x = train_x.values\n",
    "train_y = train_y.values.reshape(891, 1)"
   ]
  },
  {
   "cell_type": "code",
   "execution_count": 3,
   "metadata": {},
   "outputs": [],
   "source": [
    "test_x = pd.read_csv(\"test.csv\")\n",
    "test_x = test_x.drop(['PassengerId', 'Name', 'Parch', 'Ticket', 'Fare', 'Cabin', 'Embarked'], axis = 1)\n",
    "test_x['Sex'] = test_x['Sex'].apply(lambda x:d[x])\n",
    "test_x['Age'] = test_x['Age'].fillna(test_x['Age'].median())\n",
    "test_x = test_x.values\n",
    "test_y = pd.read_csv(\"gender_submission.csv\")\n",
    "test_y = test_y.drop(['PassengerId'], axis = 1)\n",
    "test_y = test_y.values"
   ]
  },
  {
   "cell_type": "code",
   "execution_count": 4,
   "metadata": {},
   "outputs": [
    {
     "name": "stdout",
     "output_type": "stream",
     "text": [
      "(891, 5)\n",
      "(418, 5)\n"
     ]
    }
   ],
   "source": [
    "ones = np.ones((891, 1))\n",
    "train_x = np.concatenate((ones, train_x), axis=1)\n",
    "print(train_x.shape)\n",
    "ones = np.ones((418, 1))\n",
    "test_x = np.concatenate((ones, test_x), axis = 1)\n",
    "print(test_x.shape)"
   ]
  },
  {
   "cell_type": "code",
   "execution_count": 5,
   "metadata": {},
   "outputs": [],
   "source": [
    "def hypothesis(x, theta):\n",
    "    h = np.zeros([891, 1])\n",
    "    for i in range(len(x)):\n",
    "        a = x[i]\n",
    "        h[i][0] = 1 / (1 + np.exp(-np.sum(np.dot(a, theta.T))) - 1)\n",
    "    return h"
   ]
  },
  {
   "cell_type": "code",
   "execution_count": 6,
   "metadata": {},
   "outputs": [],
   "source": [
    "def hypothesis_test(x, theta):\n",
    "    h = np.zeros([418, 1])\n",
    "    for i in range(len(x)):\n",
    "        a = x[i]\n",
    "        h[i][0] = 1 / (1 + np.exp(-np.sum(np.dot(a, theta.T))) - 1)\n",
    "    return h"
   ]
  },
  {
   "cell_type": "code",
   "execution_count": 7,
   "metadata": {},
   "outputs": [],
   "source": [
    "def costfun(x, y, theta):\n",
    "    predictions = hypothesis(x, theta)\n",
    "    c = (-y) * math.log(predictions) - (1 - y) * math.log(1 - predictions)\n",
    "    return c\n"
   ]
  },
  {
   "cell_type": "code",
   "execution_count": 8,
   "metadata": {},
   "outputs": [],
   "source": [
    "def gradient(x, y, theta, alpha, iterations):\n",
    "    for i in range(iterations):\n",
    "        h = hypothesis(x, theta)\n",
    "        loss = h - y\n",
    "        g = loss.T.dot(x)/len(y)\n",
    "        theta = theta - alpha * g\n",
    "    return theta\n"
   ]
  },
  {
   "cell_type": "code",
   "execution_count": 9,
   "metadata": {},
   "outputs": [],
   "source": [
    "def decide(prob):\n",
    "    for i in range(len(prob)):\n",
    "        if prob[i]>=0.5:\n",
    "            prob[i] = 1\n",
    "        else:\n",
    "            prob[i] = 0\n",
    "    return prob            "
   ]
  },
  {
   "cell_type": "code",
   "execution_count": 10,
   "metadata": {},
   "outputs": [],
   "source": [
    "theta = gradient(train_x, train_y, theta, 0.005, 7000)\n",
    "prob = hypothesis_test(test_x, theta)\n",
    "z = prob.mean()\n",
    "for i in range(len(prob)):\n",
    "    if prob[i] == 0:\n",
    "        prob[i] = z\n",
    "prob = decide(hypothesis_test(test_x, theta))"
   ]
  },
  {
   "cell_type": "code",
   "execution_count": 14,
   "metadata": {},
   "outputs": [
    {
     "name": "stdout",
     "output_type": "stream",
     "text": [
      "387\n"
     ]
    }
   ],
   "source": [
    "score = 0\n",
    "for i in range(len(prob)):\n",
    "    if prob[i] == test_y[i]:\n",
    "        score = score + 1\n",
    "print(score)"
   ]
  },
  {
   "cell_type": "code",
   "execution_count": 15,
   "metadata": {},
   "outputs": [
    {
     "name": "stdout",
     "output_type": "stream",
     "text": [
      "92.58373205741627\n"
     ]
    }
   ],
   "source": [
    "accuracy = score / 418 * 100\n",
    "print(accuracy)"
   ]
  },
  {
   "cell_type": "code",
   "execution_count": 16,
   "metadata": {},
   "outputs": [
    {
     "name": "stdout",
     "output_type": "stream",
     "text": [
      "0.8872727272727273\n"
     ]
    }
   ],
   "source": [
    "#F1 score\n",
    "tp = 0\n",
    "tn = 0\n",
    "fn = 0\n",
    "fp = 0\n",
    "for i in range(len(prob)):\n",
    "    if prob[i] == 1 and test_y[i] == 1:\n",
    "        tp = tp + 1\n",
    "    elif prob[i] == 0 and test_y[i] == 0:\n",
    "        tn = tn + 1\n",
    "    elif prob[i] == 1 and test_y[i] == 0:\n",
    "        fp = fp + 1\n",
    "    elif prob[i] == 0 and test_y[i] == 1:\n",
    "        fn = fn + 1\n",
    "\n",
    "precision = tp / (tp + fp)\n",
    "recall = tp / (tp + fn)\n",
    "f1 = 2 * (precision * recall) / (precision + recall)\n",
    "print(f1)"
   ]
  },
  {
   "cell_type": "code",
   "execution_count": null,
   "metadata": {},
   "outputs": [],
   "source": []
  }
 ],
 "metadata": {
  "kernelspec": {
   "display_name": "Python 3",
   "language": "python",
   "name": "python3"
  },
  "language_info": {
   "codemirror_mode": {
    "name": "ipython",
    "version": 3
   },
   "file_extension": ".py",
   "mimetype": "text/x-python",
   "name": "python",
   "nbconvert_exporter": "python",
   "pygments_lexer": "ipython3",
   "version": "3.7.4"
  }
 },
 "nbformat": 4,
 "nbformat_minor": 2
}
