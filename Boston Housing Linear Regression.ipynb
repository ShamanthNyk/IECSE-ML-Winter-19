{
 "cells": [
  {
   "cell_type": "code",
   "execution_count": 1,
   "metadata": {},
   "outputs": [],
   "source": [
    "import pandas as pd\n",
    "import numpy as np\n",
    "import matplotlib.pyplot as plt"
   ]
  },
  {
   "cell_type": "code",
   "execution_count": 2,
   "metadata": {},
   "outputs": [],
   "source": [
    "df = pd.read_csv(\"BostonHousing.csv\")"
   ]
  },
  {
   "cell_type": "code",
   "execution_count": 3,
   "metadata": {},
   "outputs": [
    {
     "data": {
      "text/plain": [
       "(506, 14)"
      ]
     },
     "execution_count": 3,
     "metadata": {},
     "output_type": "execute_result"
    }
   ],
   "source": [
    "df.shape"
   ]
  },
  {
   "cell_type": "code",
   "execution_count": 4,
   "metadata": {},
   "outputs": [
    {
     "data": {
      "text/html": [
       "<div>\n",
       "<style scoped>\n",
       "    .dataframe tbody tr th:only-of-type {\n",
       "        vertical-align: middle;\n",
       "    }\n",
       "\n",
       "    .dataframe tbody tr th {\n",
       "        vertical-align: top;\n",
       "    }\n",
       "\n",
       "    .dataframe thead th {\n",
       "        text-align: right;\n",
       "    }\n",
       "</style>\n",
       "<table border=\"1\" class=\"dataframe\">\n",
       "  <thead>\n",
       "    <tr style=\"text-align: right;\">\n",
       "      <th></th>\n",
       "      <th>crim</th>\n",
       "      <th>zn</th>\n",
       "      <th>indus</th>\n",
       "      <th>chas</th>\n",
       "      <th>nox</th>\n",
       "      <th>rm</th>\n",
       "      <th>age</th>\n",
       "      <th>dis</th>\n",
       "      <th>rad</th>\n",
       "      <th>tax</th>\n",
       "      <th>ptratio</th>\n",
       "      <th>b</th>\n",
       "      <th>lstat</th>\n",
       "      <th>medv</th>\n",
       "    </tr>\n",
       "  </thead>\n",
       "  <tbody>\n",
       "    <tr>\n",
       "      <th>0</th>\n",
       "      <td>0.00632</td>\n",
       "      <td>18.0</td>\n",
       "      <td>2.31</td>\n",
       "      <td>0</td>\n",
       "      <td>0.538</td>\n",
       "      <td>6.575</td>\n",
       "      <td>65.2</td>\n",
       "      <td>4.0900</td>\n",
       "      <td>1</td>\n",
       "      <td>296</td>\n",
       "      <td>15.3</td>\n",
       "      <td>396.90</td>\n",
       "      <td>4.98</td>\n",
       "      <td>24.0</td>\n",
       "    </tr>\n",
       "    <tr>\n",
       "      <th>1</th>\n",
       "      <td>0.02731</td>\n",
       "      <td>0.0</td>\n",
       "      <td>7.07</td>\n",
       "      <td>0</td>\n",
       "      <td>0.469</td>\n",
       "      <td>6.421</td>\n",
       "      <td>78.9</td>\n",
       "      <td>4.9671</td>\n",
       "      <td>2</td>\n",
       "      <td>242</td>\n",
       "      <td>17.8</td>\n",
       "      <td>396.90</td>\n",
       "      <td>9.14</td>\n",
       "      <td>21.6</td>\n",
       "    </tr>\n",
       "    <tr>\n",
       "      <th>2</th>\n",
       "      <td>0.02729</td>\n",
       "      <td>0.0</td>\n",
       "      <td>7.07</td>\n",
       "      <td>0</td>\n",
       "      <td>0.469</td>\n",
       "      <td>7.185</td>\n",
       "      <td>61.1</td>\n",
       "      <td>4.9671</td>\n",
       "      <td>2</td>\n",
       "      <td>242</td>\n",
       "      <td>17.8</td>\n",
       "      <td>392.83</td>\n",
       "      <td>4.03</td>\n",
       "      <td>34.7</td>\n",
       "    </tr>\n",
       "    <tr>\n",
       "      <th>3</th>\n",
       "      <td>0.03237</td>\n",
       "      <td>0.0</td>\n",
       "      <td>2.18</td>\n",
       "      <td>0</td>\n",
       "      <td>0.458</td>\n",
       "      <td>6.998</td>\n",
       "      <td>45.8</td>\n",
       "      <td>6.0622</td>\n",
       "      <td>3</td>\n",
       "      <td>222</td>\n",
       "      <td>18.7</td>\n",
       "      <td>394.63</td>\n",
       "      <td>2.94</td>\n",
       "      <td>33.4</td>\n",
       "    </tr>\n",
       "    <tr>\n",
       "      <th>4</th>\n",
       "      <td>0.06905</td>\n",
       "      <td>0.0</td>\n",
       "      <td>2.18</td>\n",
       "      <td>0</td>\n",
       "      <td>0.458</td>\n",
       "      <td>7.147</td>\n",
       "      <td>54.2</td>\n",
       "      <td>6.0622</td>\n",
       "      <td>3</td>\n",
       "      <td>222</td>\n",
       "      <td>18.7</td>\n",
       "      <td>396.90</td>\n",
       "      <td>5.33</td>\n",
       "      <td>36.2</td>\n",
       "    </tr>\n",
       "  </tbody>\n",
       "</table>\n",
       "</div>"
      ],
      "text/plain": [
       "      crim    zn  indus  chas    nox     rm   age     dis  rad  tax  ptratio  \\\n",
       "0  0.00632  18.0   2.31     0  0.538  6.575  65.2  4.0900    1  296     15.3   \n",
       "1  0.02731   0.0   7.07     0  0.469  6.421  78.9  4.9671    2  242     17.8   \n",
       "2  0.02729   0.0   7.07     0  0.469  7.185  61.1  4.9671    2  242     17.8   \n",
       "3  0.03237   0.0   2.18     0  0.458  6.998  45.8  6.0622    3  222     18.7   \n",
       "4  0.06905   0.0   2.18     0  0.458  7.147  54.2  6.0622    3  222     18.7   \n",
       "\n",
       "        b  lstat  medv  \n",
       "0  396.90   4.98  24.0  \n",
       "1  396.90   9.14  21.6  \n",
       "2  392.83   4.03  34.7  \n",
       "3  394.63   2.94  33.4  \n",
       "4  396.90   5.33  36.2  "
      ]
     },
     "execution_count": 4,
     "metadata": {},
     "output_type": "execute_result"
    }
   ],
   "source": [
    "df.head()"
   ]
  },
  {
   "cell_type": "code",
   "execution_count": 5,
   "metadata": {},
   "outputs": [],
   "source": [
    "%matplotlib inline"
   ]
  },
  {
   "cell_type": "code",
   "execution_count": 6,
   "metadata": {},
   "outputs": [],
   "source": [
    "from sklearn.preprocessing import StandardScaler"
   ]
  },
  {
   "cell_type": "code",
   "execution_count": 7,
   "metadata": {},
   "outputs": [],
   "source": [
    "data = df.values"
   ]
  },
  {
   "cell_type": "code",
   "execution_count": 8,
   "metadata": {},
   "outputs": [
    {
     "name": "stdout",
     "output_type": "stream",
     "text": [
      "[[6.3200e-03 1.8000e+01 2.3100e+00 ... 3.9690e+02 4.9800e+00 2.4000e+01]\n",
      " [2.7310e-02 0.0000e+00 7.0700e+00 ... 3.9690e+02 9.1400e+00 2.1600e+01]\n",
      " [2.7290e-02 0.0000e+00 7.0700e+00 ... 3.9283e+02 4.0300e+00 3.4700e+01]\n",
      " ...\n",
      " [6.0760e-02 0.0000e+00 1.1930e+01 ... 3.9690e+02 5.6400e+00 2.3900e+01]\n",
      " [1.0959e-01 0.0000e+00 1.1930e+01 ... 3.9345e+02 6.4800e+00 2.2000e+01]\n",
      " [4.7410e-02 0.0000e+00 1.1930e+01 ... 3.9690e+02 7.8800e+00 1.1900e+01]]\n"
     ]
    }
   ],
   "source": [
    "print(data)"
   ]
  },
  {
   "cell_type": "code",
   "execution_count": 9,
   "metadata": {},
   "outputs": [],
   "source": [
    "sc = StandardScaler()"
   ]
  },
  {
   "cell_type": "code",
   "execution_count": 10,
   "metadata": {},
   "outputs": [],
   "source": [
    "data[:,:-1] = sc.fit_transform(data[:,:-1])"
   ]
  },
  {
   "cell_type": "code",
   "execution_count": 11,
   "metadata": {},
   "outputs": [
    {
     "data": {
      "text/plain": [
       "array([[-0.41978194,  0.28482986, -1.2879095 , ...,  0.44105193,\n",
       "        -1.0755623 , 24.        ],\n",
       "       [-0.41733926, -0.48772236, -0.59338101, ...,  0.44105193,\n",
       "        -0.49243937, 21.6       ],\n",
       "       [-0.41734159, -0.48772236, -0.59338101, ...,  0.39642699,\n",
       "        -1.2087274 , 34.7       ],\n",
       "       ...,\n",
       "       [-0.41344658, -0.48772236,  0.11573841, ...,  0.44105193,\n",
       "        -0.98304761, 23.9       ],\n",
       "       [-0.40776407, -0.48772236,  0.11573841, ...,  0.4032249 ,\n",
       "        -0.86530163, 22.        ],\n",
       "       [-0.41500016, -0.48772236,  0.11573841, ...,  0.44105193,\n",
       "        -0.66905833, 11.9       ]])"
      ]
     },
     "execution_count": 11,
     "metadata": {},
     "output_type": "execute_result"
    }
   ],
   "source": [
    "data"
   ]
  },
  {
   "cell_type": "code",
   "execution_count": 12,
   "metadata": {},
   "outputs": [
    {
     "name": "stdout",
     "output_type": "stream",
     "text": [
      "(506, 14)\n"
     ]
    }
   ],
   "source": [
    "print(data.shape)"
   ]
  },
  {
   "cell_type": "code",
   "execution_count": 13,
   "metadata": {},
   "outputs": [],
   "source": [
    "X=data[:,:-1].copy()"
   ]
  },
  {
   "cell_type": "code",
   "execution_count": 14,
   "metadata": {},
   "outputs": [],
   "source": [
    "Y=data[:,-1].copy()"
   ]
  },
  {
   "cell_type": "code",
   "execution_count": 15,
   "metadata": {},
   "outputs": [],
   "source": [
    "from sklearn.model_selection import train_test_split"
   ]
  },
  {
   "cell_type": "code",
   "execution_count": 16,
   "metadata": {},
   "outputs": [],
   "source": [
    "X_train, X_test, Y_train, Y_test = train_test_split(X,Y)"
   ]
  },
  {
   "cell_type": "code",
   "execution_count": 17,
   "metadata": {},
   "outputs": [
    {
     "name": "stdout",
     "output_type": "stream",
     "text": [
      "(379, 13) (379,)\n"
     ]
    }
   ],
   "source": [
    "print(X_train.shape, Y_train.shape)"
   ]
  },
  {
   "cell_type": "code",
   "execution_count": 18,
   "metadata": {},
   "outputs": [],
   "source": [
    "Y_train=Y_train.reshape(-1,1)"
   ]
  },
  {
   "cell_type": "code",
   "execution_count": 19,
   "metadata": {},
   "outputs": [],
   "source": [
    "Y_test=Y_test.reshape(-1,1)"
   ]
  },
  {
   "cell_type": "code",
   "execution_count": 20,
   "metadata": {},
   "outputs": [
    {
     "name": "stdout",
     "output_type": "stream",
     "text": [
      "(127, 13) (127, 1)\n"
     ]
    }
   ],
   "source": [
    "print(X_test.shape, Y_test.shape)"
   ]
  },
  {
   "cell_type": "code",
   "execution_count": 21,
   "metadata": {},
   "outputs": [],
   "source": [
    "X_train=X_train.T"
   ]
  },
  {
   "cell_type": "code",
   "execution_count": 22,
   "metadata": {},
   "outputs": [],
   "source": [
    "X_test=X_test.T"
   ]
  },
  {
   "cell_type": "code",
   "execution_count": 23,
   "metadata": {},
   "outputs": [],
   "source": [
    "Y_train=Y_train.T\n",
    "Y_test=Y_test.T"
   ]
  },
  {
   "cell_type": "code",
   "execution_count": 24,
   "metadata": {},
   "outputs": [],
   "source": [
    "def compute_cost(y,y_hat):\n",
    "    return np.sqrt(np.sum(((y_hat-y)**2), axis = 1)/y.shape[1])"
   ]
  },
  {
   "cell_type": "code",
   "execution_count": 25,
   "metadata": {},
   "outputs": [],
   "source": [
    "# Method 1\n",
    "def compute_w1(X,Y):\n",
    "    X=X.T\n",
    "    Y=Y.T\n",
    "    w = np.linalg.inv(np.dot(X.T,X)).dot(np.dot(X.T,Y))\n",
    "    return w.T"
   ]
  },
  {
   "cell_type": "code",
   "execution_count": 26,
   "metadata": {},
   "outputs": [],
   "source": [
    "def add_row_1(arr):\n",
    "    ones = np.ones((1,arr.shape[1]))\n",
    "    arr= np.concatenate((arr, ones), axis=0)\n",
    "    return arr"
   ]
  },
  {
   "cell_type": "code",
   "execution_count": 27,
   "metadata": {},
   "outputs": [
    {
     "name": "stdout",
     "output_type": "stream",
     "text": [
      "(13, 379)\n"
     ]
    }
   ],
   "source": [
    "X_train_1=add_row_1(X_train)\n",
    "print(X_train.shape)"
   ]
  },
  {
   "cell_type": "code",
   "execution_count": 28,
   "metadata": {},
   "outputs": [
    {
     "name": "stdout",
     "output_type": "stream",
     "text": [
      "[[-0.38297076 -0.4041053  -0.3946686  ... -0.4053214  -0.39560307\n",
      "  -0.4169692 ]\n",
      " [-0.48772236 -0.48772236 -0.48772236 ... -0.48772236  0.45650813\n",
      "   1.87285388]\n",
      " [ 1.56899549  0.40609801 -0.16440754 ... -0.16440754 -0.76993132\n",
      "  -1.07342276]\n",
      " ...\n",
      " [ 1.26893833 -1.13534664 -0.30309415 ... -0.30309415  0.29797709\n",
      "  -0.39556665]\n",
      " [ 0.23656665  0.44105193  0.44105193 ... -0.19784123  0.22362871\n",
      "   0.34314021]\n",
      " [ 0.59530919  0.44672498  0.62194221 ...  0.3808433  -1.27040386\n",
      "  -1.1274266 ]]\n"
     ]
    }
   ],
   "source": [
    "print(X_train)"
   ]
  },
  {
   "cell_type": "code",
   "execution_count": 29,
   "metadata": {},
   "outputs": [],
   "source": [
    "X_test_1 = add_row_1(X_test)"
   ]
  },
  {
   "cell_type": "code",
   "execution_count": 30,
   "metadata": {},
   "outputs": [
    {
     "name": "stdout",
     "output_type": "stream",
     "text": [
      "(13, 127)\n",
      "[[ 0.25724145 -0.41068737 -0.39119253 ... -0.41714376 -0.15281243\n",
      "   0.6662794 ]\n",
      " [-0.48772236 -0.48772236 -0.48772236 ...  1.22906036 -0.48772236\n",
      "  -0.48772236]\n",
      " [ 1.01599907 -1.03402724 -0.07978012 ... -1.44257341  1.2319449\n",
      "   1.01599907]\n",
      " ...\n",
      " [ 0.80657583 -0.85792914  0.06679585 ...  0.57539459 -1.73641788\n",
      "   0.80657583]\n",
      " [ 0.44105193  0.40081274  0.35914818 ...  0.36375321 -0.65330068\n",
      "  -3.24494606]\n",
      " [-0.26816131 -0.42235247  0.75791078 ... -0.94800416 -0.21769875\n",
      "   1.60175696]]\n"
     ]
    }
   ],
   "source": [
    "print(X_test.shape)\n",
    "print(X_test)"
   ]
  },
  {
   "cell_type": "code",
   "execution_count": 31,
   "metadata": {},
   "outputs": [
    {
     "name": "stdout",
     "output_type": "stream",
     "text": [
      "(14, 127) (14, 379)\n"
     ]
    }
   ],
   "source": [
    "print(X_test_1.shape,X_train_1.shape)"
   ]
  },
  {
   "cell_type": "code",
   "execution_count": 32,
   "metadata": {},
   "outputs": [],
   "source": [
    "w1=compute_w1(X_train_1, Y_train)"
   ]
  },
  {
   "cell_type": "code",
   "execution_count": 33,
   "metadata": {},
   "outputs": [
    {
     "name": "stdout",
     "output_type": "stream",
     "text": [
      "[[-1.2927231   1.45024146  0.23426086  0.35829975 -1.83507368  2.59069871\n",
      "  -0.0978473  -3.14573161  3.02861544 -2.47324161 -1.80819031  1.00842526\n",
      "  -3.68977134 22.40462055]]\n"
     ]
    }
   ],
   "source": [
    "print(w1)"
   ]
  },
  {
   "cell_type": "code",
   "execution_count": 34,
   "metadata": {},
   "outputs": [
    {
     "name": "stdout",
     "output_type": "stream",
     "text": [
      "(1, 14)\n"
     ]
    }
   ],
   "source": [
    "print(w1.shape)"
   ]
  },
  {
   "cell_type": "code",
   "execution_count": 35,
   "metadata": {},
   "outputs": [],
   "source": [
    "Y_hat_1 = w1.dot(X_train_1)"
   ]
  },
  {
   "cell_type": "code",
   "execution_count": 36,
   "metadata": {},
   "outputs": [],
   "source": [
    "cost1 = compute_cost(Y_train, Y_hat_1)"
   ]
  },
  {
   "cell_type": "code",
   "execution_count": 37,
   "metadata": {},
   "outputs": [
    {
     "name": "stdout",
     "output_type": "stream",
     "text": [
      "[4.44317704]\n"
     ]
    }
   ],
   "source": [
    "print(cost1)"
   ]
  },
  {
   "cell_type": "code",
   "execution_count": 38,
   "metadata": {},
   "outputs": [
    {
     "name": "stdout",
     "output_type": "stream",
     "text": [
      "[[17.4 20.3 18.7 15.4 27.1 22.8 13.1 24.4 32.  13.2 22.9 21.2 11.  19.4\n",
      "  22.6 22.1 15.3 15.6 13.8 30.5 19.7 22.4 22.3 22.  24.3 20.6 17.5 48.8\n",
      "  10.4 23.4 31.6 23.  14.5 18.  27.1 50.  21.  23.6 24.7 19.9 31.  16.5\n",
      "  22.6 23.5 21.7 21.6 20.1 50.  20.9 23.7 30.1 10.4 22.5 46.  36.  21.4\n",
      "  17.1  8.7 10.5 14.2 23.3 17.1 19.4 13.8 21.7 19.1 23.3 24.2 22.7 20.9\n",
      "  24.1 28.4 19.2 18.2 19.9 17.2 21.2  8.8 20.  18.7 16.2 24.6 28.6 26.6\n",
      "  20.1 18.9 21.7 16.8 29.1 24.  35.2 11.8 14.1  7.2 18.6 25.   9.7 18.5\n",
      "  13.4 31.5 33.1 19.6 18.3 16.1 19.3 15.  28.4 21.1 35.1  8.1 20.3 22.2\n",
      "  24.7 36.2 33.2 20.8 23.7 20.8 20.   5.  21.9 15.2 21.7 26.2 34.9 20.7\n",
      "  24.4 13.4 13.1 20.5 19.5 19.7 13.5 19.5 25.  17.2 33.4 30.1 10.2 21.6\n",
      "  13.1 48.3 19.8 20.1 23.1 19.6 17.8 18.4 21.9 15.4 21.4 13.8 24.4 30.8\n",
      "  27.5 13.6 23.2 25.  21.2 14.3 32.4 50.  11.3 23.3 23.1 20.6 18.5 21.\n",
      "  32.  24.5 29.6 19.1 33.3 22.2 12.  16.8 17.5 19.3 24.8 21.9 22.  11.5\n",
      "  21.4 20.6 21.8 17.6 41.3 23.1 19.6 27.5 22.9 12.6  7.2 27.  18.5 20.6\n",
      "  23.6 24.3 23.2 16.6 35.4 10.2 12.7 10.2 18.9 28.2 24.8 23.  23.9 23.8\n",
      "  19.5 13.3 12.8 23.2 22.8 18.9 20.3 23.3 17.3 21.7 11.9 19.4 13.3 18.8\n",
      "  20.  14.4 28.7 11.7 33.2 26.4 25.  26.7 13.6 13.5 50.  36.1 36.5 22.8\n",
      "  17.  24.7 25.3 21.2 41.7 23.7 21.2 14.9 14.9 15.7 16.7 20.6 29.  19.9\n",
      "  29.  19.1 14.3 48.5 19.6 15.1 28.7 18.4 20.  28.7 32.2 10.9 31.7 46.7\n",
      "  50.  12.5 17.8 18.5 23.8 24.1 14.1 14.1 22.  22.9 16.3 29.9  9.6 22.\n",
      "  17.8 34.9 50.  13.4  7.4 19.3 10.8 14.9 42.3 22.  24.3 22.2 32.7 13.3\n",
      "  44.8 16.  17.1 29.6 19.3 15.2 23.1 23.9 11.8 14.4 19.8 23.9 18.3 22.6\n",
      "  34.6 20.  19.6 13.9 22.4 13.4 26.6 30.7 21.7 16.2 21.4 12.3 44.  21.7\n",
      "  20.1 50.  43.5 16.1 14.  15.6 25.1 27.5 20.4 15.6 23.1 25.  19.4 21.8\n",
      "  22.6  7.5 20.8 23.7 23.1 19.4 24.4 42.8 39.8 32.9 19.2 22.  24.6 50.\n",
      "  15.2 30.3 34.9  8.3 18.1 14.5  7.  50.  22.9 20.4 20.6 31.1 22.5 36.4\n",
      "  10.9 37.2 30.1 24.  22.2 34.7 35.4 33.8  5.  22.2 29.8 50.  20.4 24.8\n",
      "  31.2]]\n"
     ]
    }
   ],
   "source": [
    "print(Y_train)"
   ]
  },
  {
   "cell_type": "code",
   "execution_count": 39,
   "metadata": {},
   "outputs": [
    {
     "name": "stdout",
     "output_type": "stream",
     "text": [
      "[[16.13895101 19.18699451 20.36691718 18.20489934 19.19035566 26.10870947\n",
      "  20.42116501 28.74166757 33.26467416  8.79156417 25.27766848 21.38262378\n",
      "  14.03799372 17.07643566 23.60038082 26.87460679 18.92317849 12.19892852\n",
      "   0.88192346 30.10212988 21.3569996  23.79161876 27.56982571 27.24586195\n",
      "  28.38388651 27.38197691 18.57617191 40.4920642   6.0457546  24.02115721\n",
      "  33.9524157  20.20390234 13.96635575 19.1430024  26.88922764 42.79271942\n",
      "  20.89896267 28.65836526 23.10556719 20.32719094 34.10702836 11.28413639\n",
      "  22.87059558 30.97787696 20.78459098 25.41736135 23.7589989  43.91049192\n",
      "  22.28857926 11.46646836 26.42215559 11.0243975  29.3114331  38.68955453\n",
      "  36.08735846 24.34148713 19.55204678  8.18425026 12.4854254  18.29134955\n",
      "  25.39947141 20.12420158 26.19304497 11.69947761 21.90997444 23.65645263\n",
      "  25.35129591 25.16735376 21.3896452  20.71316506 20.69812872 31.31456924\n",
      "  23.34735129 15.62509304 19.35586998 16.05219496 23.07004379  3.13136792\n",
      "  22.52870406 21.75340682 15.49111031 24.83395162 28.04727189 27.55176697\n",
      "  20.88351453 23.86759103 20.80768971 20.50175957 31.77290594 25.15551934\n",
      "  34.2941939  11.55357439 17.68740943  8.7270453  17.24327703 24.55336853\n",
      "  10.1504943  24.79576421 12.6734627  32.37411799 33.9734853  17.81632263\n",
      "  19.19586232 18.91730266 20.57404747 12.71002251 28.13811087 21.00267214\n",
      "  35.170732    3.28403335 22.2269757  19.48914882 25.52400946 27.68545307\n",
      "  34.60924903 18.76986225 28.52377453 23.08674854 18.82589509  5.64209539\n",
      "  24.45886216 19.61559587 22.37558024 24.29702957 35.14141712 21.8579868\n",
      "  22.22137894 13.4158733  13.16777747 19.8717392  20.54436652 14.19312193\n",
      "  12.49392749 20.06575785 22.98312283 13.74201435 28.38129187 34.65840987\n",
      "   6.5994661  24.69650259 15.36099073 36.70893438 18.40388811 15.51784068\n",
      "  20.84340659 19.56201401 16.70693713 19.0985238  15.97412202 14.80000691\n",
      "  23.65758587 20.392518   23.67048208 32.32789818 24.5189255  12.69273759\n",
      "  17.67210735 24.50718499 22.82020402 14.36701338 35.2429548  24.00879299\n",
      "  13.70448647 22.31070312 22.68915932 22.56234077 19.60436679 21.3332064\n",
      "  34.14560579 21.39779529 25.0999481  17.0212702  36.051395   25.74415907\n",
      "  11.36295279 19.44180496 16.13312708 22.07564635 27.30568843 36.24017307\n",
      "  22.51550726 14.52665114 21.6139048  17.83941944 20.79192768 16.43802481\n",
      "  32.5254601  24.91371747 18.26983713 14.87646931 22.75539871 18.29721936\n",
      "  17.74025215 30.76527374 19.51041553 22.66721852 30.16935898 20.23608156\n",
      "  22.63629907 17.80186865 34.12730479 15.68550093 11.60348635 16.59099309\n",
      "  16.14818593 33.17623198 30.84209139 28.19593473 25.5545018  22.34054815\n",
      "  18.57876599 20.26891026 13.41515397 25.39120308 28.44152964 21.26691377\n",
      "  22.97453886 28.42708812 16.90680565 21.04036952 22.61585817 17.10050616\n",
      "  16.04815315 21.06114557 20.42088298  8.99938229 30.41440137 15.40959553\n",
      "  31.71751238 29.01958509 25.20076619 31.61415287 13.31072476 13.57453275\n",
      "  43.83645991 33.72496713 35.50235266 24.56352508 20.96891021 24.6027223\n",
      "  25.17047681 20.94547336 37.55787691 27.51809179 22.45675461 17.22915267\n",
      "  14.71458268 15.18040183 20.69123132 21.57607167 30.1753737  18.31191464\n",
      "  32.07266472 19.76110107 16.84141599 42.77931652 22.99325001 17.51473858\n",
      "  28.13064798 16.01879196 22.41175938 25.06067224 32.17268074 18.28025053\n",
      "  32.89947219 35.29024606 40.32110429 19.57906548 22.50713598 13.60787221\n",
      "  24.93664514 25.36965247 17.99227794 15.58736122 29.00723153 20.60266522\n",
      "  10.753509   30.98212935 13.87509703 27.34442736 17.5848934  34.29614526\n",
      "  35.6157017  13.00934198  5.49865758 20.57559184 11.41338795 17.8877795\n",
      "  37.3128064  21.08750781 24.35162719 24.34813817 29.97004441 14.13231269\n",
      "  37.90348615 18.85414821 17.47483053 24.68774665 20.31772213 11.50351304\n",
      "  24.22431104 27.06726683  8.93362872  4.45188644 20.88990426 28.0644856\n",
      "  20.03431424 19.72309141 34.6234874  15.73334857 21.61944608 17.54136958\n",
      "  21.55401658 16.06241071 27.92792251 30.97698586 21.72633211 20.51831151\n",
      "  20.52542752 13.39934814 38.20594394 24.0945985  18.53867062 41.2176101\n",
      "  38.92838078 18.6310235  13.88426789 13.28487791 28.57886566 19.14669563\n",
      "  20.77513481 18.26254443 17.18765511 23.04462552 19.76271527 21.37515165\n",
      "  26.79193418 12.78024445 18.28801925 27.00073536 10.45205815 23.37170919\n",
      "  24.47984309 29.97109845 34.37634061 31.26341581 20.20496754 27.05257942\n",
      "  28.74819437 38.4394567  15.97577655 32.56349172 30.74836453 12.58800657\n",
      "  17.47321465 17.60376121  7.80840801 24.85343671 29.33672046 22.96758242\n",
      "  19.83372432 32.3742869  22.10355127 32.68538364 12.37937361 32.75345913\n",
      "  29.4963272  29.59152045 24.0952545  30.17619705 32.24890635 34.53836461\n",
      "   5.9427403  22.43634181 32.27618659 31.35695127 19.99704017 25.28450938\n",
      "  28.95309386]]\n"
     ]
    }
   ],
   "source": [
    "print(Y_hat_1)"
   ]
  },
  {
   "cell_type": "code",
   "execution_count": 40,
   "metadata": {},
   "outputs": [],
   "source": [
    "from sklearn.linear_model import LinearRegression"
   ]
  },
  {
   "cell_type": "code",
   "execution_count": 41,
   "metadata": {},
   "outputs": [],
   "source": [
    "lin_reg = LinearRegression()"
   ]
  },
  {
   "cell_type": "code",
   "execution_count": 42,
   "metadata": {},
   "outputs": [
    {
     "name": "stdout",
     "output_type": "stream",
     "text": [
      "(1, 379)\n"
     ]
    },
    {
     "data": {
      "text/plain": [
       "LinearRegression(copy_X=True, fit_intercept=True, n_jobs=None,\n",
       "         normalize=False)"
      ]
     },
     "execution_count": 42,
     "metadata": {},
     "output_type": "execute_result"
    }
   ],
   "source": [
    "print(Y_train.shape)\n",
    "lin_reg.fit(X_train.T,Y_train.T)"
   ]
  },
  {
   "cell_type": "code",
   "execution_count": 43,
   "metadata": {},
   "outputs": [],
   "source": [
    "from sklearn import metrics"
   ]
  },
  {
   "cell_type": "code",
   "execution_count": 44,
   "metadata": {},
   "outputs": [
    {
     "name": "stdout",
     "output_type": "stream",
     "text": [
      "4.44317703930745\n"
     ]
    }
   ],
   "source": [
    "print(np.sqrt(metrics.mean_squared_error(Y_train, Y_hat_1)))"
   ]
  },
  {
   "cell_type": "code",
   "execution_count": 45,
   "metadata": {},
   "outputs": [],
   "source": [
    "y_pred_1=lin_reg.predict(X_train.T)\n",
    "y_pred_1=y_pred_1.T"
   ]
  },
  {
   "cell_type": "code",
   "execution_count": 46,
   "metadata": {},
   "outputs": [
    {
     "name": "stdout",
     "output_type": "stream",
     "text": [
      "4.44317703930745\n"
     ]
    }
   ],
   "source": [
    "print(np.sqrt(metrics.mean_squared_error(Y_train, y_pred_1)))"
   ]
  },
  {
   "cell_type": "code",
   "execution_count": 47,
   "metadata": {},
   "outputs": [
    {
     "name": "stdout",
     "output_type": "stream",
     "text": [
      "(1, 379)\n"
     ]
    }
   ],
   "source": [
    "print(y_pred_1.shape)"
   ]
  },
  {
   "cell_type": "code",
   "execution_count": 48,
   "metadata": {},
   "outputs": [],
   "source": [
    "data2 = df.values"
   ]
  },
  {
   "cell_type": "code",
   "execution_count": 49,
   "metadata": {},
   "outputs": [],
   "source": [
    "X2=data[:,:-1].copy()\n",
    "Y2=data[:,-1].copy()"
   ]
  },
  {
   "cell_type": "code",
   "execution_count": 52,
   "metadata": {},
   "outputs": [],
   "source": [
    "X_train_2, X_test_2, Y_train_2, Y_test_2 = train_test_split(X2,Y2)"
   ]
  },
  {
   "cell_type": "code",
   "execution_count": 56,
   "metadata": {},
   "outputs": [],
   "source": [
    "y_pred_test = lin_reg.predict(X_test.T)"
   ]
  },
  {
   "cell_type": "code",
   "execution_count": 54,
   "metadata": {},
   "outputs": [
    {
     "name": "stdout",
     "output_type": "stream",
     "text": [
      "(14, 127)\n"
     ]
    }
   ],
   "source": [
    "print(X_test_1.shape)"
   ]
  },
  {
   "cell_type": "code",
   "execution_count": 55,
   "metadata": {},
   "outputs": [
    {
     "name": "stdout",
     "output_type": "stream",
     "text": [
      "(13, 127)\n"
     ]
    }
   ],
   "source": [
    "print(X_test.shape)"
   ]
  },
  {
   "cell_type": "code",
   "execution_count": 57,
   "metadata": {},
   "outputs": [
    {
     "name": "stdout",
     "output_type": "stream",
     "text": [
      "5.4473815605858755\n"
     ]
    }
   ],
   "source": [
    "print(np.sqrt(metrics.mean_squared_error(Y_test, y_pred_test.T)))"
   ]
  },
  {
   "cell_type": "code",
   "execution_count": null,
   "metadata": {},
   "outputs": [],
   "source": []
  }
 ],
 "metadata": {
  "kernelspec": {
   "display_name": "Python 3",
   "language": "python",
   "name": "python3"
  },
  "language_info": {
   "codemirror_mode": {
    "name": "ipython",
    "version": 3
   },
   "file_extension": ".py",
   "mimetype": "text/x-python",
   "name": "python",
   "nbconvert_exporter": "python",
   "pygments_lexer": "ipython3",
   "version": "3.7.3"
  }
 },
 "nbformat": 4,
 "nbformat_minor": 2
}
