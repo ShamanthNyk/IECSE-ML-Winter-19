{
 "cells": [
  {
   "cell_type": "code",
   "execution_count": 1,
   "metadata": {},
   "outputs": [],
   "source": [
    "def insert_element(l, i, elem):\n",
    "    \"\"\"\n",
    "    Returns a new list containing elem at index i. If i > len (l), insert element at the end of the list\n",
    "    \"\"\"      \n",
    "    if i>len(l):\n",
    "        l.append(elem)\n",
    "    else:\n",
    "        l.insert(i,elem)\n",
    "    \n",
    "    return l\n",
    "\n",
    "assert(insert_element([1, 2, 3, 4,], 2, 5)[2]) == 5\n",
    "assert(insert_element([1, 5, ], 3, 5)) == [1, 5, 5]"
   ]
  },
  {
   "cell_type": "code",
   "execution_count": 2,
   "metadata": {},
   "outputs": [
    {
     "data": {
      "text/plain": [
       "5"
      ]
     },
     "execution_count": 2,
     "metadata": {},
     "output_type": "execute_result"
    }
   ],
   "source": [
    "insert_element([1, 2, 3, 4,], 2, 5)[2]"
   ]
  },
  {
   "cell_type": "code",
   "execution_count": null,
   "metadata": {},
   "outputs": [],
   "source": []
  }
 ],
 "metadata": {
  "kernelspec": {
   "display_name": "Python 3",
   "language": "python",
   "name": "python3"
  },
  "language_info": {
   "codemirror_mode": {
    "name": "ipython",
    "version": 3
   },
   "file_extension": ".py",
   "mimetype": "text/x-python",
   "name": "python",
   "nbconvert_exporter": "python",
   "pygments_lexer": "ipython3",
   "version": "3.7.3"
  }
 },
 "nbformat": 4,
 "nbformat_minor": 2
}
