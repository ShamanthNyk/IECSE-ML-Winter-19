{
 "cells": [
  {
   "cell_type": "code",
   "execution_count": 1,
   "metadata": {},
   "outputs": [
    {
     "name": "stdout",
     "output_type": "stream",
     "text": [
      "> 1,2,3\n",
      "3\n"
     ]
    }
   ],
   "source": [
    "def last_element(l):\n",
    "    return l[-1]\n",
    "l=input(\"> \")\n",
    "print(last_element(l))"
   ]
  },
  {
   "cell_type": "code",
   "execution_count": 2,
   "metadata": {},
   "outputs": [
    {
     "name": "stdout",
     "output_type": "stream",
     "text": [
      "> 1,2\n",
      "2\n"
     ]
    }
   ],
   "source": [
    "def num_elements(l):\n",
    "    return len(l)\n",
    "a=input(\"> \")\n",
    "l=a.split(\",\")\n",
    "print(num_elements(l))"
   ]
  },
  {
   "cell_type": "code",
   "execution_count": 12,
   "metadata": {},
   "outputs": [
    {
     "name": "stdout",
     "output_type": "stream",
     "text": [
      "[1, 2, 3, 4, 5]\n"
     ]
    }
   ],
   "source": [
    "def compress(l):\n",
    "    unique=[]\n",
    "    for item in l:\n",
    "        if item not in unique:\n",
    "            unique.append(item)\n",
    "    return unique\n",
    "\n",
    "a=[1,2,2,3,3,3,4,4,5]\n",
    "print(compress(a))\n",
    "    "
   ]
  },
  {
   "cell_type": "code",
   "execution_count": 11,
   "metadata": {},
   "outputs": [
    {
     "name": "stdout",
     "output_type": "stream",
     "text": [
      "[6, 5, 4, 2, 1]\n"
     ]
    }
   ],
   "source": [
    "l=[1,2,4,5,6]\n",
    "def reverse_list(l):\n",
    "    l.reverse()\n",
    "    return l\n",
    "print(reverse_list(l))\n",
    "assert reverse_list([2,3,4])== [4,3,2]\n"
   ]
  },
  {
   "cell_type": "code",
   "execution_count": 14,
   "metadata": {},
   "outputs": [
    {
     "name": "stdout",
     "output_type": "stream",
     "text": [
      "[1, 5, 2, 3, 5, 6, 7, 8]\n"
     ]
    }
   ],
   "source": [
    "l=[1,2,3,5,6,7,8]\n",
    "def insert_element(l):\n",
    "    l.insert(1,5)\n",
    "    return l\n",
    "print(insert_element(l))\n",
    "    "
   ]
  },
  {
   "cell_type": "code",
   "execution_count": 16,
   "metadata": {},
   "outputs": [
    {
     "name": "stdout",
     "output_type": "stream",
     "text": [
      "1\n",
      "5\n",
      "[2, 4, 5, 6]\n"
     ]
    }
   ],
   "source": [
    "l=[1,2,4,5,6,7]\n",
    "nl=[]\n",
    "i=int(input())\n",
    "k=int(input())\n",
    "def slice(l, i, k):\n",
    "    for j in range(i,k):\n",
    "        nl.append(l[j])\n",
    "    return nl\n",
    "print(slice(l, i, k))"
   ]
  },
  {
   "cell_type": "code",
   "execution_count": 17,
   "metadata": {},
   "outputs": [
    {
     "name": "stdout",
     "output_type": "stream",
     "text": [
      "True\n"
     ]
    }
   ],
   "source": [
    "l=[1,2,2,3,3,4,3,3,2,2,1]\n",
    "def is_palandrome(l):\n",
    "    s=len(l)\n",
    "    flag=0\n",
    "    for i in range (0,s):\n",
    "        if(l[i]==l[s-i-1]):\n",
    "            flag=1\n",
    "        else:\n",
    "            flag=0\n",
    "    if flag==1:\n",
    "        return True\n",
    "    else:\n",
    "        return False\n",
    "print(is_palandrome(l))\n",
    "assert(is_palandrome([1,2,1]))==True\n",
    "assert(is_palandrome([1,2,3,4]))==False"
   ]
  },
  {
   "cell_type": "code",
   "execution_count": 7,
   "metadata": {},
   "outputs": [
    {
     "name": "stdout",
     "output_type": "stream",
     "text": [
      "[[1, 1, 1], [2, 2, 2, 2], [3, 3]]\n",
      "None\n"
     ]
    }
   ],
   "source": [
    "x=[1,1,1,2,2,2,2,3,3]\n",
    "def pack(ar):\n",
    "    i=0\n",
    "    k=0\n",
    "    p=[]\n",
    "    p.append(ar[0])\n",
    "    t=[[]]\n",
    "    l=[0]\n",
    "    count=1\n",
    "    while i<len(ar)-1:\n",
    "        if ar[i]!=ar[i+1]:\n",
    "            k=i\n",
    "            i=i+1\n",
    "            l.append(i)\n",
    "            t.append([])\n",
    "            p.append(ar[i])\n",
    "            count=count+1\n",
    "        else:\n",
    "            i=i+1\n",
    "            count=count+0\n",
    "    l.append(len(ar))\n",
    "    \n",
    "    \n",
    "    j=0\n",
    "    for i in range(len(l)-1):\n",
    "        for j in range(l[i+1]-l[i]):\n",
    "            t[i].append(p[i])\n",
    "    print(t)\n",
    "    \n",
    "print(pack(x))\n"
   ]
  },
  {
   "cell_type": "code",
   "execution_count": null,
   "metadata": {},
   "outputs": [],
   "source": []
  }
 ],
 "metadata": {
  "kernelspec": {
   "display_name": "Python 3",
   "language": "python",
   "name": "python3"
  },
  "language_info": {
   "codemirror_mode": {
    "name": "ipython",
    "version": 3
   },
   "file_extension": ".py",
   "mimetype": "text/x-python",
   "name": "python",
   "nbconvert_exporter": "python",
   "pygments_lexer": "ipython3",
   "version": "3.7.4"
  }
 },
 "nbformat": 4,
 "nbformat_minor": 2
}
