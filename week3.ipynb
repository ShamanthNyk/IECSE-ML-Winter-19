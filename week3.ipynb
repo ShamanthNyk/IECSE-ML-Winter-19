{
 "cells": [
  {
   "cell_type": "code",
   "execution_count": 513,
   "metadata": {},
   "outputs": [],
   "source": [
    "import numpy as np\n",
    "import pandas as pd\n",
    "import matplotlib.pyplot as plt\n",
    "%matplotlib inline"
   ]
  },
  {
   "cell_type": "code",
   "execution_count": 514,
   "metadata": {},
   "outputs": [],
   "source": [
    "data= pd.read_csv(\"IECSE-ML-Winter-19/Logistic Regression Assignment/gender_submission.csv\")\n",
    "train_data=pd.read_csv(\"IECSE-ML-Winter-19/Logistic Regression Assignment/train.csv\")\n",
    "test_data=pd.read_csv(\"IECSE-ML-Winter-19/Logistic Regression Assignment/test.csv\")\n",
    "lr = 0.01\n",
    "#filling all NaN with 0\n",
    "train_data=train_data.fillna(0)\n",
    "test_data=test_data.fillna(0)"
   ]
  },
  {
   "cell_type": "code",
   "execution_count": 515,
   "metadata": {},
   "outputs": [
    {
     "data": {
      "text/html": [
       "<div>\n",
       "<style scoped>\n",
       "    .dataframe tbody tr th:only-of-type {\n",
       "        vertical-align: middle;\n",
       "    }\n",
       "\n",
       "    .dataframe tbody tr th {\n",
       "        vertical-align: top;\n",
       "    }\n",
       "\n",
       "    .dataframe thead th {\n",
       "        text-align: right;\n",
       "    }\n",
       "</style>\n",
       "<table border=\"1\" class=\"dataframe\">\n",
       "  <thead>\n",
       "    <tr style=\"text-align: right;\">\n",
       "      <th></th>\n",
       "      <th>PassengerId</th>\n",
       "      <th>Survived</th>\n",
       "      <th>Pclass</th>\n",
       "      <th>Name</th>\n",
       "      <th>Sex</th>\n",
       "      <th>Age</th>\n",
       "      <th>SibSp</th>\n",
       "      <th>Parch</th>\n",
       "      <th>Ticket</th>\n",
       "      <th>Fare</th>\n",
       "      <th>Cabin</th>\n",
       "      <th>Embarked</th>\n",
       "    </tr>\n",
       "  </thead>\n",
       "  <tbody>\n",
       "    <tr>\n",
       "      <td>0</td>\n",
       "      <td>1</td>\n",
       "      <td>0</td>\n",
       "      <td>3</td>\n",
       "      <td>Braund, Mr. Owen Harris</td>\n",
       "      <td>male</td>\n",
       "      <td>22.0</td>\n",
       "      <td>1</td>\n",
       "      <td>0</td>\n",
       "      <td>A/5 21171</td>\n",
       "      <td>7.2500</td>\n",
       "      <td>0</td>\n",
       "      <td>S</td>\n",
       "    </tr>\n",
       "    <tr>\n",
       "      <td>1</td>\n",
       "      <td>2</td>\n",
       "      <td>1</td>\n",
       "      <td>1</td>\n",
       "      <td>Cumings, Mrs. John Bradley (Florence Briggs Th...</td>\n",
       "      <td>female</td>\n",
       "      <td>38.0</td>\n",
       "      <td>1</td>\n",
       "      <td>0</td>\n",
       "      <td>PC 17599</td>\n",
       "      <td>71.2833</td>\n",
       "      <td>C85</td>\n",
       "      <td>C</td>\n",
       "    </tr>\n",
       "    <tr>\n",
       "      <td>2</td>\n",
       "      <td>3</td>\n",
       "      <td>1</td>\n",
       "      <td>3</td>\n",
       "      <td>Heikkinen, Miss. Laina</td>\n",
       "      <td>female</td>\n",
       "      <td>26.0</td>\n",
       "      <td>0</td>\n",
       "      <td>0</td>\n",
       "      <td>STON/O2. 3101282</td>\n",
       "      <td>7.9250</td>\n",
       "      <td>0</td>\n",
       "      <td>S</td>\n",
       "    </tr>\n",
       "    <tr>\n",
       "      <td>3</td>\n",
       "      <td>4</td>\n",
       "      <td>1</td>\n",
       "      <td>1</td>\n",
       "      <td>Futrelle, Mrs. Jacques Heath (Lily May Peel)</td>\n",
       "      <td>female</td>\n",
       "      <td>35.0</td>\n",
       "      <td>1</td>\n",
       "      <td>0</td>\n",
       "      <td>113803</td>\n",
       "      <td>53.1000</td>\n",
       "      <td>C123</td>\n",
       "      <td>S</td>\n",
       "    </tr>\n",
       "    <tr>\n",
       "      <td>4</td>\n",
       "      <td>5</td>\n",
       "      <td>0</td>\n",
       "      <td>3</td>\n",
       "      <td>Allen, Mr. William Henry</td>\n",
       "      <td>male</td>\n",
       "      <td>35.0</td>\n",
       "      <td>0</td>\n",
       "      <td>0</td>\n",
       "      <td>373450</td>\n",
       "      <td>8.0500</td>\n",
       "      <td>0</td>\n",
       "      <td>S</td>\n",
       "    </tr>\n",
       "  </tbody>\n",
       "</table>\n",
       "</div>"
      ],
      "text/plain": [
       "   PassengerId  Survived  Pclass  \\\n",
       "0            1         0       3   \n",
       "1            2         1       1   \n",
       "2            3         1       3   \n",
       "3            4         1       1   \n",
       "4            5         0       3   \n",
       "\n",
       "                                                Name     Sex   Age  SibSp  \\\n",
       "0                            Braund, Mr. Owen Harris    male  22.0      1   \n",
       "1  Cumings, Mrs. John Bradley (Florence Briggs Th...  female  38.0      1   \n",
       "2                             Heikkinen, Miss. Laina  female  26.0      0   \n",
       "3       Futrelle, Mrs. Jacques Heath (Lily May Peel)  female  35.0      1   \n",
       "4                           Allen, Mr. William Henry    male  35.0      0   \n",
       "\n",
       "   Parch            Ticket     Fare Cabin Embarked  \n",
       "0      0         A/5 21171   7.2500     0        S  \n",
       "1      0          PC 17599  71.2833   C85        C  \n",
       "2      0  STON/O2. 3101282   7.9250     0        S  \n",
       "3      0            113803  53.1000  C123        S  \n",
       "4      0            373450   8.0500     0        S  "
      ]
     },
     "execution_count": 515,
     "metadata": {},
     "output_type": "execute_result"
    }
   ],
   "source": [
    "train_data.head()"
   ]
  },
  {
   "cell_type": "code",
   "execution_count": 516,
   "metadata": {},
   "outputs": [
    {
     "data": {
      "text/html": [
       "<div>\n",
       "<style scoped>\n",
       "    .dataframe tbody tr th:only-of-type {\n",
       "        vertical-align: middle;\n",
       "    }\n",
       "\n",
       "    .dataframe tbody tr th {\n",
       "        vertical-align: top;\n",
       "    }\n",
       "\n",
       "    .dataframe thead th {\n",
       "        text-align: right;\n",
       "    }\n",
       "</style>\n",
       "<table border=\"1\" class=\"dataframe\">\n",
       "  <thead>\n",
       "    <tr style=\"text-align: right;\">\n",
       "      <th></th>\n",
       "      <th>PassengerId</th>\n",
       "      <th>Pclass</th>\n",
       "      <th>Name</th>\n",
       "      <th>Sex</th>\n",
       "      <th>Age</th>\n",
       "      <th>SibSp</th>\n",
       "      <th>Parch</th>\n",
       "      <th>Ticket</th>\n",
       "      <th>Fare</th>\n",
       "      <th>Cabin</th>\n",
       "      <th>Embarked</th>\n",
       "    </tr>\n",
       "  </thead>\n",
       "  <tbody>\n",
       "    <tr>\n",
       "      <td>0</td>\n",
       "      <td>892</td>\n",
       "      <td>3</td>\n",
       "      <td>Kelly, Mr. James</td>\n",
       "      <td>male</td>\n",
       "      <td>34.5</td>\n",
       "      <td>0</td>\n",
       "      <td>0</td>\n",
       "      <td>330911</td>\n",
       "      <td>7.8292</td>\n",
       "      <td>0</td>\n",
       "      <td>Q</td>\n",
       "    </tr>\n",
       "    <tr>\n",
       "      <td>1</td>\n",
       "      <td>893</td>\n",
       "      <td>3</td>\n",
       "      <td>Wilkes, Mrs. James (Ellen Needs)</td>\n",
       "      <td>female</td>\n",
       "      <td>47.0</td>\n",
       "      <td>1</td>\n",
       "      <td>0</td>\n",
       "      <td>363272</td>\n",
       "      <td>7.0000</td>\n",
       "      <td>0</td>\n",
       "      <td>S</td>\n",
       "    </tr>\n",
       "    <tr>\n",
       "      <td>2</td>\n",
       "      <td>894</td>\n",
       "      <td>2</td>\n",
       "      <td>Myles, Mr. Thomas Francis</td>\n",
       "      <td>male</td>\n",
       "      <td>62.0</td>\n",
       "      <td>0</td>\n",
       "      <td>0</td>\n",
       "      <td>240276</td>\n",
       "      <td>9.6875</td>\n",
       "      <td>0</td>\n",
       "      <td>Q</td>\n",
       "    </tr>\n",
       "    <tr>\n",
       "      <td>3</td>\n",
       "      <td>895</td>\n",
       "      <td>3</td>\n",
       "      <td>Wirz, Mr. Albert</td>\n",
       "      <td>male</td>\n",
       "      <td>27.0</td>\n",
       "      <td>0</td>\n",
       "      <td>0</td>\n",
       "      <td>315154</td>\n",
       "      <td>8.6625</td>\n",
       "      <td>0</td>\n",
       "      <td>S</td>\n",
       "    </tr>\n",
       "    <tr>\n",
       "      <td>4</td>\n",
       "      <td>896</td>\n",
       "      <td>3</td>\n",
       "      <td>Hirvonen, Mrs. Alexander (Helga E Lindqvist)</td>\n",
       "      <td>female</td>\n",
       "      <td>22.0</td>\n",
       "      <td>1</td>\n",
       "      <td>1</td>\n",
       "      <td>3101298</td>\n",
       "      <td>12.2875</td>\n",
       "      <td>0</td>\n",
       "      <td>S</td>\n",
       "    </tr>\n",
       "  </tbody>\n",
       "</table>\n",
       "</div>"
      ],
      "text/plain": [
       "   PassengerId  Pclass                                          Name     Sex  \\\n",
       "0          892       3                              Kelly, Mr. James    male   \n",
       "1          893       3              Wilkes, Mrs. James (Ellen Needs)  female   \n",
       "2          894       2                     Myles, Mr. Thomas Francis    male   \n",
       "3          895       3                              Wirz, Mr. Albert    male   \n",
       "4          896       3  Hirvonen, Mrs. Alexander (Helga E Lindqvist)  female   \n",
       "\n",
       "    Age  SibSp  Parch   Ticket     Fare Cabin Embarked  \n",
       "0  34.5      0      0   330911   7.8292     0        Q  \n",
       "1  47.0      1      0   363272   7.0000     0        S  \n",
       "2  62.0      0      0   240276   9.6875     0        Q  \n",
       "3  27.0      0      0   315154   8.6625     0        S  \n",
       "4  22.0      1      1  3101298  12.2875     0        S  "
      ]
     },
     "execution_count": 516,
     "metadata": {},
     "output_type": "execute_result"
    }
   ],
   "source": [
    "test_data.head()"
   ]
  },
  {
   "cell_type": "code",
   "execution_count": 517,
   "metadata": {},
   "outputs": [
    {
     "data": {
      "text/plain": [
       "0    549\n",
       "1    342\n",
       "Name: Survived, dtype: int64"
      ]
     },
     "execution_count": 517,
     "metadata": {},
     "output_type": "execute_result"
    }
   ],
   "source": [
    "train_data.Survived.value_counts()"
   ]
  },
  {
   "cell_type": "code",
   "execution_count": 518,
   "metadata": {},
   "outputs": [],
   "source": [
    "#test.Survived.value_counts()-->error#thats what we find"
   ]
  },
  {
   "cell_type": "code",
   "execution_count": 519,
   "metadata": {},
   "outputs": [
    {
     "data": {
      "text/plain": [
       "0    266\n",
       "1    152\n",
       "Name: Survived, dtype: int64"
      ]
     },
     "execution_count": 519,
     "metadata": {},
     "output_type": "execute_result"
    }
   ],
   "source": [
    "target.Survived.value_counts()"
   ]
  },
  {
   "cell_type": "code",
   "execution_count": 520,
   "metadata": {},
   "outputs": [
    {
     "data": {
      "text/plain": [
       "(891, 12)"
      ]
     },
     "execution_count": 520,
     "metadata": {},
     "output_type": "execute_result"
    }
   ],
   "source": [
    "train_data.shape"
   ]
  },
  {
   "cell_type": "code",
   "execution_count": 521,
   "metadata": {},
   "outputs": [
    {
     "data": {
      "text/plain": [
       "(418, 11)"
      ]
     },
     "execution_count": 521,
     "metadata": {},
     "output_type": "execute_result"
    }
   ],
   "source": [
    "test_data.shape"
   ]
  },
  {
   "cell_type": "code",
   "execution_count": 522,
   "metadata": {},
   "outputs": [],
   "source": [
    "#creating dummy variables\n",
    "train_data_sex = pd.get_dummies(train_data['Sex'])\n",
    "train_data_new = pd.concat([train_data, train_data_sex], axis=1)\n",
    "train_data_new = train_data_new.drop('Sex', axis=1)\n",
    "\n",
    "train_data_em = pd.get_dummies(train_data_new['Embarked'])\n",
    "train_data_new = pd.concat([train_data_new, train_data_em], axis=1)\n",
    "train_data_new = train_data_new.drop('Embarked', axis=1)\n",
    "\n",
    "train_data_new = train_data_new.drop('Ticket', axis=1)\n",
    "train_data_new = train_data_new.drop('Name', axis=1)\n",
    "train_data_new = train_data_new.drop('Cabin', axis=1)\n",
    "train_data_new = train_data_new.drop('PassengerId',axis=1)"
   ]
  },
  {
   "cell_type": "code",
   "execution_count": 523,
   "metadata": {},
   "outputs": [
    {
     "data": {
      "text/html": [
       "<div>\n",
       "<style scoped>\n",
       "    .dataframe tbody tr th:only-of-type {\n",
       "        vertical-align: middle;\n",
       "    }\n",
       "\n",
       "    .dataframe tbody tr th {\n",
       "        vertical-align: top;\n",
       "    }\n",
       "\n",
       "    .dataframe thead th {\n",
       "        text-align: right;\n",
       "    }\n",
       "</style>\n",
       "<table border=\"1\" class=\"dataframe\">\n",
       "  <thead>\n",
       "    <tr style=\"text-align: right;\">\n",
       "      <th></th>\n",
       "      <th>Pclass</th>\n",
       "      <th>Age</th>\n",
       "      <th>SibSp</th>\n",
       "      <th>Parch</th>\n",
       "      <th>Fare</th>\n",
       "      <th>female</th>\n",
       "      <th>male</th>\n",
       "      <th>0</th>\n",
       "      <th>C</th>\n",
       "      <th>Q</th>\n",
       "      <th>S</th>\n",
       "    </tr>\n",
       "  </thead>\n",
       "  <tbody>\n",
       "    <tr>\n",
       "      <td>0</td>\n",
       "      <td>0.345679</td>\n",
       "      <td>-0.022491</td>\n",
       "      <td>0.059624</td>\n",
       "      <td>-0.063599</td>\n",
       "      <td>-0.048707</td>\n",
       "      <td>-0.352413</td>\n",
       "      <td>0.352413</td>\n",
       "      <td>-0.002245</td>\n",
       "      <td>-0.188552</td>\n",
       "      <td>-0.08642</td>\n",
       "      <td>0.277217</td>\n",
       "    </tr>\n",
       "    <tr>\n",
       "      <td>1</td>\n",
       "      <td>-0.654321</td>\n",
       "      <td>0.177509</td>\n",
       "      <td>0.059624</td>\n",
       "      <td>-0.063599</td>\n",
       "      <td>0.076277</td>\n",
       "      <td>0.647587</td>\n",
       "      <td>-0.647587</td>\n",
       "      <td>-0.002245</td>\n",
       "      <td>0.811448</td>\n",
       "      <td>-0.08642</td>\n",
       "      <td>-0.722783</td>\n",
       "    </tr>\n",
       "    <tr>\n",
       "      <td>2</td>\n",
       "      <td>0.345679</td>\n",
       "      <td>0.027509</td>\n",
       "      <td>-0.065376</td>\n",
       "      <td>-0.063599</td>\n",
       "      <td>-0.047390</td>\n",
       "      <td>0.647587</td>\n",
       "      <td>-0.647587</td>\n",
       "      <td>-0.002245</td>\n",
       "      <td>-0.188552</td>\n",
       "      <td>-0.08642</td>\n",
       "      <td>0.277217</td>\n",
       "    </tr>\n",
       "    <tr>\n",
       "      <td>3</td>\n",
       "      <td>-0.654321</td>\n",
       "      <td>0.140009</td>\n",
       "      <td>0.059624</td>\n",
       "      <td>-0.063599</td>\n",
       "      <td>0.040786</td>\n",
       "      <td>0.647587</td>\n",
       "      <td>-0.647587</td>\n",
       "      <td>-0.002245</td>\n",
       "      <td>-0.188552</td>\n",
       "      <td>-0.08642</td>\n",
       "      <td>0.277217</td>\n",
       "    </tr>\n",
       "    <tr>\n",
       "      <td>4</td>\n",
       "      <td>0.345679</td>\n",
       "      <td>0.140009</td>\n",
       "      <td>-0.065376</td>\n",
       "      <td>-0.063599</td>\n",
       "      <td>-0.047146</td>\n",
       "      <td>-0.352413</td>\n",
       "      <td>0.352413</td>\n",
       "      <td>-0.002245</td>\n",
       "      <td>-0.188552</td>\n",
       "      <td>-0.08642</td>\n",
       "      <td>0.277217</td>\n",
       "    </tr>\n",
       "    <tr>\n",
       "      <td>...</td>\n",
       "      <td>...</td>\n",
       "      <td>...</td>\n",
       "      <td>...</td>\n",
       "      <td>...</td>\n",
       "      <td>...</td>\n",
       "      <td>...</td>\n",
       "      <td>...</td>\n",
       "      <td>...</td>\n",
       "      <td>...</td>\n",
       "      <td>...</td>\n",
       "      <td>...</td>\n",
       "    </tr>\n",
       "    <tr>\n",
       "      <td>886</td>\n",
       "      <td>-0.154321</td>\n",
       "      <td>0.040009</td>\n",
       "      <td>-0.065376</td>\n",
       "      <td>-0.063599</td>\n",
       "      <td>-0.037484</td>\n",
       "      <td>-0.352413</td>\n",
       "      <td>0.352413</td>\n",
       "      <td>-0.002245</td>\n",
       "      <td>-0.188552</td>\n",
       "      <td>-0.08642</td>\n",
       "      <td>0.277217</td>\n",
       "    </tr>\n",
       "    <tr>\n",
       "      <td>887</td>\n",
       "      <td>-0.654321</td>\n",
       "      <td>-0.059991</td>\n",
       "      <td>-0.065376</td>\n",
       "      <td>-0.063599</td>\n",
       "      <td>-0.004302</td>\n",
       "      <td>0.647587</td>\n",
       "      <td>-0.647587</td>\n",
       "      <td>-0.002245</td>\n",
       "      <td>-0.188552</td>\n",
       "      <td>-0.08642</td>\n",
       "      <td>0.277217</td>\n",
       "    </tr>\n",
       "    <tr>\n",
       "      <td>888</td>\n",
       "      <td>0.345679</td>\n",
       "      <td>-0.297491</td>\n",
       "      <td>0.059624</td>\n",
       "      <td>0.269734</td>\n",
       "      <td>-0.017087</td>\n",
       "      <td>0.647587</td>\n",
       "      <td>-0.647587</td>\n",
       "      <td>-0.002245</td>\n",
       "      <td>-0.188552</td>\n",
       "      <td>-0.08642</td>\n",
       "      <td>0.277217</td>\n",
       "    </tr>\n",
       "    <tr>\n",
       "      <td>889</td>\n",
       "      <td>-0.654321</td>\n",
       "      <td>0.027509</td>\n",
       "      <td>-0.065376</td>\n",
       "      <td>-0.063599</td>\n",
       "      <td>-0.004302</td>\n",
       "      <td>-0.352413</td>\n",
       "      <td>0.352413</td>\n",
       "      <td>-0.002245</td>\n",
       "      <td>0.811448</td>\n",
       "      <td>-0.08642</td>\n",
       "      <td>-0.722783</td>\n",
       "    </tr>\n",
       "    <tr>\n",
       "      <td>890</td>\n",
       "      <td>0.345679</td>\n",
       "      <td>0.102509</td>\n",
       "      <td>-0.065376</td>\n",
       "      <td>-0.063599</td>\n",
       "      <td>-0.047731</td>\n",
       "      <td>-0.352413</td>\n",
       "      <td>0.352413</td>\n",
       "      <td>-0.002245</td>\n",
       "      <td>-0.188552</td>\n",
       "      <td>0.91358</td>\n",
       "      <td>-0.722783</td>\n",
       "    </tr>\n",
       "  </tbody>\n",
       "</table>\n",
       "<p>891 rows × 11 columns</p>\n",
       "</div>"
      ],
      "text/plain": [
       "       Pclass       Age     SibSp     Parch      Fare    female      male  \\\n",
       "0    0.345679 -0.022491  0.059624 -0.063599 -0.048707 -0.352413  0.352413   \n",
       "1   -0.654321  0.177509  0.059624 -0.063599  0.076277  0.647587 -0.647587   \n",
       "2    0.345679  0.027509 -0.065376 -0.063599 -0.047390  0.647587 -0.647587   \n",
       "3   -0.654321  0.140009  0.059624 -0.063599  0.040786  0.647587 -0.647587   \n",
       "4    0.345679  0.140009 -0.065376 -0.063599 -0.047146 -0.352413  0.352413   \n",
       "..        ...       ...       ...       ...       ...       ...       ...   \n",
       "886 -0.154321  0.040009 -0.065376 -0.063599 -0.037484 -0.352413  0.352413   \n",
       "887 -0.654321 -0.059991 -0.065376 -0.063599 -0.004302  0.647587 -0.647587   \n",
       "888  0.345679 -0.297491  0.059624  0.269734 -0.017087  0.647587 -0.647587   \n",
       "889 -0.654321  0.027509 -0.065376 -0.063599 -0.004302 -0.352413  0.352413   \n",
       "890  0.345679  0.102509 -0.065376 -0.063599 -0.047731 -0.352413  0.352413   \n",
       "\n",
       "            0         C        Q         S  \n",
       "0   -0.002245 -0.188552 -0.08642  0.277217  \n",
       "1   -0.002245  0.811448 -0.08642 -0.722783  \n",
       "2   -0.002245 -0.188552 -0.08642  0.277217  \n",
       "3   -0.002245 -0.188552 -0.08642  0.277217  \n",
       "4   -0.002245 -0.188552 -0.08642  0.277217  \n",
       "..        ...       ...      ...       ...  \n",
       "886 -0.002245 -0.188552 -0.08642  0.277217  \n",
       "887 -0.002245 -0.188552 -0.08642  0.277217  \n",
       "888 -0.002245 -0.188552 -0.08642  0.277217  \n",
       "889 -0.002245  0.811448 -0.08642 -0.722783  \n",
       "890 -0.002245 -0.188552  0.91358 -0.722783  \n",
       "\n",
       "[891 rows x 11 columns]"
      ]
     },
     "execution_count": 523,
     "metadata": {},
     "output_type": "execute_result"
    }
   ],
   "source": [
    "norm = (train_data_new-train_data_new.mean())/(train_data_new.max()-train_data_new.min())#normalised train data \n",
    "#including Survived column\n",
    "features =norm.drop('Survived', axis=1)\n",
    "targets =train_data_new.iloc[:,0:1]\n",
    "features"
   ]
  },
  {
   "cell_type": "code",
   "execution_count": 524,
   "metadata": {},
   "outputs": [
    {
     "name": "stdout",
     "output_type": "stream",
     "text": [
      "(891, 11) (891, 1)\n"
     ]
    }
   ],
   "source": [
    "features=np.array(features)\n",
    "targets=np.array(targets)\n",
    "print(features.shape,targets.shape)"
   ]
  },
  {
   "cell_type": "code",
   "execution_count": 525,
   "metadata": {},
   "outputs": [
    {
     "data": {
      "text/plain": [
       "(11, 1)"
      ]
     },
     "execution_count": 525,
     "metadata": {},
     "output_type": "execute_result"
    }
   ],
   "source": [
    "weights = np.zeros([11,1])\n",
    "weights.shape"
   ]
  },
  {
   "cell_type": "code",
   "execution_count": 526,
   "metadata": {},
   "outputs": [],
   "source": [
    "def predict(features, weights):\n",
    "    z = np.dot(features, weights)\n",
    "    predictions=1/(1+np.exp(-z))\n",
    "    return predictions"
   ]
  },
  {
   "cell_type": "code",
   "execution_count": 527,
   "metadata": {},
   "outputs": [
    {
     "data": {
      "text/plain": [
       "array([[ 0.34567901, -0.02249116,  0.05962402, -0.06359895, -0.04870737,\n",
       "        -0.35241302,  0.35241302, -0.00224467, -0.18855219, -0.08641975,\n",
       "         0.27721661],\n",
       "       [-0.65432099,  0.17750884,  0.05962402, -0.06359895,  0.07627731,\n",
       "         0.64758698, -0.64758698, -0.00224467,  0.81144781, -0.08641975,\n",
       "        -0.72278339],\n",
       "       [ 0.34567901,  0.02750884, -0.06537598, -0.06359895, -0.04738986,\n",
       "         0.64758698, -0.64758698, -0.00224467, -0.18855219, -0.08641975,\n",
       "         0.27721661],\n",
       "       [-0.65432099,  0.14000884,  0.05962402, -0.06359895,  0.04078587,\n",
       "         0.64758698, -0.64758698, -0.00224467, -0.18855219, -0.08641975,\n",
       "         0.27721661],\n",
       "       [ 0.34567901,  0.14000884, -0.06537598, -0.06359895, -0.04714587,\n",
       "        -0.35241302,  0.35241302, -0.00224467, -0.18855219, -0.08641975,\n",
       "         0.27721661]])"
      ]
     },
     "execution_count": 527,
     "metadata": {},
     "output_type": "execute_result"
    }
   ],
   "source": [
    "features[:5]"
   ]
  },
  {
   "cell_type": "code",
   "execution_count": 528,
   "metadata": {},
   "outputs": [
    {
     "data": {
      "text/plain": [
       "array([[0.],\n",
       "       [0.],\n",
       "       [0.],\n",
       "       [0.],\n",
       "       [0.]])"
      ]
     },
     "execution_count": 528,
     "metadata": {},
     "output_type": "execute_result"
    }
   ],
   "source": [
    "weights[:5]"
   ]
  },
  {
   "cell_type": "code",
   "execution_count": 529,
   "metadata": {},
   "outputs": [
    {
     "data": {
      "text/plain": [
       "array([[0.5],\n",
       "       [0.5],\n",
       "       [0.5],\n",
       "       [0.5],\n",
       "       [0.5]])"
      ]
     },
     "execution_count": 529,
     "metadata": {},
     "output_type": "execute_result"
    }
   ],
   "source": [
    "predict(features, weights)[:5]"
   ]
  },
  {
   "cell_type": "code",
   "execution_count": 530,
   "metadata": {},
   "outputs": [],
   "source": [
    "# loss=cost (h(x),y)=-y(log(h(x)))-(1-y)log(1-h(x));y=targets(0 or 1);h(x)=predictions(0 to 1)\n",
    "#J(theta)=-loss/m;N=no.of training examples=m;J(theta) for logistic regression=mse for linear regression\n",
    "def loss_function(features, targets, weights):\n",
    "    N = len(targets)#891\n",
    "    predictions = predict(features, weights)\n",
    "    loss = targets*np.log(predictions)+(1-targets)*np.log(1-predictions)\n",
    "    mse=(-1/N)*loss.sum()\n",
    "    return mse"
   ]
  },
  {
   "cell_type": "code",
   "execution_count": 531,
   "metadata": {},
   "outputs": [
    {
     "data": {
      "text/plain": [
       "(891, 11)"
      ]
     },
     "execution_count": 531,
     "metadata": {},
     "output_type": "execute_result"
    }
   ],
   "source": [
    "features.shape"
   ]
  },
  {
   "cell_type": "code",
   "execution_count": 532,
   "metadata": {},
   "outputs": [],
   "source": [
    "#gradient descent looks same as for linear but is diff as h(x)is diff in both cases\n",
    "#features.T -->x(i)\n",
    "#(11,891)*(891,1)---->(11,1)--->thetas\n",
    "def update_weights(features, targets, weights, lr):\n",
    "    N = len(features)\n",
    "    predictions = predict(features, weights)\n",
    "    gradient = np.dot(features.T,  predictions - targets)\n",
    "    gradient /= N\n",
    "    gradient *= lr\n",
    "    weights -= gradient\n",
    "    \n",
    "    return weights"
   ]
  },
  {
   "cell_type": "code",
   "execution_count": 533,
   "metadata": {},
   "outputs": [],
   "source": [
    "def train(features,targets, weights, lr, iters=10000):\n",
    "    cost_history = []\n",
    "\n",
    "    for i in range(10000):\n",
    "        weights = update_weights(features,targets, weights, lr)\n",
    "        cost = loss_function(features,targets, weights)\n",
    "        cost_history.append(cost)    \n",
    "    return cost_history,weights"
   ]
  },
  {
   "cell_type": "code",
   "execution_count": 534,
   "metadata": {},
   "outputs": [],
   "source": [
    "mse,weights=train(features,targets, weights, lr, iters=10000)"
   ]
  },
  {
   "cell_type": "code",
   "execution_count": 535,
   "metadata": {},
   "outputs": [
    {
     "data": {
      "image/png": "[encoded data removed]",
      "text/plain": [
       "<Figure size 432x288 with 1 Axes>"
      ]
     },
     "metadata": {
      "needs_background": "light"
     },
     "output_type": "display_data"
    }
   ],
   "source": [
    "cost_history=[]\n",
    "for i in range(10000):\n",
    "        weights = update_weights(features,targets, weights, lr)\n",
    "        cost = loss_function(features,targets, weights)\n",
    "        cost_history.append(cost)\n",
    "        \n",
    "arr =[]\n",
    "for i in range(1,10001):\n",
    "    arr.append(i)\n",
    "plt.plot(arr,cost_history)\n",
    "plt.xlabel(\"Iters\")\n",
    "plt.ylabel(\"Cost\")\n",
    "plt.show()"
   ]
  },
  {
   "cell_type": "code",
   "execution_count": 536,
   "metadata": {},
   "outputs": [
    {
     "data": {
      "text/plain": [
       "array([[-1.80487755],\n",
       "       [-0.67695262],\n",
       "       [-0.71650169],\n",
       "       [-0.33462938],\n",
       "       [ 0.38704655]])"
      ]
     },
     "execution_count": 536,
     "metadata": {},
     "output_type": "execute_result"
    }
   ],
   "source": [
    "weights[:5]"
   ]
  },
  {
   "cell_type": "code",
   "execution_count": 537,
   "metadata": {},
   "outputs": [
    {
     "data": {
      "text/plain": [
       "array([[0.15416455],\n",
       "       [0.96049613],\n",
       "       [0.73581434],\n",
       "       [0.93688556],\n",
       "       [0.15159547]])"
      ]
     },
     "execution_count": 537,
     "metadata": {},
     "output_type": "execute_result"
    }
   ],
   "source": [
    "predictions=predict(features, weights)\n",
    "predictions[:5]"
   ]
  },
  {
   "cell_type": "code",
   "execution_count": 538,
   "metadata": {},
   "outputs": [
    {
     "data": {
      "text/plain": [
       "array([[0],\n",
       "       [1],\n",
       "       [1],\n",
       "       [1],\n",
       "       [0]])"
      ]
     },
     "execution_count": 538,
     "metadata": {},
     "output_type": "execute_result"
    }
   ],
   "source": [
    "targets[:5]#if we compare targets with predictions they are almost \n",
    "#similar hence now we can say our model is trained"
   ]
  },
  {
   "cell_type": "code",
   "execution_count": 539,
   "metadata": {},
   "outputs": [
    {
     "name": "stdout",
     "output_type": "stream",
     "text": [
      "train accuracy: 68.12676860431614 %\n"
     ]
    }
   ],
   "source": [
    "print(\"train accuracy: {} %\".format(100 - np.mean(np.abs(targets -predictions)) * 100))"
   ]
  },
  {
   "cell_type": "code",
   "execution_count": 540,
   "metadata": {},
   "outputs": [],
   "source": [
    "test_data_sex = pd.get_dummies(test_data['Sex'])\n",
    "test_data_new = pd.concat([test_data, test_data_sex], axis=1)\n",
    "test_data_new = test_data_new.drop('Sex', axis=1)\n",
    "\n",
    "test_data_em = pd.get_dummies(test_data_new['Embarked'])\n",
    "test_data_new = pd.concat([test_data_new, test_data_em], axis=1)\n",
    "test_data_new = test_data_new.drop('Embarked', axis=1)\n",
    "\n",
    "test_data_new = test_data_new.drop('Ticket', axis=1)\n",
    "test_data_new = test_data_new.drop('Name', axis=1)\n",
    "test_data_new =test_data_new.drop('Cabin', axis=1)\n",
    "test_data_new = test_data_new.drop('PassengerId',axis=1)\n",
    "test_features=test_data_new\n",
    "#emarked:0 doesnt exist hence we create one\n",
    "em_0 = np.zeros([418,1])\n",
    "test_features['0']=em_0\n",
    "test_features=test_features[['Pclass','Age','SibSp','Parch','Fare','female','male','0','C','Q','S']]\n",
    "\n",
    "\n",
    "test_targets=data.drop('PassengerId',axis=1)\n"
   ]
  },
  {
   "cell_type": "code",
   "execution_count": 541,
   "metadata": {},
   "outputs": [
    {
     "name": "stdout",
     "output_type": "stream",
     "text": [
      "     Pclass   Age  SibSp  Parch      Fare  female  male    0  C  Q  S\n",
      "0         3  34.5      0      0    7.8292       0     1  0.0  0  1  0\n",
      "1         3  47.0      1      0    7.0000       1     0  0.0  0  0  1\n",
      "2         2  62.0      0      0    9.6875       0     1  0.0  0  1  0\n",
      "3         3  27.0      0      0    8.6625       0     1  0.0  0  0  1\n",
      "4         3  22.0      1      1   12.2875       1     0  0.0  0  0  1\n",
      "..      ...   ...    ...    ...       ...     ...   ...  ... .. .. ..\n",
      "413       3   0.0      0      0    8.0500       0     1  0.0  0  0  1\n",
      "414       1  39.0      0      0  108.9000       1     0  0.0  1  0  0\n",
      "415       3  38.5      0      0    7.2500       0     1  0.0  0  0  1\n",
      "416       3   0.0      0      0    8.0500       0     1  0.0  0  0  1\n",
      "417       3   0.0      1      1   22.3583       0     1  0.0  1  0  0\n",
      "\n",
      "[418 rows x 11 columns]\n",
      "(418, 11) (418, 1)\n"
     ]
    }
   ],
   "source": [
    "test_targets=data.drop('PassengerId',axis=1)\n",
    "\n",
    "\n",
    "#bias = np.ones(shape=(len(test_features),1))\n",
    "#test_features = np.append(bias, test_features, axis=1)\n",
    "\n",
    "norm = (test_features-test_features.mean())/(test_features.max()-test_features.min())\n",
    "print(test_features)\n",
    "\n",
    "\n",
    "\n",
    "test_features=np.array(test_features)\n",
    "test_targets=np.array(test_targets)\n",
    "print(test_features.shape,test_targets.shape)\n"
   ]
  },
  {
   "cell_type": "code",
   "execution_count": 542,
   "metadata": {},
   "outputs": [
    {
     "data": {
      "text/plain": [
       "array([[1.62863660e-12],\n",
       "       [1.45997761e-15],\n",
       "       [1.67157777e-19],\n",
       "       [2.98652248e-10],\n",
       "       [1.81019570e-07]])"
      ]
     },
     "execution_count": 542,
     "metadata": {},
     "output_type": "execute_result"
    }
   ],
   "source": [
    "new_predictions=predict(test_features, weights)\n",
    "new_predictions[:5]"
   ]
  },
  {
   "cell_type": "code",
   "execution_count": 543,
   "metadata": {},
   "outputs": [
    {
     "name": "stdout",
     "output_type": "stream",
     "text": [
      "test accuracy: 66.56764439396122 %\n"
     ]
    }
   ],
   "source": [
    "print(\"test accuracy: {} %\".format(100 - np.mean(np.abs(new_predictions - test_targets)) * 100))"
   ]
  },
  {
   "cell_type": "code",
   "execution_count": null,
   "metadata": {},
   "outputs": [],
   "source": []
  }
 ],
 "metadata": {
  "kernelspec": {
   "display_name": "Python 3",
   "language": "python",
   "name": "python3"
  },
  "language_info": {
   "codemirror_mode": {
    "name": "ipython",
    "version": 3
   },
   "file_extension": ".py",
   "mimetype": "text/x-python",
   "name": "python",
   "nbconvert_exporter": "python",
   "pygments_lexer": "ipython3",
   "version": "3.6.9"
  }
 },
 "nbformat": 4,
 "nbformat_minor": 2
}
